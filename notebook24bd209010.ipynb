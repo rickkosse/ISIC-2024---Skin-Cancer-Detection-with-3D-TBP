{
 "cells": [
  {
   "cell_type": "code",
   "execution_count": 1,
   "id": "351249c3",
   "metadata": {
    "execution": {
     "iopub.execute_input": "2024-07-25T12:55:29.506297Z",
     "iopub.status.busy": "2024-07-25T12:55:29.505317Z",
     "iopub.status.idle": "2024-07-25T12:55:51.950805Z",
     "shell.execute_reply": "2024-07-25T12:55:51.949708Z"
    },
    "papermill": {
     "duration": 22.456565,
     "end_time": "2024-07-25T12:55:51.953667",
     "exception": false,
     "start_time": "2024-07-25T12:55:29.497102",
     "status": "completed"
    },
    "tags": []
   },
   "outputs": [
    {
     "name": "stderr",
     "output_type": "stream",
     "text": [
      "2024-07-25 12:55:34.446281: E external/local_xla/xla/stream_executor/cuda/cuda_dnn.cc:9261] Unable to register cuDNN factory: Attempting to register factory for plugin cuDNN when one has already been registered\n",
      "2024-07-25 12:55:34.446472: E external/local_xla/xla/stream_executor/cuda/cuda_fft.cc:607] Unable to register cuFFT factory: Attempting to register factory for plugin cuFFT when one has already been registered\n",
      "2024-07-25 12:55:34.619277: E external/local_xla/xla/stream_executor/cuda/cuda_blas.cc:1515] Unable to register cuBLAS factory: Attempting to register factory for plugin cuBLAS when one has already been registered\n"
     ]
    }
   ],
   "source": [
    "import os\n",
    "import h5py\n",
    "import pandas as pd\n",
    "import numpy as np\n",
    "from sklearn.model_selection import train_test_split\n",
    "import tensorflow as tf\n",
    "from tensorflow.keras import layers\n",
    "from transformers import ViTFeatureExtractor, TFViTModel,ViTImageProcessor\n",
    "from PIL import Image\n",
    "from io import BytesIO"
   ]
  },
  {
   "cell_type": "markdown",
   "id": "d00ddae4",
   "metadata": {
    "papermill": {
     "duration": 0.005836,
     "end_time": "2024-07-25T12:55:51.966049",
     "exception": false,
     "start_time": "2024-07-25T12:55:51.960213",
     "status": "completed"
    },
    "tags": []
   },
   "source": [
    "# Load data"
   ]
  },
  {
   "cell_type": "code",
   "execution_count": 2,
   "id": "f288837e",
   "metadata": {
    "execution": {
     "iopub.execute_input": "2024-07-25T12:55:51.980104Z",
     "iopub.status.busy": "2024-07-25T12:55:51.979480Z",
     "iopub.status.idle": "2024-07-25T12:55:51.991794Z",
     "shell.execute_reply": "2024-07-25T12:55:51.990628Z"
    },
    "papermill": {
     "duration": 0.022007,
     "end_time": "2024-07-25T12:55:51.994075",
     "exception": false,
     "start_time": "2024-07-25T12:55:51.972068",
     "status": "completed"
    },
    "tags": []
   },
   "outputs": [],
   "source": [
    "\"\"\"2024 ISIC Challenge primary prize scoring metric\n",
    "\n",
    "Given a list of binary labels, an associated list of prediction \n",
    "scores ranging from [0,1], this function produces, as a single value, \n",
    "the partial area under the receiver operating characteristic (pAUC) \n",
    "above a given true positive rate (TPR).\n",
    "https://en.wikipedia.org/wiki/Partial_Area_Under_the_ROC_Curve.\n",
    "\n",
    "(c) 2024 Nicholas R Kurtansky, MSKCC\n",
    "\"\"\"\n",
    "\n",
    "\n",
    "class ParticipantVisibleError(Exception):\n",
    "    pass\n",
    "\n",
    "\n",
    "def score(solution: pd.DataFrame, submission: pd.DataFrame, row_id_column_name: str, min_tpr: float=0.80) -> float:\n",
    "    '''\n",
    "    2024 ISIC Challenge metric: pAUC\n",
    "    \n",
    "    Given a solution file and submission file, this function returns the\n",
    "    the partial area under the receiver operating characteristic (pAUC) \n",
    "    above a given true positive rate (TPR) = 0.80.\n",
    "    https://en.wikipedia.org/wiki/Partial_Area_Under_the_ROC_Curve.\n",
    "    \n",
    "    (c) 2024 Nicholas R Kurtansky, MSKCC\n",
    "\n",
    "    Args:\n",
    "        solution: ground truth pd.DataFrame of 1s and 0s\n",
    "        submission: solution dataframe of predictions of scores ranging [0, 1]\n",
    "\n",
    "    Returns:\n",
    "        Float value range [0, max_fpr]\n",
    "    '''\n",
    "\n",
    "    del solution[row_id_column_name]\n",
    "    del submission[row_id_column_name]\n",
    "\n",
    "    # check submission is numeric\n",
    "    if not pd.api.types.is_numeric_dtype(submission.values):\n",
    "        raise ParticipantVisibleError('Submission target column must be numeric')\n",
    "\n",
    "    # rescale the target. set 0s to 1s and 1s to 0s (since sklearn only has max_fpr)\n",
    "    v_gt = abs(np.asarray(solution.values)-1)\n",
    "    \n",
    "    # flip the submissions to their compliments\n",
    "    v_pred = -1.0*np.asarray(submission.values)\n",
    "\n",
    "    max_fpr = abs(1-min_tpr)\n",
    "\n",
    "    # using sklearn.metric functions: (1) roc_curve and (2) auc\n",
    "    fpr, tpr, _ = roc_curve(v_gt, v_pred, sample_weight=None)\n",
    "    if max_fpr is None or max_fpr == 1:\n",
    "        return auc(fpr, tpr)\n",
    "    if max_fpr <= 0 or max_fpr > 1:\n",
    "        raise ValueError(\"Expected min_tpr in range [0, 1), got: %r\" % min_tpr)\n",
    "        \n",
    "    # Add a single point at max_fpr by linear interpolation\n",
    "    stop = np.searchsorted(fpr, max_fpr, \"right\")\n",
    "    x_interp = [fpr[stop - 1], fpr[stop]]\n",
    "    y_interp = [tpr[stop - 1], tpr[stop]]\n",
    "    tpr = np.append(tpr[:stop], np.interp(max_fpr, x_interp, y_interp))\n",
    "    fpr = np.append(fpr[:stop], max_fpr)\n",
    "    partial_auc = auc(fpr, tpr)\n",
    "\n",
    "    #     # Equivalent code that uses sklearn's roc_auc_score\n",
    "    #     v_gt = abs(np.asarray(solution.values)-1)\n",
    "    #     v_pred = np.array([1.0 - x for x in submission.values])\n",
    "    #     max_fpr = abs(1-min_tpr)\n",
    "    #     partial_auc_scaled = roc_auc_score(v_gt, v_pred, max_fpr=max_fpr)\n",
    "    #     # change scale from [0.5, 1.0] to [0.5 * max_fpr**2, max_fpr]\n",
    "    #     # https://math.stackexchange.com/questions/914823/shift-numbers-into-a-different-range\n",
    "    #     partial_auc = 0.5 * max_fpr**2 + (max_fpr - 0.5 * max_fpr**2) / (1.0 - 0.5) * (partial_auc_scaled - 0.5)\n",
    "    \n",
    "    return(partial_auc)"
   ]
  },
  {
   "cell_type": "code",
   "execution_count": 3,
   "id": "076796b5",
   "metadata": {
    "execution": {
     "iopub.execute_input": "2024-07-25T12:55:52.008315Z",
     "iopub.status.busy": "2024-07-25T12:55:52.007967Z",
     "iopub.status.idle": "2024-07-25T12:55:52.020488Z",
     "shell.execute_reply": "2024-07-25T12:55:52.019313Z"
    },
    "papermill": {
     "duration": 0.022384,
     "end_time": "2024-07-25T12:55:52.022849",
     "exception": false,
     "start_time": "2024-07-25T12:55:52.000465",
     "status": "completed"
    },
    "tags": []
   },
   "outputs": [],
   "source": [
    "\n",
    "# Define the ISICDataset class\n",
    "class ISICDataset(tf.keras.utils.Sequence):\n",
    "    def __init__(self, hdf5_file, isic_ids, targets=None, feature_extractor=None, batch_size=32):\n",
    "        self.hdf5_file = hdf5_file\n",
    "        self.isic_ids = isic_ids\n",
    "        self.targets = targets\n",
    "        self.feature_extractor = feature_extractor\n",
    "        self.batch_size = batch_size\n",
    "        \n",
    "    def __len__(self):\n",
    "        return len(self.isic_ids)\n",
    "    \n",
    "    def __getitem__(self, idx):\n",
    "        isic_id = str(self.isic_ids[idx])\n",
    "        image = Image.open(BytesIO(self.hdf5_file[isic_id][()]))\n",
    "        image = image.convert(\"RGB\")\n",
    "        image = np.array(image)\n",
    "        if self.feature_extractor:\n",
    "            image = self.feature_extractor(images=image, return_tensors=\"tf\").pixel_values[0]\n",
    "        if self.targets is not None:\n",
    "            target = self.targets[idx]\n",
    "            return image, target\n",
    "        else:\n",
    "            return image\n",
    "    \n",
    "    def _load_image(self, isic_id):\n",
    "        isic_id = str(isic_id)\n",
    "        image = Image.open(BytesIO(self.hdf5_file[isic_id][()]))\n",
    "        image = image.convert(\"RGB\")\n",
    "        image = np.array(image)\n",
    "        if self.feature_extractor:\n",
    "            image = self.feature_extractor(images=image, return_tensors=\"tf\").pixel_values[0]\n",
    "        return image\n",
    "\n",
    "    def _generator(self):\n",
    "        for idx in range(len(self.isic_ids)):\n",
    "            yield self._load_image(self.isic_ids[idx]), self.targets[idx]\n",
    "\n",
    "    def to_tf_dataset(self):\n",
    "        tf_dataset = tf.data.Dataset.from_generator(self._generator, \n",
    "                                                    output_signature=(tf.TensorSpec(shape=(3, 224, 224), dtype=tf.float32),\n",
    "                                                                      tf.TensorSpec(shape=(), dtype=tf.int64)))\n",
    "        tf_dataset = tf_dataset.batch(self.batch_size).prefetch(buffer_size=tf.data.AUTOTUNE).repeat()\n",
    "        return tf_dataset"
   ]
  },
  {
   "cell_type": "code",
   "execution_count": 4,
   "id": "74b1cc2f",
   "metadata": {
    "execution": {
     "iopub.execute_input": "2024-07-25T12:55:52.036950Z",
     "iopub.status.busy": "2024-07-25T12:55:52.036581Z",
     "iopub.status.idle": "2024-07-25T12:55:52.042534Z",
     "shell.execute_reply": "2024-07-25T12:55:52.041405Z"
    },
    "papermill": {
     "duration": 0.015538,
     "end_time": "2024-07-25T12:55:52.044759",
     "exception": false,
     "start_time": "2024-07-25T12:55:52.029221",
     "status": "completed"
    },
    "tags": []
   },
   "outputs": [],
   "source": [
    "# Load data\n",
    "data_path = '/kaggle/input/isic-2024-challenge/'\n",
    "\n",
    "path_train_hdf5 = os.path.join(data_path, 'train-image.hdf5')\n",
    "path_test_hdf5 = os.path.join(data_path, 'test-image.hdf5')\n",
    "\n",
    "path_train_meta = data_path + 'train-metadata.csv'\n",
    "path_test_meta = data_path + 'test-metadata.csv'\n"
   ]
  },
  {
   "cell_type": "code",
   "execution_count": 5,
   "id": "292375b8",
   "metadata": {
    "execution": {
     "iopub.execute_input": "2024-07-25T12:55:52.059089Z",
     "iopub.status.busy": "2024-07-25T12:55:52.058727Z",
     "iopub.status.idle": "2024-07-25T12:55:52.077885Z",
     "shell.execute_reply": "2024-07-25T12:55:52.076659Z"
    },
    "papermill": {
     "duration": 0.029151,
     "end_time": "2024-07-25T12:55:52.080283",
     "exception": false,
     "start_time": "2024-07-25T12:55:52.051132",
     "status": "completed"
    },
    "tags": []
   },
   "outputs": [],
   "source": [
    "train_hdf5 = h5py.File(path_train_hdf5, 'r')\n",
    "test_hdf5 = h5py.File(path_test_hdf5, 'r')"
   ]
  },
  {
   "cell_type": "code",
   "execution_count": 6,
   "id": "08ad6fcb",
   "metadata": {
    "execution": {
     "iopub.execute_input": "2024-07-25T12:55:52.094851Z",
     "iopub.status.busy": "2024-07-25T12:55:52.094490Z",
     "iopub.status.idle": "2024-07-25T12:56:00.206754Z",
     "shell.execute_reply": "2024-07-25T12:56:00.205554Z"
    },
    "papermill": {
     "duration": 8.122544,
     "end_time": "2024-07-25T12:56:00.209462",
     "exception": false,
     "start_time": "2024-07-25T12:55:52.086918",
     "status": "completed"
    },
    "tags": []
   },
   "outputs": [
    {
     "name": "stderr",
     "output_type": "stream",
     "text": [
      "/tmp/ipykernel_18/938936479.py:1: DtypeWarning: Columns (51,52) have mixed types. Specify dtype option on import or set low_memory=False.\n",
      "  train_meta = pd.read_csv(path_train_meta)\n"
     ]
    }
   ],
   "source": [
    "train_meta = pd.read_csv(path_train_meta)\n",
    "test_meta = pd.read_csv(path_test_meta)"
   ]
  },
  {
   "cell_type": "code",
   "execution_count": 7,
   "id": "fde0c673",
   "metadata": {
    "execution": {
     "iopub.execute_input": "2024-07-25T12:56:00.224361Z",
     "iopub.status.busy": "2024-07-25T12:56:00.223619Z",
     "iopub.status.idle": "2024-07-25T12:56:00.321221Z",
     "shell.execute_reply": "2024-07-25T12:56:00.319922Z"
    },
    "papermill": {
     "duration": 0.107876,
     "end_time": "2024-07-25T12:56:00.323940",
     "exception": false,
     "start_time": "2024-07-25T12:56:00.216064",
     "status": "completed"
    },
    "tags": []
   },
   "outputs": [],
   "source": [
    "# read in the isic ids and target values\n",
    "train_isic_ids = train_meta['isic_id'].values\n",
    "train_isic_ids = train_meta[train_meta['lesion_id'].notnull()]['isic_id'].values\n",
    "\n",
    "test_isic_ids = test_meta['isic_id'].values\n",
    "\n",
    "train_targets = train_meta[train_meta['lesion_id'].notnull()]['target'].values"
   ]
  },
  {
   "cell_type": "code",
   "execution_count": 8,
   "id": "38e84c2c",
   "metadata": {
    "execution": {
     "iopub.execute_input": "2024-07-25T12:56:00.338778Z",
     "iopub.status.busy": "2024-07-25T12:56:00.338385Z",
     "iopub.status.idle": "2024-07-25T12:56:00.346537Z",
     "shell.execute_reply": "2024-07-25T12:56:00.345408Z"
    },
    "papermill": {
     "duration": 0.018452,
     "end_time": "2024-07-25T12:56:00.348885",
     "exception": false,
     "start_time": "2024-07-25T12:56:00.330433",
     "status": "completed"
    },
    "tags": []
   },
   "outputs": [],
   "source": [
    "total_size = len(train_targets)\n",
    "indices = np.arange(total_size)\n",
    "\n",
    "train_size = int(total_size * 0.8)\n",
    "val_size = total_size - train_size\n",
    "\n",
    "train_indices, val_indices = train_test_split(indices, test_size=val_size, train_size=train_size)\n"
   ]
  },
  {
   "cell_type": "code",
   "execution_count": 9,
   "id": "9b379f97",
   "metadata": {
    "execution": {
     "iopub.execute_input": "2024-07-25T12:56:00.363704Z",
     "iopub.status.busy": "2024-07-25T12:56:00.363186Z",
     "iopub.status.idle": "2024-07-25T12:56:05.544536Z",
     "shell.execute_reply": "2024-07-25T12:56:05.543307Z"
    },
    "papermill": {
     "duration": 5.191785,
     "end_time": "2024-07-25T12:56:05.547092",
     "exception": false,
     "start_time": "2024-07-25T12:56:00.355307",
     "status": "completed"
    },
    "tags": []
   },
   "outputs": [
    {
     "name": "stderr",
     "output_type": "stream",
     "text": [
      "/opt/conda/lib/python3.10/site-packages/transformers/models/vit/feature_extraction_vit.py:28: FutureWarning: The class ViTFeatureExtractor is deprecated and will be removed in version 5 of Transformers. Please use ViTImageProcessor instead.\n",
      "  warnings.warn(\n",
      "All model checkpoint layers were used when initializing TFViTModel.\n",
      "\n",
      "All the layers of TFViTModel were initialized from the model checkpoint at /kaggle/input/pre_trained_vit16/tensorflow2/default/1.\n",
      "If your task is similar to the task the model of the checkpoint was trained on, you can already use TFViTModel for predictions without further training.\n"
     ]
    }
   ],
   "source": [
    "# Laad de feature extractor\n",
    "# model_name = 'google/vit-base-patch16-224'\n",
    "# feature_extractor = ViTFeatureExtractor.from_pretrained(model_name)\n",
    "# # Laad het ViT-model\n",
    "# vit_model = TFViTModel.from_pretrained(model_name)\n",
    "\n",
    "\n",
    "# # # Sla de feature extractor en het model lokaal op\n",
    "# feature_extractor.save_pretrained('./kaggle/tmp/vit-base-patch16-224-finetuned')\n",
    "# vit_model.save_pretrained('./kaggle/tmp/vit-base-patch16-224-finetuned')\n",
    "\n",
    "\n",
    "# Laad de feature extractor en het model lokaal\n",
    "feature_extractor = ViTFeatureExtractor.from_pretrained('/kaggle/input/pre_trained_vit16/tensorflow2/default/1')\n",
    "vit_model = TFViTModel.from_pretrained('/kaggle/input/pre_trained_vit16/tensorflow2/default/1')\n",
    "\n"
   ]
  },
  {
   "cell_type": "code",
   "execution_count": 10,
   "id": "23599777",
   "metadata": {
    "execution": {
     "iopub.execute_input": "2024-07-25T12:56:05.564783Z",
     "iopub.status.busy": "2024-07-25T12:56:05.563276Z",
     "iopub.status.idle": "2024-07-25T12:56:05.571459Z",
     "shell.execute_reply": "2024-07-25T12:56:05.570288Z"
    },
    "papermill": {
     "duration": 0.019654,
     "end_time": "2024-07-25T12:56:05.574047",
     "exception": false,
     "start_time": "2024-07-25T12:56:05.554393",
     "status": "completed"
    },
    "tags": []
   },
   "outputs": [],
   "source": [
    "\n",
    "# # Maak de train en val datasets\n",
    "train_dataset = ISICDataset(train_hdf5, train_isic_ids[train_indices], targets=train_targets[train_indices], feature_extractor=feature_extractor)\n",
    "val_dataset = ISICDataset(train_hdf5, train_isic_ids[val_indices], targets=train_targets[val_indices], feature_extractor=feature_extractor)\n"
   ]
  },
  {
   "cell_type": "code",
   "execution_count": 11,
   "id": "251908b2",
   "metadata": {
    "execution": {
     "iopub.execute_input": "2024-07-25T12:56:05.589048Z",
     "iopub.status.busy": "2024-07-25T12:56:05.588648Z",
     "iopub.status.idle": "2024-07-25T12:56:05.675441Z",
     "shell.execute_reply": "2024-07-25T12:56:05.674424Z"
    },
    "papermill": {
     "duration": 0.097193,
     "end_time": "2024-07-25T12:56:05.677954",
     "exception": false,
     "start_time": "2024-07-25T12:56:05.580761",
     "status": "completed"
    },
    "tags": []
   },
   "outputs": [],
   "source": [
    "# # Maak TensorFlow datasets\n",
    "tf_train_dataset = train_dataset.to_tf_dataset()\n",
    "tf_val_dataset = val_dataset.to_tf_dataset()"
   ]
  },
  {
   "cell_type": "code",
   "execution_count": 12,
   "id": "b22cc5a4",
   "metadata": {
    "execution": {
     "iopub.execute_input": "2024-07-25T12:56:05.693790Z",
     "iopub.status.busy": "2024-07-25T12:56:05.693260Z",
     "iopub.status.idle": "2024-07-25T12:56:05.735250Z",
     "shell.execute_reply": "2024-07-25T12:56:05.734158Z"
    },
    "papermill": {
     "duration": 0.053207,
     "end_time": "2024-07-25T12:56:05.737789",
     "exception": false,
     "start_time": "2024-07-25T12:56:05.684582",
     "status": "completed"
    },
    "tags": []
   },
   "outputs": [],
   "source": [
    "# # Combineer de datasets\n",
    "combined_isic_ids = np.concatenate([train_isic_ids[train_indices], train_isic_ids[val_indices]])\n",
    "combined_targets = np.concatenate([train_targets[train_indices], train_targets[val_indices]])\n",
    "\n",
    "combined_dataset = ISICDataset(train_hdf5, combined_isic_ids, targets=combined_targets, feature_extractor=feature_extractor)\n",
    "tf_combined_dataset = combined_dataset.to_tf_dataset()\n"
   ]
  },
  {
   "cell_type": "code",
   "execution_count": 13,
   "id": "70682021",
   "metadata": {
    "execution": {
     "iopub.execute_input": "2024-07-25T12:56:05.752998Z",
     "iopub.status.busy": "2024-07-25T12:56:05.752015Z",
     "iopub.status.idle": "2024-07-25T12:56:05.758880Z",
     "shell.execute_reply": "2024-07-25T12:56:05.757848Z"
    },
    "papermill": {
     "duration": 0.0169,
     "end_time": "2024-07-25T12:56:05.761170",
     "exception": false,
     "start_time": "2024-07-25T12:56:05.744270",
     "status": "completed"
    },
    "tags": []
   },
   "outputs": [],
   "source": [
    "# Definieer de CustomViTModel class\n",
    "class CustomViTModel(tf.keras.Model):\n",
    "    def __init__(self, backbone, num_classes, **kwargs):\n",
    "        super(CustomViTModel, self).__init__(**kwargs)\n",
    "        self.backbone = backbone\n",
    "        self.dense = layers.Dense(num_classes, activation='softmax')\n",
    "\n",
    "    def call(self, inputs):\n",
    "        outputs = self.backbone(inputs).last_hidden_state[:, 0, :]\n",
    "        outputs = self.dense(outputs)\n",
    "        return outputs"
   ]
  },
  {
   "cell_type": "code",
   "execution_count": 14,
   "id": "fbae100e",
   "metadata": {
    "execution": {
     "iopub.execute_input": "2024-07-25T12:56:05.775906Z",
     "iopub.status.busy": "2024-07-25T12:56:05.775515Z",
     "iopub.status.idle": "2024-07-25T12:56:05.784967Z",
     "shell.execute_reply": "2024-07-25T12:56:05.783836Z"
    },
    "papermill": {
     "duration": 0.019524,
     "end_time": "2024-07-25T12:56:05.787261",
     "exception": false,
     "start_time": "2024-07-25T12:56:05.767737",
     "status": "completed"
    },
    "tags": []
   },
   "outputs": [],
   "source": [
    "# Maak het CustomViTModel\n",
    "num_classes = len(np.unique(train_targets))\n",
    "custom_vit_model = CustomViTModel(vit_model, num_classes)"
   ]
  },
  {
   "cell_type": "code",
   "execution_count": 15,
   "id": "a2045213",
   "metadata": {
    "execution": {
     "iopub.execute_input": "2024-07-25T12:56:05.801744Z",
     "iopub.status.busy": "2024-07-25T12:56:05.801369Z",
     "iopub.status.idle": "2024-07-25T12:56:05.806109Z",
     "shell.execute_reply": "2024-07-25T12:56:05.805031Z"
    },
    "papermill": {
     "duration": 0.014383,
     "end_time": "2024-07-25T12:56:05.808200",
     "exception": false,
     "start_time": "2024-07-25T12:56:05.793817",
     "status": "completed"
    },
    "tags": []
   },
   "outputs": [],
   "source": [
    "# # Compileer het model met een gebruikelijke loss-functie\n",
    "# custom_vit_model.compile(optimizer=tf.keras.optimizers.Adam(learning_rate=1e-4),\n",
    "#                          loss='sparse_categorical_crossentropy',\n",
    "#                          metrics=['accuracy'])"
   ]
  },
  {
   "cell_type": "code",
   "execution_count": 16,
   "id": "004d78ed",
   "metadata": {
    "execution": {
     "iopub.execute_input": "2024-07-25T12:56:05.823463Z",
     "iopub.status.busy": "2024-07-25T12:56:05.822359Z",
     "iopub.status.idle": "2024-07-25T12:56:05.827672Z",
     "shell.execute_reply": "2024-07-25T12:56:05.826557Z"
    },
    "papermill": {
     "duration": 0.015407,
     "end_time": "2024-07-25T12:56:05.830101",
     "exception": false,
     "start_time": "2024-07-25T12:56:05.814694",
     "status": "completed"
    },
    "tags": []
   },
   "outputs": [],
   "source": [
    "steps_per_epoch = len(combined_dataset) // combined_dataset.batch_size"
   ]
  },
  {
   "cell_type": "code",
   "execution_count": 17,
   "id": "dfa01f3e",
   "metadata": {
    "execution": {
     "iopub.execute_input": "2024-07-25T12:56:05.845137Z",
     "iopub.status.busy": "2024-07-25T12:56:05.844759Z",
     "iopub.status.idle": "2024-07-25T12:56:05.849838Z",
     "shell.execute_reply": "2024-07-25T12:56:05.848629Z"
    },
    "papermill": {
     "duration": 0.015251,
     "end_time": "2024-07-25T12:56:05.852142",
     "exception": false,
     "start_time": "2024-07-25T12:56:05.836891",
     "status": "completed"
    },
    "tags": []
   },
   "outputs": [],
   "source": [
    "# Train het model met de gecombineerde dataset\n",
    "# history = custom_vit_model.fit(tf_train_dataset, epochs=1, steps_per_epoch=steps_per_epoch)"
   ]
  },
  {
   "cell_type": "code",
   "execution_count": 18,
   "id": "e591d972",
   "metadata": {
    "execution": {
     "iopub.execute_input": "2024-07-25T12:56:05.866756Z",
     "iopub.status.busy": "2024-07-25T12:56:05.866331Z",
     "iopub.status.idle": "2024-07-25T12:56:05.871489Z",
     "shell.execute_reply": "2024-07-25T12:56:05.870278Z"
    },
    "papermill": {
     "duration": 0.015019,
     "end_time": "2024-07-25T12:56:05.873765",
     "exception": false,
     "start_time": "2024-07-25T12:56:05.858746",
     "status": "completed"
    },
    "tags": []
   },
   "outputs": [],
   "source": [
    "# custom_vit_model.save('custom_vit_model_combined.h5')\n",
    "# Sla de modelgewichten op\n",
    "# custom_vit_model.save_weights('./kaggle/tmp/custom_vit_model_combined.weights.h5')\n",
    "\n",
    "# # Sla de feature extractor en het model lokaal op\n",
    "# feature_extractor.save_pretrai ned('./vit-base-patch16-224')\n",
    "# vit_model.save_pretrained('./vit-base-patch16-224')"
   ]
  },
  {
   "cell_type": "markdown",
   "id": "b5320b77",
   "metadata": {
    "papermill": {
     "duration": 0.006309,
     "end_time": "2024-07-25T12:56:05.886834",
     "exception": false,
     "start_time": "2024-07-25T12:56:05.880525",
     "status": "completed"
    },
    "tags": []
   },
   "source": [
    "Moi!"
   ]
  },
  {
   "cell_type": "code",
   "execution_count": 19,
   "id": "01b1275c",
   "metadata": {
    "execution": {
     "iopub.execute_input": "2024-07-25T12:56:05.901993Z",
     "iopub.status.busy": "2024-07-25T12:56:05.901619Z",
     "iopub.status.idle": "2024-07-25T12:56:05.906275Z",
     "shell.execute_reply": "2024-07-25T12:56:05.905195Z"
    },
    "papermill": {
     "duration": 0.015364,
     "end_time": "2024-07-25T12:56:05.908570",
     "exception": false,
     "start_time": "2024-07-25T12:56:05.893206",
     "status": "completed"
    },
    "tags": []
   },
   "outputs": [],
   "source": [
    "\n",
    "# # Verkrijg de voorspellingen van het model\n",
    "# predictions = custom_vit_model.predict(val_images)\n",
    "# predicted_probabilities = tf.reduce_max(predictions, axis=1)\n",
    "\n",
    "# # Binarize de test labels voor ROC berekening\n",
    "# val_labels_binary = (val_labels == 1).numpy().astype(int)\n"
   ]
  },
  {
   "cell_type": "markdown",
   "id": "566e2c01",
   "metadata": {
    "papermill": {
     "duration": 0.006229,
     "end_time": "2024-07-25T12:56:05.921288",
     "exception": false,
     "start_time": "2024-07-25T12:56:05.915059",
     "status": "completed"
    },
    "tags": []
   },
   "source": [
    "Gaat het goed!\n"
   ]
  },
  {
   "cell_type": "code",
   "execution_count": 20,
   "id": "0781a0cc",
   "metadata": {
    "execution": {
     "iopub.execute_input": "2024-07-25T12:56:05.936174Z",
     "iopub.status.busy": "2024-07-25T12:56:05.935790Z",
     "iopub.status.idle": "2024-07-25T12:56:05.940568Z",
     "shell.execute_reply": "2024-07-25T12:56:05.939420Z"
    },
    "papermill": {
     "duration": 0.015032,
     "end_time": "2024-07-25T12:56:05.943030",
     "exception": false,
     "start_time": "2024-07-25T12:56:05.927998",
     "status": "completed"
    },
    "tags": []
   },
   "outputs": [],
   "source": [
    "# # Bereken de ROC-curve en de pAUC\n",
    "# fpr, tpr, thresholds = roc_curve(val_labels_binary, predicted_probabilities)\n",
    "# partial_auc = auc(fpr, tpr)\n",
    "\n",
    "# print(f'Partial AUC: {partial_auc}')"
   ]
  },
  {
   "cell_type": "code",
   "execution_count": 21,
   "id": "df886035",
   "metadata": {
    "execution": {
     "iopub.execute_input": "2024-07-25T12:56:05.958584Z",
     "iopub.status.busy": "2024-07-25T12:56:05.958056Z",
     "iopub.status.idle": "2024-07-25T12:56:16.228870Z",
     "shell.execute_reply": "2024-07-25T12:56:16.227771Z"
    },
    "papermill": {
     "duration": 10.281401,
     "end_time": "2024-07-25T12:56:16.231223",
     "exception": false,
     "start_time": "2024-07-25T12:56:05.949822",
     "status": "completed"
    },
    "tags": []
   },
   "outputs": [
    {
     "name": "stderr",
     "output_type": "stream",
     "text": [
      "All model checkpoint layers were used when initializing TFViTModel.\n",
      "\n",
      "All the layers of TFViTModel were initialized from the model checkpoint at /kaggle/input/pre_trained_vit16/tensorflow2/default/1.\n",
      "If your task is similar to the task the model of the checkpoint was trained on, you can already use TFViTModel for predictions without further training.\n"
     ]
    },
    {
     "name": "stdout",
     "output_type": "stream",
     "text": [
      "\u001b[1m1/1\u001b[0m \u001b[32m━━━━━━━━━━━━━━━━━━━━\u001b[0m\u001b[37m\u001b[0m \u001b[1m6s\u001b[0m 6s/step\n"
     ]
    },
    {
     "name": "stderr",
     "output_type": "stream",
     "text": [
      "/opt/conda/lib/python3.10/contextlib.py:153: UserWarning: Your input ran out of data; interrupting training. Make sure that your dataset or generator can generate at least `steps_per_epoch * epochs` batches. You may need to use the `.repeat()` function when building your dataset.\n",
      "  self.gen.throw(typ, value, traceback)\n"
     ]
    }
   ],
   "source": [
    "# Definieer de CustomViTModel class\n",
    "class CustomViTModel(tf.keras.Model):\n",
    "    def __init__(self, backbone, num_classes, **kwargs):\n",
    "        super(CustomViTModel, self).__init__(**kwargs)\n",
    "        self.backbone = backbone\n",
    "        self.dense = layers.Dense(num_classes, activation='softmax')\n",
    "\n",
    "    def call(self, inputs):\n",
    "        outputs = self.backbone(inputs).last_hidden_state[:, 0, :]\n",
    "        outputs = self.dense(outputs)\n",
    "        return outputs\n",
    "\n",
    "# Registreren van de custom class\n",
    "tf.keras.utils.get_custom_objects()['CustomViTModel'] = CustomViTModel\n",
    "\n",
    "# Laad de feature extractor en het model lokaal\n",
    "feature_extractor = ViTFeatureExtractor.from_pretrained('/kaggle/input/pre_trained_vit16/tensorflow2/default/1', local_files_only=True)\n",
    "vit_model = TFViTModel.from_pretrained('/kaggle/input/pre_trained_vit16/tensorflow2/default/1', local_files_only=True)\n",
    "\n",
    "num_classes = len(np.unique(train_targets))\n",
    "custom_vit_model = CustomViTModel(vit_model, num_classes)\n",
    "custom_vit_model.load_weights('/kaggle/input/pre_trained_vit16/tensorflow2/default/1/custom_vit_model_combined.weights.h5')\n",
    "\n",
    "# Functie om testset voor te bereiden en te voorspellen\n",
    "def prepare_test_dataset(test_hdf5, test_isic_ids, feature_extractor, batch_size=32):\n",
    "    def _generator():\n",
    "        for isic_id in test_isic_ids:\n",
    "            isic_id = str(isic_id)\n",
    "            image = Image.open(BytesIO(test_hdf5[isic_id][()]))\n",
    "            image = image.convert(\"RGB\")\n",
    "            image = np.array(image)\n",
    "            image = feature_extractor(images=image, return_tensors=\"tf\").pixel_values[0]\n",
    "            yield image\n",
    "    \n",
    "    tf_test_dataset = tf.data.Dataset.from_generator(_generator, \n",
    "                                                     output_signature=tf.TensorSpec(shape=(3, 224, 224), dtype=tf.float32))\n",
    "    tf_test_dataset = tf_test_dataset.batch(batch_size).prefetch(buffer_size=tf.data.AUTOTUNE)\n",
    "    return tf_test_dataset\n",
    "\n",
    "# Voorbereiden van de testset\n",
    "data_path = '/kaggle/input/isic-2024-challenge/'\n",
    "path_test_hdf5 = os.path.join(data_path, 'test-image.hdf5')\n",
    "path_test_meta = data_path + 'test-metadata.csv'\n",
    "\n",
    "test_hdf5 = h5py.File(path_test_hdf5, 'r')\n",
    "test_meta = pd.read_csv(path_test_meta)\n",
    "test_isic_ids = test_meta['isic_id'].values\n",
    "\n",
    "tf_test_dataset = prepare_test_dataset(test_hdf5, test_isic_ids, feature_extractor)\n",
    "\n",
    "# Genereer voorspellingen voor de testset\n",
    "predictions = custom_vit_model.predict(tf_test_dataset)\n",
    "predicted_probabilities = tf.reduce_max(predictions, axis=1).numpy()\n",
    "\n",
    "# Maak de submission dataframe\n",
    "submission = pd.DataFrame({'isic_id': test_isic_ids, 'target': predicted_probabilities})\n",
    "\n",
    "# Sla de submission dataframe op als CSV\n",
    "submission.to_csv('submission.csv', index=False)\n"
   ]
  },
  {
   "cell_type": "code",
   "execution_count": null,
   "id": "54b0e32b",
   "metadata": {
    "papermill": {
     "duration": 0.006565,
     "end_time": "2024-07-25T12:56:16.244855",
     "exception": false,
     "start_time": "2024-07-25T12:56:16.238290",
     "status": "completed"
    },
    "tags": []
   },
   "outputs": [],
   "source": []
  }
 ],
 "metadata": {
  "kaggle": {
   "accelerator": "none",
   "dataSources": [
    {
     "databundleVersionId": 9094797,
     "sourceId": 63056,
     "sourceType": "competition"
    },
    {
     "isSourceIdPinned": true,
     "modelId": 94212,
     "modelInstanceId": 69085,
     "sourceId": 82227,
     "sourceType": "modelInstanceVersion"
    }
   ],
   "dockerImageVersionId": 30732,
   "isGpuEnabled": false,
   "isInternetEnabled": true,
   "language": "python",
   "sourceType": "notebook"
  },
  "kernelspec": {
   "display_name": "Python 3",
   "language": "python",
   "name": "python3"
  },
  "language_info": {
   "codemirror_mode": {
    "name": "ipython",
    "version": 3
   },
   "file_extension": ".py",
   "mimetype": "text/x-python",
   "name": "python",
   "nbconvert_exporter": "python",
   "pygments_lexer": "ipython3",
   "version": "3.10.13"
  },
  "papermill": {
   "default_parameters": {},
   "duration": 52.173104,
   "end_time": "2024-07-25T12:56:18.718591",
   "environment_variables": {},
   "exception": null,
   "input_path": "__notebook__.ipynb",
   "output_path": "__notebook__.ipynb",
   "parameters": {},
   "start_time": "2024-07-25T12:55:26.545487",
   "version": "2.5.0"
  }
 },
 "nbformat": 4,
 "nbformat_minor": 5
}
