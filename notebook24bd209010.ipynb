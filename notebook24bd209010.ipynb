{
 "cells": [
  {
   "cell_type": "code",
   "execution_count": 1,
   "id": "83ed1def",
   "metadata": {
    "execution": {
     "iopub.execute_input": "2024-07-26T09:42:40.977408Z",
     "iopub.status.busy": "2024-07-26T09:42:40.977012Z",
     "iopub.status.idle": "2024-07-26T09:42:59.772378Z",
     "shell.execute_reply": "2024-07-26T09:42:59.771311Z"
    },
    "papermill": {
     "duration": 18.806004,
     "end_time": "2024-07-26T09:42:59.775040",
     "exception": false,
     "start_time": "2024-07-26T09:42:40.969036",
     "status": "completed"
    },
    "tags": []
   },
   "outputs": [
    {
     "name": "stderr",
     "output_type": "stream",
     "text": [
      "2024-07-26 09:42:45.064068: E external/local_xla/xla/stream_executor/cuda/cuda_dnn.cc:9261] Unable to register cuDNN factory: Attempting to register factory for plugin cuDNN when one has already been registered\n",
      "2024-07-26 09:42:45.064187: E external/local_xla/xla/stream_executor/cuda/cuda_fft.cc:607] Unable to register cuFFT factory: Attempting to register factory for plugin cuFFT when one has already been registered\n",
      "2024-07-26 09:42:45.209536: E external/local_xla/xla/stream_executor/cuda/cuda_blas.cc:1515] Unable to register cuBLAS factory: Attempting to register factory for plugin cuBLAS when one has already been registered\n"
     ]
    }
   ],
   "source": [
    "import os\n",
    "import h5py\n",
    "import pandas as pd\n",
    "import numpy as np\n",
    "from sklearn.model_selection import train_test_split\n",
    "import tensorflow as tf\n",
    "from tensorflow.keras import layers\n",
    "from transformers import ViTFeatureExtractor, TFViTModel,ViTImageProcessor\n",
    "from PIL import Image\n",
    "from io import BytesIO"
   ]
  },
  {
   "cell_type": "markdown",
   "id": "d1d6d791",
   "metadata": {
    "papermill": {
     "duration": 0.005738,
     "end_time": "2024-07-26T09:42:59.787215",
     "exception": false,
     "start_time": "2024-07-26T09:42:59.781477",
     "status": "completed"
    },
    "tags": []
   },
   "source": [
    "# Load data"
   ]
  },
  {
   "cell_type": "code",
   "execution_count": 2,
   "id": "09b5caf5",
   "metadata": {
    "execution": {
     "iopub.execute_input": "2024-07-26T09:42:59.801726Z",
     "iopub.status.busy": "2024-07-26T09:42:59.800551Z",
     "iopub.status.idle": "2024-07-26T09:42:59.812384Z",
     "shell.execute_reply": "2024-07-26T09:42:59.811400Z"
    },
    "papermill": {
     "duration": 0.021309,
     "end_time": "2024-07-26T09:42:59.814519",
     "exception": false,
     "start_time": "2024-07-26T09:42:59.793210",
     "status": "completed"
    },
    "tags": []
   },
   "outputs": [],
   "source": [
    "\"\"\"2024 ISIC Challenge primary prize scoring metric\n",
    "\n",
    "Given a list of binary labels, an associated list of prediction \n",
    "scores ranging from [0,1], this function produces, as a single value, \n",
    "the partial area under the receiver operating characteristic (pAUC) \n",
    "above a given true positive rate (TPR).\n",
    "https://en.wikipedia.org/wiki/Partial_Area_Under_the_ROC_Curve.\n",
    "\n",
    "(c) 2024 Nicholas R Kurtansky, MSKCC\n",
    "\"\"\"\n",
    "\n",
    "\n",
    "class ParticipantVisibleError(Exception):\n",
    "    pass\n",
    "\n",
    "\n",
    "def score(solution: pd.DataFrame, submission: pd.DataFrame, row_id_column_name: str, min_tpr: float=0.80) -> float:\n",
    "    '''\n",
    "    2024 ISIC Challenge metric: pAUC\n",
    "    \n",
    "    Given a solution file and submission file, this function returns the\n",
    "    the partial area under the receiver operating characteristic (pAUC) \n",
    "    above a given true positive rate (TPR) = 0.80.\n",
    "    https://en.wikipedia.org/wiki/Partial_Area_Under_the_ROC_Curve.\n",
    "    \n",
    "    (c) 2024 Nicholas R Kurtansky, MSKCC\n",
    "\n",
    "    Args:\n",
    "        solution: ground truth pd.DataFrame of 1s and 0s\n",
    "        submission: solution dataframe of predictions of scores ranging [0, 1]\n",
    "\n",
    "    Returns:\n",
    "        Float value range [0, max_fpr]\n",
    "    '''\n",
    "\n",
    "    del solution[row_id_column_name]\n",
    "    del submission[row_id_column_name]\n",
    "\n",
    "    # check submission is numeric\n",
    "    if not pd.api.types.is_numeric_dtype(submission.values):\n",
    "        raise ParticipantVisibleError('Submission target column must be numeric')\n",
    "\n",
    "    # rescale the target. set 0s to 1s and 1s to 0s (since sklearn only has max_fpr)\n",
    "    v_gt = abs(np.asarray(solution.values)-1)\n",
    "    \n",
    "    # flip the submissions to their compliments\n",
    "    v_pred = -1.0*np.asarray(submission.values)\n",
    "\n",
    "    max_fpr = abs(1-min_tpr)\n",
    "\n",
    "    # using sklearn.metric functions: (1) roc_curve and (2) auc\n",
    "    fpr, tpr, _ = roc_curve(v_gt, v_pred, sample_weight=None)\n",
    "    if max_fpr is None or max_fpr == 1:\n",
    "        return auc(fpr, tpr)\n",
    "    if max_fpr <= 0 or max_fpr > 1:\n",
    "        raise ValueError(\"Expected min_tpr in range [0, 1), got: %r\" % min_tpr)\n",
    "        \n",
    "    # Add a single point at max_fpr by linear interpolation\n",
    "    stop = np.searchsorted(fpr, max_fpr, \"right\")\n",
    "    x_interp = [fpr[stop - 1], fpr[stop]]\n",
    "    y_interp = [tpr[stop - 1], tpr[stop]]\n",
    "    tpr = np.append(tpr[:stop], np.interp(max_fpr, x_interp, y_interp))\n",
    "    fpr = np.append(fpr[:stop], max_fpr)\n",
    "    partial_auc = auc(fpr, tpr)\n",
    "\n",
    "    #     # Equivalent code that uses sklearn's roc_auc_score\n",
    "    #     v_gt = abs(np.asarray(solution.values)-1)\n",
    "    #     v_pred = np.array([1.0 - x for x in submission.values])\n",
    "    #     max_fpr = abs(1-min_tpr)\n",
    "    #     partial_auc_scaled = roc_auc_score(v_gt, v_pred, max_fpr=max_fpr)\n",
    "    #     # change scale from [0.5, 1.0] to [0.5 * max_fpr**2, max_fpr]\n",
    "    #     # https://math.stackexchange.com/questions/914823/shift-numbers-into-a-different-range\n",
    "    #     partial_auc = 0.5 * max_fpr**2 + (max_fpr - 0.5 * max_fpr**2) / (1.0 - 0.5) * (partial_auc_scaled - 0.5)\n",
    "    \n",
    "    return(partial_auc)"
   ]
  },
  {
   "cell_type": "code",
   "execution_count": 3,
   "id": "bc20fc8a",
   "metadata": {
    "execution": {
     "iopub.execute_input": "2024-07-26T09:42:59.828684Z",
     "iopub.status.busy": "2024-07-26T09:42:59.827832Z",
     "iopub.status.idle": "2024-07-26T09:42:59.839266Z",
     "shell.execute_reply": "2024-07-26T09:42:59.838296Z"
    },
    "papermill": {
     "duration": 0.020633,
     "end_time": "2024-07-26T09:42:59.841292",
     "exception": false,
     "start_time": "2024-07-26T09:42:59.820659",
     "status": "completed"
    },
    "tags": []
   },
   "outputs": [],
   "source": [
    "\n",
    "# Define the ISICDataset class\n",
    "class ISICDataset(tf.keras.utils.Sequence):\n",
    "    def __init__(self, hdf5_file, isic_ids, targets=None, feature_extractor=None, batch_size=32):\n",
    "        self.hdf5_file = hdf5_file\n",
    "        self.isic_ids = isic_ids\n",
    "        self.targets = targets\n",
    "        self.feature_extractor = feature_extractor\n",
    "        self.batch_size = batch_size\n",
    "        \n",
    "    def __len__(self):\n",
    "        return len(self.isic_ids)\n",
    "    \n",
    "    def __getitem__(self, idx):\n",
    "        isic_id = str(self.isic_ids[idx])\n",
    "        image = Image.open(BytesIO(self.hdf5_file[isic_id][()]))\n",
    "        image = image.convert(\"RGB\")\n",
    "        image = np.array(image)\n",
    "        if self.feature_extractor:\n",
    "            image = self.feature_extractor(images=image, return_tensors=\"tf\").pixel_values[0]\n",
    "        if self.targets is not None:\n",
    "            target = self.targets[idx]\n",
    "            return image, target\n",
    "        else:\n",
    "            return image\n",
    "    \n",
    "    def _load_image(self, isic_id):\n",
    "        isic_id = str(isic_id)\n",
    "        image = Image.open(BytesIO(self.hdf5_file[isic_id][()]))\n",
    "        image = image.convert(\"RGB\")\n",
    "        image = np.array(image)\n",
    "        if self.feature_extractor:\n",
    "            image = self.feature_extractor(images=image, return_tensors=\"tf\").pixel_values[0]\n",
    "        return image\n",
    "\n",
    "    def _generator(self):\n",
    "        for idx in range(len(self.isic_ids)):\n",
    "            yield self._load_image(self.isic_ids[idx]), self.targets[idx]\n",
    "\n",
    "    def to_tf_dataset(self):\n",
    "        tf_dataset = tf.data.Dataset.from_generator(self._generator, \n",
    "                                                    output_signature=(tf.TensorSpec(shape=(3, 224, 224), dtype=tf.float32),\n",
    "                                                                      tf.TensorSpec(shape=(), dtype=tf.int64)))\n",
    "        tf_dataset = tf_dataset.batch(self.batch_size).prefetch(buffer_size=tf.data.AUTOTUNE).repeat()\n",
    "        return tf_dataset"
   ]
  },
  {
   "cell_type": "code",
   "execution_count": 4,
   "id": "8b470759",
   "metadata": {
    "execution": {
     "iopub.execute_input": "2024-07-26T09:42:59.855378Z",
     "iopub.status.busy": "2024-07-26T09:42:59.854643Z",
     "iopub.status.idle": "2024-07-26T09:42:59.859878Z",
     "shell.execute_reply": "2024-07-26T09:42:59.858856Z"
    },
    "papermill": {
     "duration": 0.014665,
     "end_time": "2024-07-26T09:42:59.862177",
     "exception": false,
     "start_time": "2024-07-26T09:42:59.847512",
     "status": "completed"
    },
    "tags": []
   },
   "outputs": [],
   "source": [
    "# Load data\n",
    "data_path = '/kaggle/input/isic-2024-challenge/'\n",
    "\n",
    "path_train_hdf5 = os.path.join(data_path, 'train-image.hdf5')\n",
    "path_test_hdf5 = os.path.join(data_path, 'test-image.hdf5')\n",
    "\n",
    "path_train_meta = data_path + 'train-metadata.csv'\n",
    "path_test_meta = data_path + 'test-metadata.csv'\n"
   ]
  },
  {
   "cell_type": "code",
   "execution_count": 5,
   "id": "4f33755b",
   "metadata": {
    "execution": {
     "iopub.execute_input": "2024-07-26T09:42:59.875977Z",
     "iopub.status.busy": "2024-07-26T09:42:59.875613Z",
     "iopub.status.idle": "2024-07-26T09:42:59.892408Z",
     "shell.execute_reply": "2024-07-26T09:42:59.891397Z"
    },
    "papermill": {
     "duration": 0.026367,
     "end_time": "2024-07-26T09:42:59.894738",
     "exception": false,
     "start_time": "2024-07-26T09:42:59.868371",
     "status": "completed"
    },
    "tags": []
   },
   "outputs": [],
   "source": [
    "train_hdf5 = h5py.File(path_train_hdf5, 'r')\n",
    "test_hdf5 = h5py.File(path_test_hdf5, 'r')"
   ]
  },
  {
   "cell_type": "code",
   "execution_count": 6,
   "id": "9f3a2da3",
   "metadata": {
    "execution": {
     "iopub.execute_input": "2024-07-26T09:42:59.908249Z",
     "iopub.status.busy": "2024-07-26T09:42:59.907905Z",
     "iopub.status.idle": "2024-07-26T09:43:06.931608Z",
     "shell.execute_reply": "2024-07-26T09:43:06.930668Z"
    },
    "papermill": {
     "duration": 7.033202,
     "end_time": "2024-07-26T09:43:06.934008",
     "exception": false,
     "start_time": "2024-07-26T09:42:59.900806",
     "status": "completed"
    },
    "tags": []
   },
   "outputs": [
    {
     "name": "stderr",
     "output_type": "stream",
     "text": [
      "/tmp/ipykernel_18/938936479.py:1: DtypeWarning: Columns (51,52) have mixed types. Specify dtype option on import or set low_memory=False.\n",
      "  train_meta = pd.read_csv(path_train_meta)\n"
     ]
    }
   ],
   "source": [
    "train_meta = pd.read_csv(path_train_meta)\n",
    "test_meta = pd.read_csv(path_test_meta)"
   ]
  },
  {
   "cell_type": "code",
   "execution_count": 7,
   "id": "1716e0ae",
   "metadata": {
    "execution": {
     "iopub.execute_input": "2024-07-26T09:43:06.949213Z",
     "iopub.status.busy": "2024-07-26T09:43:06.948304Z",
     "iopub.status.idle": "2024-07-26T09:43:07.044755Z",
     "shell.execute_reply": "2024-07-26T09:43:07.043811Z"
    },
    "papermill": {
     "duration": 0.106817,
     "end_time": "2024-07-26T09:43:07.047291",
     "exception": false,
     "start_time": "2024-07-26T09:43:06.940474",
     "status": "completed"
    },
    "tags": []
   },
   "outputs": [],
   "source": [
    "# read in the isic ids and target values\n",
    "train_isic_ids = train_meta['isic_id'].values\n",
    "train_isic_ids = train_meta[train_meta['lesion_id'].notnull()]['isic_id'].values\n",
    "\n",
    "test_isic_ids = test_meta['isic_id'].values\n",
    "\n",
    "train_targets = train_meta[train_meta['lesion_id'].notnull()]['target'].values"
   ]
  },
  {
   "cell_type": "code",
   "execution_count": 8,
   "id": "1ec8b7d3",
   "metadata": {
    "execution": {
     "iopub.execute_input": "2024-07-26T09:43:07.061452Z",
     "iopub.status.busy": "2024-07-26T09:43:07.061050Z",
     "iopub.status.idle": "2024-07-26T09:43:07.068395Z",
     "shell.execute_reply": "2024-07-26T09:43:07.067434Z"
    },
    "papermill": {
     "duration": 0.016732,
     "end_time": "2024-07-26T09:43:07.070322",
     "exception": false,
     "start_time": "2024-07-26T09:43:07.053590",
     "status": "completed"
    },
    "tags": []
   },
   "outputs": [],
   "source": [
    "total_size = len(train_targets)\n",
    "indices = np.arange(total_size)\n",
    "\n",
    "train_size = int(total_size * 0.8)\n",
    "val_size = total_size - train_size\n",
    "\n",
    "train_indices, val_indices = train_test_split(indices, test_size=val_size, train_size=train_size)\n"
   ]
  },
  {
   "cell_type": "code",
   "execution_count": 9,
   "id": "516cbf6d",
   "metadata": {
    "execution": {
     "iopub.execute_input": "2024-07-26T09:43:07.083928Z",
     "iopub.status.busy": "2024-07-26T09:43:07.083588Z",
     "iopub.status.idle": "2024-07-26T09:43:11.874102Z",
     "shell.execute_reply": "2024-07-26T09:43:11.872992Z"
    },
    "papermill": {
     "duration": 4.799645,
     "end_time": "2024-07-26T09:43:11.876174",
     "exception": false,
     "start_time": "2024-07-26T09:43:07.076529",
     "status": "completed"
    },
    "tags": []
   },
   "outputs": [
    {
     "name": "stderr",
     "output_type": "stream",
     "text": [
      "/opt/conda/lib/python3.10/site-packages/transformers/models/vit/feature_extraction_vit.py:28: FutureWarning: The class ViTFeatureExtractor is deprecated and will be removed in version 5 of Transformers. Please use ViTImageProcessor instead.\n",
      "  warnings.warn(\n",
      "All model checkpoint layers were used when initializing TFViTModel.\n",
      "\n",
      "All the layers of TFViTModel were initialized from the model checkpoint at /kaggle/input/pre_trained_vit16/tensorflow2/default/1.\n",
      "If your task is similar to the task the model of the checkpoint was trained on, you can already use TFViTModel for predictions without further training.\n"
     ]
    }
   ],
   "source": [
    "# Laad de feature extractor\n",
    "# model_name = 'google/vit-base-patch16-224'\n",
    "# feature_extractor = ViTFeatureExtractor.from_pretrained(model_name)\n",
    "# # Laad het ViT-model\n",
    "# vit_model = TFViTModel.from_pretrained(model_name)\n",
    "\n",
    "\n",
    "# # # Sla de feature extractor en het model lokaal op\n",
    "# feature_extractor.save_pretrained('./kaggle/tmp/vit-base-patch16-224-finetuned')\n",
    "# vit_model.save_pretrained('./kaggle/tmp/vit-base-patch16-224-finetuned')\n",
    "\n",
    "\n",
    "# Laad de feature extractor en het model lokaal\n",
    "feature_extractor = ViTFeatureExtractor.from_pretrained('/kaggle/input/pre_trained_vit16/tensorflow2/default/1')\n",
    "vit_model = TFViTModel.from_pretrained('/kaggle/input/pre_trained_vit16/tensorflow2/default/1')\n",
    "\n"
   ]
  },
  {
   "cell_type": "code",
   "execution_count": 10,
   "id": "70305c19",
   "metadata": {
    "execution": {
     "iopub.execute_input": "2024-07-26T09:43:11.890209Z",
     "iopub.status.busy": "2024-07-26T09:43:11.889869Z",
     "iopub.status.idle": "2024-07-26T09:43:11.894080Z",
     "shell.execute_reply": "2024-07-26T09:43:11.893140Z"
    },
    "papermill": {
     "duration": 0.013549,
     "end_time": "2024-07-26T09:43:11.896102",
     "exception": false,
     "start_time": "2024-07-26T09:43:11.882553",
     "status": "completed"
    },
    "tags": []
   },
   "outputs": [],
   "source": [
    "\n",
    "# # # Maak de train en val datasets\n",
    "# train_dataset = ISICDataset(train_hdf5, train_isic_ids[train_indices], targets=train_targets[train_indices], feature_extractor=feature_extractor)\n",
    "# val_dataset = ISICDataset(train_hdf5, train_isic_ids[val_indices], targets=train_targets[val_indices], feature_extractor=feature_extractor)\n"
   ]
  },
  {
   "cell_type": "code",
   "execution_count": 11,
   "id": "c945a8b4",
   "metadata": {
    "execution": {
     "iopub.execute_input": "2024-07-26T09:43:11.909905Z",
     "iopub.status.busy": "2024-07-26T09:43:11.909556Z",
     "iopub.status.idle": "2024-07-26T09:43:11.913673Z",
     "shell.execute_reply": "2024-07-26T09:43:11.912747Z"
    },
    "papermill": {
     "duration": 0.013338,
     "end_time": "2024-07-26T09:43:11.915760",
     "exception": false,
     "start_time": "2024-07-26T09:43:11.902422",
     "status": "completed"
    },
    "tags": []
   },
   "outputs": [],
   "source": [
    "# # # Maak TensorFlow datasets\n",
    "# tf_train_dataset = train_dataset.to_tf_dataset()\n",
    "# tf_val_dataset = val_dataset.to_tf_dataset()"
   ]
  },
  {
   "cell_type": "code",
   "execution_count": 12,
   "id": "9b17b98c",
   "metadata": {
    "execution": {
     "iopub.execute_input": "2024-07-26T09:43:11.931171Z",
     "iopub.status.busy": "2024-07-26T09:43:11.930545Z",
     "iopub.status.idle": "2024-07-26T09:43:11.934834Z",
     "shell.execute_reply": "2024-07-26T09:43:11.933895Z"
    },
    "papermill": {
     "duration": 0.014667,
     "end_time": "2024-07-26T09:43:11.936780",
     "exception": false,
     "start_time": "2024-07-26T09:43:11.922113",
     "status": "completed"
    },
    "tags": []
   },
   "outputs": [],
   "source": [
    "# # # Combineer de datasets\n",
    "# combined_isic_ids = np.concatenate([train_isic_ids[train_indices], train_isic_ids[val_indices]])\n",
    "# combined_targets = np.concatenate([train_targets[train_indices], train_targets[val_indices]])\n",
    "\n",
    "# combined_dataset = ISICDataset(train_hdf5, combined_isic_ids, targets=combined_targets, feature_extractor=feature_extractor)\n",
    "# tf_combined_dataset = combined_dataset.to_tf_dataset()\n"
   ]
  },
  {
   "cell_type": "code",
   "execution_count": 13,
   "id": "d05fda96",
   "metadata": {
    "execution": {
     "iopub.execute_input": "2024-07-26T09:43:11.951512Z",
     "iopub.status.busy": "2024-07-26T09:43:11.950580Z",
     "iopub.status.idle": "2024-07-26T09:43:11.955056Z",
     "shell.execute_reply": "2024-07-26T09:43:11.954084Z"
    },
    "papermill": {
     "duration": 0.013987,
     "end_time": "2024-07-26T09:43:11.957193",
     "exception": false,
     "start_time": "2024-07-26T09:43:11.943206",
     "status": "completed"
    },
    "tags": []
   },
   "outputs": [],
   "source": [
    "# detect and init the TPU\n",
    "# tpu = tf.distribute.cluster_resolver.TPUClusterResolver()\n",
    "\n",
    "# # instantiate a distribution strategy\n",
    "# tf.tpu.experimental.initialize_tpu_system(tpu)\n",
    "# tpu_strategy = tf.distribute.TPUStrategy(tpu)"
   ]
  },
  {
   "cell_type": "code",
   "execution_count": 14,
   "id": "57c35985",
   "metadata": {
    "execution": {
     "iopub.execute_input": "2024-07-26T09:43:11.971524Z",
     "iopub.status.busy": "2024-07-26T09:43:11.971138Z",
     "iopub.status.idle": "2024-07-26T09:43:11.975640Z",
     "shell.execute_reply": "2024-07-26T09:43:11.974637Z"
    },
    "papermill": {
     "duration": 0.014293,
     "end_time": "2024-07-26T09:43:11.977815",
     "exception": false,
     "start_time": "2024-07-26T09:43:11.963522",
     "status": "completed"
    },
    "tags": []
   },
   "outputs": [],
   "source": [
    "# # Definieer de CustomViTModel class\n",
    "# class CustomViTModel(tf.keras.Model):\n",
    "#     def __init__(self, backbone, num_classes, **kwargs):\n",
    "#         super(CustomViTModel, self).__init__(**kwargs)\n",
    "#         self.backbone = backbone\n",
    "#         self.dense = layers.Dense(num_classes, activation='softmax')\n",
    "\n",
    "#     def call(self, inputs):\n",
    "#         outputs = self.backbone(inputs).last_hidden_state[:, 0, :]\n",
    "#         outputs = self.dense(outputs)\n",
    "#         return outputs"
   ]
  },
  {
   "cell_type": "code",
   "execution_count": 15,
   "id": "b297fe9b",
   "metadata": {
    "execution": {
     "iopub.execute_input": "2024-07-26T09:43:11.991915Z",
     "iopub.status.busy": "2024-07-26T09:43:11.991561Z",
     "iopub.status.idle": "2024-07-26T09:43:11.995830Z",
     "shell.execute_reply": "2024-07-26T09:43:11.994844Z"
    },
    "papermill": {
     "duration": 0.013747,
     "end_time": "2024-07-26T09:43:11.997992",
     "exception": false,
     "start_time": "2024-07-26T09:43:11.984245",
     "status": "completed"
    },
    "tags": []
   },
   "outputs": [],
   "source": [
    "# Maak het CustomViTModel\n",
    "# num_classes = len(np.unique(train_targets))\n",
    "# custom_vit_model = CustomViTModel(vit_model, num_classes)"
   ]
  },
  {
   "cell_type": "code",
   "execution_count": 16,
   "id": "89377107",
   "metadata": {
    "execution": {
     "iopub.execute_input": "2024-07-26T09:43:12.012251Z",
     "iopub.status.busy": "2024-07-26T09:43:12.011504Z",
     "iopub.status.idle": "2024-07-26T09:43:12.015890Z",
     "shell.execute_reply": "2024-07-26T09:43:12.014954Z"
    },
    "papermill": {
     "duration": 0.013705,
     "end_time": "2024-07-26T09:43:12.017911",
     "exception": false,
     "start_time": "2024-07-26T09:43:12.004206",
     "status": "completed"
    },
    "tags": []
   },
   "outputs": [],
   "source": [
    "# # Compileer het model met een gebruikelijke loss-functie\n",
    "# with tpu_strategy.scope():\n",
    "#     custom_vit_model.compile(optimizer=tf.keras.optimizers.Adam(learning_rate=1e-4),\n",
    "#                              loss='sparse_categorical_crossentropy',\n",
    "#                              metrics=['accuracy'])"
   ]
  },
  {
   "cell_type": "code",
   "execution_count": 17,
   "id": "b81503c6",
   "metadata": {
    "execution": {
     "iopub.execute_input": "2024-07-26T09:43:12.032077Z",
     "iopub.status.busy": "2024-07-26T09:43:12.031319Z",
     "iopub.status.idle": "2024-07-26T09:43:12.035753Z",
     "shell.execute_reply": "2024-07-26T09:43:12.034745Z"
    },
    "papermill": {
     "duration": 0.01359,
     "end_time": "2024-07-26T09:43:12.037642",
     "exception": false,
     "start_time": "2024-07-26T09:43:12.024052",
     "status": "completed"
    },
    "tags": []
   },
   "outputs": [],
   "source": [
    "# steps_per_epoch = len(combined_dataset) // combined_dataset.batch_size"
   ]
  },
  {
   "cell_type": "code",
   "execution_count": 18,
   "id": "ede64356",
   "metadata": {
    "execution": {
     "iopub.execute_input": "2024-07-26T09:43:12.052086Z",
     "iopub.status.busy": "2024-07-26T09:43:12.051166Z",
     "iopub.status.idle": "2024-07-26T09:43:12.055907Z",
     "shell.execute_reply": "2024-07-26T09:43:12.054852Z"
    },
    "papermill": {
     "duration": 0.014283,
     "end_time": "2024-07-26T09:43:12.058077",
     "exception": false,
     "start_time": "2024-07-26T09:43:12.043794",
     "status": "completed"
    },
    "tags": []
   },
   "outputs": [],
   "source": [
    "# Train het model met de gecombineerde dataset\n",
    "# with tpu_strategy.scope():\n",
    "#     history = custom_vit_model.fit(tf_combined_dataset, epochs=10, steps_per_epoch=steps_per_epoch)"
   ]
  },
  {
   "cell_type": "code",
   "execution_count": 19,
   "id": "642fad72",
   "metadata": {
    "execution": {
     "iopub.execute_input": "2024-07-26T09:43:12.072478Z",
     "iopub.status.busy": "2024-07-26T09:43:12.071662Z",
     "iopub.status.idle": "2024-07-26T09:43:12.076028Z",
     "shell.execute_reply": "2024-07-26T09:43:12.075105Z"
    },
    "papermill": {
     "duration": 0.013742,
     "end_time": "2024-07-26T09:43:12.078062",
     "exception": false,
     "start_time": "2024-07-26T09:43:12.064320",
     "status": "completed"
    },
    "tags": []
   },
   "outputs": [],
   "source": [
    "#Sla de modelgewichten op\n",
    "# with tpu_strategy.scope():\n",
    "#     custom_vit_model.save_weights('./kaggle/tmp/custom_vit_model_combi.weights.h5')\n",
    "\n",
    "# Sla de feature extractor en het model lokaal op\n",
    "# feature_extractor.save_pretrained('./vit-base-patch16-224')\n",
    "# vit_model.save_pretrained('./vit-base-patch16-224')"
   ]
  },
  {
   "cell_type": "code",
   "execution_count": 20,
   "id": "13968c17",
   "metadata": {
    "execution": {
     "iopub.execute_input": "2024-07-26T09:43:12.091785Z",
     "iopub.status.busy": "2024-07-26T09:43:12.091445Z",
     "iopub.status.idle": "2024-07-26T09:43:12.095518Z",
     "shell.execute_reply": "2024-07-26T09:43:12.094659Z"
    },
    "papermill": {
     "duration": 0.013211,
     "end_time": "2024-07-26T09:43:12.097520",
     "exception": false,
     "start_time": "2024-07-26T09:43:12.084309",
     "status": "completed"
    },
    "tags": []
   },
   "outputs": [],
   "source": [
    "\n",
    "# # Verkrijg de voorspellingen van het model\n",
    "# predictions = custom_vit_model.predict(val_images)\n",
    "# predicted_probabilities = tf.reduce_max(predictions, axis=1)\n",
    "\n",
    "# # Binarize de test labels voor ROC berekening\n",
    "# val_labels_binary = (val_labels == 1).numpy().astype(int)\n"
   ]
  },
  {
   "cell_type": "code",
   "execution_count": 21,
   "id": "12a29944",
   "metadata": {
    "execution": {
     "iopub.execute_input": "2024-07-26T09:43:12.111547Z",
     "iopub.status.busy": "2024-07-26T09:43:12.110803Z",
     "iopub.status.idle": "2024-07-26T09:43:12.115400Z",
     "shell.execute_reply": "2024-07-26T09:43:12.114429Z"
    },
    "papermill": {
     "duration": 0.013767,
     "end_time": "2024-07-26T09:43:12.117422",
     "exception": false,
     "start_time": "2024-07-26T09:43:12.103655",
     "status": "completed"
    },
    "tags": []
   },
   "outputs": [],
   "source": [
    "# # Bereken de ROC-curve en de pAUC\n",
    "# fpr, tpr, thresholds = roc_curve(val_labels_binary, predicted_probabilities)\n",
    "# partial_auc = auc(fpr, tpr)\n",
    "\n",
    "# print(f'Partial AUC: {partial_auc}')"
   ]
  },
  {
   "cell_type": "code",
   "execution_count": 22,
   "id": "a3ded514",
   "metadata": {
    "execution": {
     "iopub.execute_input": "2024-07-26T09:43:12.131734Z",
     "iopub.status.busy": "2024-07-26T09:43:12.131399Z",
     "iopub.status.idle": "2024-07-26T09:43:21.871154Z",
     "shell.execute_reply": "2024-07-26T09:43:21.870403Z"
    },
    "papermill": {
     "duration": 9.749669,
     "end_time": "2024-07-26T09:43:21.873317",
     "exception": false,
     "start_time": "2024-07-26T09:43:12.123648",
     "status": "completed"
    },
    "tags": []
   },
   "outputs": [
    {
     "name": "stderr",
     "output_type": "stream",
     "text": [
      "All model checkpoint layers were used when initializing TFViTModel.\n",
      "\n",
      "All the layers of TFViTModel were initialized from the model checkpoint at /kaggle/input/pre_trained_vit16/tensorflow2/default/1.\n",
      "If your task is similar to the task the model of the checkpoint was trained on, you can already use TFViTModel for predictions without further training.\n"
     ]
    },
    {
     "name": "stdout",
     "output_type": "stream",
     "text": [
      "\u001b[1m1/1\u001b[0m \u001b[32m━━━━━━━━━━━━━━━━━━━━\u001b[0m\u001b[37m\u001b[0m \u001b[1m5s\u001b[0m 5s/step\n"
     ]
    },
    {
     "name": "stderr",
     "output_type": "stream",
     "text": [
      "/opt/conda/lib/python3.10/contextlib.py:153: UserWarning: Your input ran out of data; interrupting training. Make sure that your dataset or generator can generate at least `steps_per_epoch * epochs` batches. You may need to use the `.repeat()` function when building your dataset.\n",
      "  self.gen.throw(typ, value, traceback)\n"
     ]
    }
   ],
   "source": [
    "import tensorflow as tf\n",
    "from transformers import ViTFeatureExtractor, TFViTModel\n",
    "import h5py\n",
    "import pandas as pd\n",
    "from PIL import Image\n",
    "from io import BytesIO\n",
    "import numpy as np\n",
    "\n",
    "# Definieer de CustomViTModel class\n",
    "class CustomViTModel(tf.keras.Model):\n",
    "    def __init__(self, backbone, num_classes, **kwargs):\n",
    "        super(CustomViTModel, self).__init__(**kwargs)\n",
    "        self.backbone = backbone\n",
    "        self.dense = tf.keras.layers.Dense(num_classes, activation='softmax')\n",
    "\n",
    "    def call(self, inputs):\n",
    "        outputs = self.backbone(inputs).last_hidden_state[:, 0, :]\n",
    "        outputs = self.dense(outputs)\n",
    "        return outputs\n",
    "\n",
    "# Registreren van de custom class\n",
    "tf.keras.utils.get_custom_objects()['CustomViTModel'] = CustomViTModel\n",
    "\n",
    "# Laad de feature extractor en het model lokaal\n",
    "feature_extractor = ViTFeatureExtractor.from_pretrained('/kaggle/input/pre_trained_vit16/tensorflow2/default/1', local_files_only=True)\n",
    "vit_model = TFViTModel.from_pretrained('/kaggle/input/pre_trained_vit16/tensorflow2/default/1', local_files_only=True)\n",
    "\n",
    "num_classes = len(np.unique(train_targets))\n",
    "custom_vit_model = CustomViTModel(vit_model, num_classes)\n",
    "custom_vit_model.load_weights('/kaggle/input/pre_trained_vit16/tensorflow2/default/2/custom_vit_model_combi.weights.h5')\n",
    "\n",
    "# Functie om testset voor te bereiden en te voorspellen\n",
    "def prepare_test_dataset(test_hdf5, test_isic_ids, feature_extractor, batch_size=64):\n",
    "    def _generator():\n",
    "        for isic_id in test_isic_ids:\n",
    "            isic_id = str(isic_id)\n",
    "            image = Image.open(BytesIO(test_hdf5[isic_id][()]))\n",
    "            image = image.convert(\"RGB\")\n",
    "            image = np.array(image)\n",
    "            image = feature_extractor(images=image, return_tensors=\"tf\").pixel_values[0]\n",
    "            yield image\n",
    "    \n",
    "    tf_test_dataset = tf.data.Dataset.from_generator(_generator, \n",
    "                                                     output_signature=tf.TensorSpec(shape=(3, 224, 224), dtype=tf.float32))\n",
    "    tf_test_dataset = tf_test_dataset.batch(batch_size).prefetch(buffer_size=tf.data.AUTOTUNE)\n",
    "    return tf_test_dataset\n",
    "\n",
    "# Voorbereiden van de testset\n",
    "data_path = '/kaggle/input/isic-2024-challenge/'\n",
    "path_test_hdf5 = os.path.join(data_path, 'test-image.hdf5')\n",
    "path_test_meta = data_path + 'test-metadata.csv'\n",
    "\n",
    "test_hdf5 = h5py.File(path_test_hdf5, 'r')\n",
    "test_meta = pd.read_csv(path_test_meta)\n",
    "test_isic_ids = test_meta['isic_id'].values\n",
    "\n",
    "tf_test_dataset = prepare_test_dataset(test_hdf5, test_isic_ids, feature_extractor)\n",
    "\n",
    "# Schakel mixed precision training in\n",
    "from tensorflow.keras.mixed_precision import set_global_policy\n",
    "set_global_policy('mixed_float16')\n",
    "\n",
    "# Genereer voorspellingen voor de testset\n",
    "predictions = custom_vit_model.predict(tf_test_dataset)\n",
    "predicted_probabilities = tf.reduce_max(predictions, axis=1).numpy()\n",
    "\n",
    "\n",
    "# Maak de submission dataframe\n",
    "submission = pd.DataFrame({'isic_id': test_isic_ids, 'target': predicted_probabilities})\n",
    "\n",
    "# Sla de submission dataframe op als CSV\n",
    "submission.to_csv('submission.csv', index=False)\n"
   ]
  },
  {
   "cell_type": "code",
   "execution_count": null,
   "id": "596d0feb",
   "metadata": {
    "papermill": {
     "duration": 0.006233,
     "end_time": "2024-07-26T09:43:21.886169",
     "exception": false,
     "start_time": "2024-07-26T09:43:21.879936",
     "status": "completed"
    },
    "tags": []
   },
   "outputs": [],
   "source": []
  }
 ],
 "metadata": {
  "kaggle": {
   "accelerator": "none",
   "dataSources": [
    {
     "databundleVersionId": 9094797,
     "sourceId": 63056,
     "sourceType": "competition"
    },
    {
     "modelId": 94212,
     "modelInstanceId": 69085,
     "sourceId": 82227,
     "sourceType": "modelInstanceVersion"
    },
    {
     "modelId": 94212,
     "modelInstanceId": 69085,
     "sourceId": 82335,
     "sourceType": "modelInstanceVersion"
    }
   ],
   "dockerImageVersionId": 30732,
   "isGpuEnabled": false,
   "isInternetEnabled": false,
   "language": "python",
   "sourceType": "notebook"
  },
  "kernelspec": {
   "display_name": "Python 3",
   "language": "python",
   "name": "python3"
  },
  "language_info": {
   "codemirror_mode": {
    "name": "ipython",
    "version": 3
   },
   "file_extension": ".py",
   "mimetype": "text/x-python",
   "name": "python",
   "nbconvert_exporter": "python",
   "pygments_lexer": "ipython3",
   "version": "3.10.13"
  },
  "papermill": {
   "default_parameters": {},
   "duration": 46.022721,
   "end_time": "2024-07-26T09:43:24.358670",
   "environment_variables": {},
   "exception": null,
   "input_path": "__notebook__.ipynb",
   "output_path": "__notebook__.ipynb",
   "parameters": {},
   "start_time": "2024-07-26T09:42:38.335949",
   "version": "2.5.0"
  }
 },
 "nbformat": 4,
 "nbformat_minor": 5
}
