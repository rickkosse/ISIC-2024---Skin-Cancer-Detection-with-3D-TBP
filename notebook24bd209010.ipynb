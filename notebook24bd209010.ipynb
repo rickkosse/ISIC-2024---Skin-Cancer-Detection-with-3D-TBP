{
 "cells": [
  {
   "cell_type": "code",
   "execution_count": 1,
   "id": "9ebb97b2",
   "metadata": {
    "execution": {
     "iopub.execute_input": "2024-07-26T07:43:16.025393Z",
     "iopub.status.busy": "2024-07-26T07:43:16.024826Z",
     "iopub.status.idle": "2024-07-26T07:43:46.077587Z",
     "shell.execute_reply": "2024-07-26T07:43:46.075548Z"
    },
    "papermill": {
     "duration": 30.069162,
     "end_time": "2024-07-26T07:43:46.081142",
     "exception": false,
     "start_time": "2024-07-26T07:43:16.011980",
     "status": "completed"
    },
    "tags": []
   },
   "outputs": [
    {
     "name": "stderr",
     "output_type": "stream",
     "text": [
      "2024-07-26 07:43:22.426538: E external/local_xla/xla/stream_executor/cuda/cuda_dnn.cc:9261] Unable to register cuDNN factory: Attempting to register factory for plugin cuDNN when one has already been registered\n",
      "2024-07-26 07:43:22.426692: E external/local_xla/xla/stream_executor/cuda/cuda_fft.cc:607] Unable to register cuFFT factory: Attempting to register factory for plugin cuFFT when one has already been registered\n",
      "2024-07-26 07:43:22.623965: E external/local_xla/xla/stream_executor/cuda/cuda_blas.cc:1515] Unable to register cuBLAS factory: Attempting to register factory for plugin cuBLAS when one has already been registered\n"
     ]
    }
   ],
   "source": [
    "import os\n",
    "import h5py\n",
    "import pandas as pd\n",
    "import numpy as np\n",
    "from sklearn.model_selection import train_test_split\n",
    "import tensorflow as tf\n",
    "from tensorflow.keras import layers\n",
    "from transformers import ViTFeatureExtractor, TFViTModel,ViTImageProcessor\n",
    "from PIL import Image\n",
    "from io import BytesIO"
   ]
  },
  {
   "cell_type": "markdown",
   "id": "785e868e",
   "metadata": {
    "papermill": {
     "duration": 0.009637,
     "end_time": "2024-07-26T07:43:46.102917",
     "exception": false,
     "start_time": "2024-07-26T07:43:46.093280",
     "status": "completed"
    },
    "tags": []
   },
   "source": [
    "# Load data"
   ]
  },
  {
   "cell_type": "code",
   "execution_count": 2,
   "id": "cb21a3c7",
   "metadata": {
    "execution": {
     "iopub.execute_input": "2024-07-26T07:43:46.124289Z",
     "iopub.status.busy": "2024-07-26T07:43:46.123439Z",
     "iopub.status.idle": "2024-07-26T07:43:46.141690Z",
     "shell.execute_reply": "2024-07-26T07:43:46.139628Z"
    },
    "papermill": {
     "duration": 0.033501,
     "end_time": "2024-07-26T07:43:46.145264",
     "exception": false,
     "start_time": "2024-07-26T07:43:46.111763",
     "status": "completed"
    },
    "tags": []
   },
   "outputs": [],
   "source": [
    "\"\"\"2024 ISIC Challenge primary prize scoring metric\n",
    "\n",
    "Given a list of binary labels, an associated list of prediction \n",
    "scores ranging from [0,1], this function produces, as a single value, \n",
    "the partial area under the receiver operating characteristic (pAUC) \n",
    "above a given true positive rate (TPR).\n",
    "https://en.wikipedia.org/wiki/Partial_Area_Under_the_ROC_Curve.\n",
    "\n",
    "(c) 2024 Nicholas R Kurtansky, MSKCC\n",
    "\"\"\"\n",
    "\n",
    "\n",
    "class ParticipantVisibleError(Exception):\n",
    "    pass\n",
    "\n",
    "\n",
    "def score(solution: pd.DataFrame, submission: pd.DataFrame, row_id_column_name: str, min_tpr: float=0.80) -> float:\n",
    "    '''\n",
    "    2024 ISIC Challenge metric: pAUC\n",
    "    \n",
    "    Given a solution file and submission file, this function returns the\n",
    "    the partial area under the receiver operating characteristic (pAUC) \n",
    "    above a given true positive rate (TPR) = 0.80.\n",
    "    https://en.wikipedia.org/wiki/Partial_Area_Under_the_ROC_Curve.\n",
    "    \n",
    "    (c) 2024 Nicholas R Kurtansky, MSKCC\n",
    "\n",
    "    Args:\n",
    "        solution: ground truth pd.DataFrame of 1s and 0s\n",
    "        submission: solution dataframe of predictions of scores ranging [0, 1]\n",
    "\n",
    "    Returns:\n",
    "        Float value range [0, max_fpr]\n",
    "    '''\n",
    "\n",
    "    del solution[row_id_column_name]\n",
    "    del submission[row_id_column_name]\n",
    "\n",
    "    # check submission is numeric\n",
    "    if not pd.api.types.is_numeric_dtype(submission.values):\n",
    "        raise ParticipantVisibleError('Submission target column must be numeric')\n",
    "\n",
    "    # rescale the target. set 0s to 1s and 1s to 0s (since sklearn only has max_fpr)\n",
    "    v_gt = abs(np.asarray(solution.values)-1)\n",
    "    \n",
    "    # flip the submissions to their compliments\n",
    "    v_pred = -1.0*np.asarray(submission.values)\n",
    "\n",
    "    max_fpr = abs(1-min_tpr)\n",
    "\n",
    "    # using sklearn.metric functions: (1) roc_curve and (2) auc\n",
    "    fpr, tpr, _ = roc_curve(v_gt, v_pred, sample_weight=None)\n",
    "    if max_fpr is None or max_fpr == 1:\n",
    "        return auc(fpr, tpr)\n",
    "    if max_fpr <= 0 or max_fpr > 1:\n",
    "        raise ValueError(\"Expected min_tpr in range [0, 1), got: %r\" % min_tpr)\n",
    "        \n",
    "    # Add a single point at max_fpr by linear interpolation\n",
    "    stop = np.searchsorted(fpr, max_fpr, \"right\")\n",
    "    x_interp = [fpr[stop - 1], fpr[stop]]\n",
    "    y_interp = [tpr[stop - 1], tpr[stop]]\n",
    "    tpr = np.append(tpr[:stop], np.interp(max_fpr, x_interp, y_interp))\n",
    "    fpr = np.append(fpr[:stop], max_fpr)\n",
    "    partial_auc = auc(fpr, tpr)\n",
    "\n",
    "    #     # Equivalent code that uses sklearn's roc_auc_score\n",
    "    #     v_gt = abs(np.asarray(solution.values)-1)\n",
    "    #     v_pred = np.array([1.0 - x for x in submission.values])\n",
    "    #     max_fpr = abs(1-min_tpr)\n",
    "    #     partial_auc_scaled = roc_auc_score(v_gt, v_pred, max_fpr=max_fpr)\n",
    "    #     # change scale from [0.5, 1.0] to [0.5 * max_fpr**2, max_fpr]\n",
    "    #     # https://math.stackexchange.com/questions/914823/shift-numbers-into-a-different-range\n",
    "    #     partial_auc = 0.5 * max_fpr**2 + (max_fpr - 0.5 * max_fpr**2) / (1.0 - 0.5) * (partial_auc_scaled - 0.5)\n",
    "    \n",
    "    return(partial_auc)"
   ]
  },
  {
   "cell_type": "code",
   "execution_count": 3,
   "id": "a1fc566b",
   "metadata": {
    "execution": {
     "iopub.execute_input": "2024-07-26T07:43:46.167869Z",
     "iopub.status.busy": "2024-07-26T07:43:46.167390Z",
     "iopub.status.idle": "2024-07-26T07:43:46.186152Z",
     "shell.execute_reply": "2024-07-26T07:43:46.184711Z"
    },
    "papermill": {
     "duration": 0.034456,
     "end_time": "2024-07-26T07:43:46.189105",
     "exception": false,
     "start_time": "2024-07-26T07:43:46.154649",
     "status": "completed"
    },
    "tags": []
   },
   "outputs": [],
   "source": [
    "\n",
    "# Define the ISICDataset class\n",
    "class ISICDataset(tf.keras.utils.Sequence):\n",
    "    def __init__(self, hdf5_file, isic_ids, targets=None, feature_extractor=None, batch_size=32):\n",
    "        self.hdf5_file = hdf5_file\n",
    "        self.isic_ids = isic_ids\n",
    "        self.targets = targets\n",
    "        self.feature_extractor = feature_extractor\n",
    "        self.batch_size = batch_size\n",
    "        \n",
    "    def __len__(self):\n",
    "        return len(self.isic_ids)\n",
    "    \n",
    "    def __getitem__(self, idx):\n",
    "        isic_id = str(self.isic_ids[idx])\n",
    "        image = Image.open(BytesIO(self.hdf5_file[isic_id][()]))\n",
    "        image = image.convert(\"RGB\")\n",
    "        image = np.array(image)\n",
    "        if self.feature_extractor:\n",
    "            image = self.feature_extractor(images=image, return_tensors=\"tf\").pixel_values[0]\n",
    "        if self.targets is not None:\n",
    "            target = self.targets[idx]\n",
    "            return image, target\n",
    "        else:\n",
    "            return image\n",
    "    \n",
    "    def _load_image(self, isic_id):\n",
    "        isic_id = str(isic_id)\n",
    "        image = Image.open(BytesIO(self.hdf5_file[isic_id][()]))\n",
    "        image = image.convert(\"RGB\")\n",
    "        image = np.array(image)\n",
    "        if self.feature_extractor:\n",
    "            image = self.feature_extractor(images=image, return_tensors=\"tf\").pixel_values[0]\n",
    "        return image\n",
    "\n",
    "    def _generator(self):\n",
    "        for idx in range(len(self.isic_ids)):\n",
    "            yield self._load_image(self.isic_ids[idx]), self.targets[idx]\n",
    "\n",
    "    def to_tf_dataset(self):\n",
    "        tf_dataset = tf.data.Dataset.from_generator(self._generator, \n",
    "                                                    output_signature=(tf.TensorSpec(shape=(3, 224, 224), dtype=tf.float32),\n",
    "                                                                      tf.TensorSpec(shape=(), dtype=tf.int64)))\n",
    "        tf_dataset = tf_dataset.batch(self.batch_size).prefetch(buffer_size=tf.data.AUTOTUNE).repeat()\n",
    "        return tf_dataset"
   ]
  },
  {
   "cell_type": "code",
   "execution_count": 4,
   "id": "e5f01e63",
   "metadata": {
    "execution": {
     "iopub.execute_input": "2024-07-26T07:43:46.209647Z",
     "iopub.status.busy": "2024-07-26T07:43:46.209213Z",
     "iopub.status.idle": "2024-07-26T07:43:46.218239Z",
     "shell.execute_reply": "2024-07-26T07:43:46.215247Z"
    },
    "papermill": {
     "duration": 0.022883,
     "end_time": "2024-07-26T07:43:46.221366",
     "exception": false,
     "start_time": "2024-07-26T07:43:46.198483",
     "status": "completed"
    },
    "tags": []
   },
   "outputs": [],
   "source": [
    "# Load data\n",
    "data_path = '/kaggle/input/isic-2024-challenge/'\n",
    "\n",
    "path_train_hdf5 = os.path.join(data_path, 'train-image.hdf5')\n",
    "path_test_hdf5 = os.path.join(data_path, 'test-image.hdf5')\n",
    "\n",
    "path_train_meta = data_path + 'train-metadata.csv'\n",
    "path_test_meta = data_path + 'test-metadata.csv'\n"
   ]
  },
  {
   "cell_type": "code",
   "execution_count": 5,
   "id": "a19f4c7d",
   "metadata": {
    "execution": {
     "iopub.execute_input": "2024-07-26T07:43:46.242653Z",
     "iopub.status.busy": "2024-07-26T07:43:46.242200Z",
     "iopub.status.idle": "2024-07-26T07:43:46.268150Z",
     "shell.execute_reply": "2024-07-26T07:43:46.266422Z"
    },
    "papermill": {
     "duration": 0.040546,
     "end_time": "2024-07-26T07:43:46.272190",
     "exception": false,
     "start_time": "2024-07-26T07:43:46.231644",
     "status": "completed"
    },
    "tags": []
   },
   "outputs": [],
   "source": [
    "train_hdf5 = h5py.File(path_train_hdf5, 'r')\n",
    "test_hdf5 = h5py.File(path_test_hdf5, 'r')"
   ]
  },
  {
   "cell_type": "code",
   "execution_count": 6,
   "id": "8d029c8a",
   "metadata": {
    "execution": {
     "iopub.execute_input": "2024-07-26T07:43:46.295398Z",
     "iopub.status.busy": "2024-07-26T07:43:46.294906Z",
     "iopub.status.idle": "2024-07-26T07:43:58.175902Z",
     "shell.execute_reply": "2024-07-26T07:43:58.174365Z"
    },
    "papermill": {
     "duration": 11.89626,
     "end_time": "2024-07-26T07:43:58.179233",
     "exception": false,
     "start_time": "2024-07-26T07:43:46.282973",
     "status": "completed"
    },
    "tags": []
   },
   "outputs": [
    {
     "name": "stderr",
     "output_type": "stream",
     "text": [
      "/tmp/ipykernel_18/938936479.py:1: DtypeWarning: Columns (51,52) have mixed types. Specify dtype option on import or set low_memory=False.\n",
      "  train_meta = pd.read_csv(path_train_meta)\n"
     ]
    }
   ],
   "source": [
    "train_meta = pd.read_csv(path_train_meta)\n",
    "test_meta = pd.read_csv(path_test_meta)"
   ]
  },
  {
   "cell_type": "code",
   "execution_count": 7,
   "id": "70925b1c",
   "metadata": {
    "execution": {
     "iopub.execute_input": "2024-07-26T07:43:58.208729Z",
     "iopub.status.busy": "2024-07-26T07:43:58.206834Z",
     "iopub.status.idle": "2024-07-26T07:43:58.351628Z",
     "shell.execute_reply": "2024-07-26T07:43:58.350338Z"
    },
    "papermill": {
     "duration": 0.166991,
     "end_time": "2024-07-26T07:43:58.355407",
     "exception": false,
     "start_time": "2024-07-26T07:43:58.188416",
     "status": "completed"
    },
    "tags": []
   },
   "outputs": [],
   "source": [
    "# read in the isic ids and target values\n",
    "train_isic_ids = train_meta['isic_id'].values\n",
    "train_isic_ids = train_meta[train_meta['lesion_id'].notnull()]['isic_id'].values\n",
    "\n",
    "test_isic_ids = test_meta['isic_id'].values\n",
    "\n",
    "train_targets = train_meta[train_meta['lesion_id'].notnull()]['target'].values"
   ]
  },
  {
   "cell_type": "code",
   "execution_count": 8,
   "id": "ca12d4d4",
   "metadata": {
    "execution": {
     "iopub.execute_input": "2024-07-26T07:43:58.376822Z",
     "iopub.status.busy": "2024-07-26T07:43:58.376372Z",
     "iopub.status.idle": "2024-07-26T07:43:58.390476Z",
     "shell.execute_reply": "2024-07-26T07:43:58.388223Z"
    },
    "papermill": {
     "duration": 0.028781,
     "end_time": "2024-07-26T07:43:58.393663",
     "exception": false,
     "start_time": "2024-07-26T07:43:58.364882",
     "status": "completed"
    },
    "tags": []
   },
   "outputs": [],
   "source": [
    "total_size = len(train_targets)\n",
    "indices = np.arange(total_size)\n",
    "\n",
    "train_size = int(total_size * 0.8)\n",
    "val_size = total_size - train_size\n",
    "\n",
    "train_indices, val_indices = train_test_split(indices, test_size=val_size, train_size=train_size)\n"
   ]
  },
  {
   "cell_type": "code",
   "execution_count": 9,
   "id": "8e1c1380",
   "metadata": {
    "execution": {
     "iopub.execute_input": "2024-07-26T07:43:58.416976Z",
     "iopub.status.busy": "2024-07-26T07:43:58.415850Z",
     "iopub.status.idle": "2024-07-26T07:44:04.417169Z",
     "shell.execute_reply": "2024-07-26T07:44:04.415735Z"
    },
    "papermill": {
     "duration": 6.017576,
     "end_time": "2024-07-26T07:44:04.420750",
     "exception": false,
     "start_time": "2024-07-26T07:43:58.403174",
     "status": "completed"
    },
    "tags": []
   },
   "outputs": [
    {
     "name": "stderr",
     "output_type": "stream",
     "text": [
      "/opt/conda/lib/python3.10/site-packages/transformers/models/vit/feature_extraction_vit.py:28: FutureWarning: The class ViTFeatureExtractor is deprecated and will be removed in version 5 of Transformers. Please use ViTImageProcessor instead.\n",
      "  warnings.warn(\n",
      "All model checkpoint layers were used when initializing TFViTModel.\n",
      "\n",
      "All the layers of TFViTModel were initialized from the model checkpoint at /kaggle/input/pre_trained_vit16/tensorflow2/default/1.\n",
      "If your task is similar to the task the model of the checkpoint was trained on, you can already use TFViTModel for predictions without further training.\n"
     ]
    }
   ],
   "source": [
    "# Laad de feature extractor\n",
    "# model_name = 'google/vit-base-patch16-224'\n",
    "# feature_extractor = ViTFeatureExtractor.from_pretrained(model_name)\n",
    "# # Laad het ViT-model\n",
    "# vit_model = TFViTModel.from_pretrained(model_name)\n",
    "\n",
    "\n",
    "# # # Sla de feature extractor en het model lokaal op\n",
    "# feature_extractor.save_pretrained('./kaggle/tmp/vit-base-patch16-224-finetuned')\n",
    "# vit_model.save_pretrained('./kaggle/tmp/vit-base-patch16-224-finetuned')\n",
    "\n",
    "\n",
    "# Laad de feature extractor en het model lokaal\n",
    "feature_extractor = ViTFeatureExtractor.from_pretrained('/kaggle/input/pre_trained_vit16/tensorflow2/default/1')\n",
    "vit_model = TFViTModel.from_pretrained('/kaggle/input/pre_trained_vit16/tensorflow2/default/1')\n",
    "\n"
   ]
  },
  {
   "cell_type": "code",
   "execution_count": 10,
   "id": "39eb153d",
   "metadata": {
    "execution": {
     "iopub.execute_input": "2024-07-26T07:44:04.443911Z",
     "iopub.status.busy": "2024-07-26T07:44:04.443482Z",
     "iopub.status.idle": "2024-07-26T07:44:04.450386Z",
     "shell.execute_reply": "2024-07-26T07:44:04.448489Z"
    },
    "papermill": {
     "duration": 0.021584,
     "end_time": "2024-07-26T07:44:04.453564",
     "exception": false,
     "start_time": "2024-07-26T07:44:04.431980",
     "status": "completed"
    },
    "tags": []
   },
   "outputs": [],
   "source": [
    "\n",
    "# # # Maak de train en val datasets\n",
    "# train_dataset = ISICDataset(train_hdf5, train_isic_ids[train_indices], targets=train_targets[train_indices], feature_extractor=feature_extractor)\n",
    "# val_dataset = ISICDataset(train_hdf5, train_isic_ids[val_indices], targets=train_targets[val_indices], feature_extractor=feature_extractor)\n"
   ]
  },
  {
   "cell_type": "code",
   "execution_count": 11,
   "id": "d68cc4b8",
   "metadata": {
    "execution": {
     "iopub.execute_input": "2024-07-26T07:44:04.477997Z",
     "iopub.status.busy": "2024-07-26T07:44:04.477539Z",
     "iopub.status.idle": "2024-07-26T07:44:04.482951Z",
     "shell.execute_reply": "2024-07-26T07:44:04.481549Z"
    },
    "papermill": {
     "duration": 0.020978,
     "end_time": "2024-07-26T07:44:04.486190",
     "exception": false,
     "start_time": "2024-07-26T07:44:04.465212",
     "status": "completed"
    },
    "tags": []
   },
   "outputs": [],
   "source": [
    "# # # Maak TensorFlow datasets\n",
    "# tf_train_dataset = train_dataset.to_tf_dataset()\n",
    "# tf_val_dataset = val_dataset.to_tf_dataset()"
   ]
  },
  {
   "cell_type": "code",
   "execution_count": 12,
   "id": "c732009e",
   "metadata": {
    "execution": {
     "iopub.execute_input": "2024-07-26T07:44:04.507673Z",
     "iopub.status.busy": "2024-07-26T07:44:04.507247Z",
     "iopub.status.idle": "2024-07-26T07:44:04.513685Z",
     "shell.execute_reply": "2024-07-26T07:44:04.511891Z"
    },
    "papermill": {
     "duration": 0.022296,
     "end_time": "2024-07-26T07:44:04.517830",
     "exception": false,
     "start_time": "2024-07-26T07:44:04.495534",
     "status": "completed"
    },
    "tags": []
   },
   "outputs": [],
   "source": [
    "# # # Combineer de datasets\n",
    "# combined_isic_ids = np.concatenate([train_isic_ids[train_indices], train_isic_ids[val_indices]])\n",
    "# combined_targets = np.concatenate([train_targets[train_indices], train_targets[val_indices]])\n",
    "\n",
    "# combined_dataset = ISICDataset(train_hdf5, combined_isic_ids, targets=combined_targets, feature_extractor=feature_extractor)\n",
    "# tf_combined_dataset = combined_dataset.to_tf_dataset()\n"
   ]
  },
  {
   "cell_type": "code",
   "execution_count": 13,
   "id": "51d8ce37",
   "metadata": {
    "execution": {
     "iopub.execute_input": "2024-07-26T07:44:04.539232Z",
     "iopub.status.busy": "2024-07-26T07:44:04.538728Z",
     "iopub.status.idle": "2024-07-26T07:44:04.544965Z",
     "shell.execute_reply": "2024-07-26T07:44:04.543192Z"
    },
    "papermill": {
     "duration": 0.020544,
     "end_time": "2024-07-26T07:44:04.548109",
     "exception": false,
     "start_time": "2024-07-26T07:44:04.527565",
     "status": "completed"
    },
    "tags": []
   },
   "outputs": [],
   "source": [
    "# detect and init the TPU\n",
    "# tpu = tf.distribute.cluster_resolver.TPUClusterResolver()\n",
    "\n",
    "# # instantiate a distribution strategy\n",
    "# tf.tpu.experimental.initialize_tpu_system(tpu)\n",
    "# tpu_strategy = tf.distribute.TPUStrategy(tpu)"
   ]
  },
  {
   "cell_type": "code",
   "execution_count": 14,
   "id": "069bdba7",
   "metadata": {
    "execution": {
     "iopub.execute_input": "2024-07-26T07:44:04.570194Z",
     "iopub.status.busy": "2024-07-26T07:44:04.568871Z",
     "iopub.status.idle": "2024-07-26T07:44:04.575694Z",
     "shell.execute_reply": "2024-07-26T07:44:04.573987Z"
    },
    "papermill": {
     "duration": 0.021539,
     "end_time": "2024-07-26T07:44:04.578949",
     "exception": false,
     "start_time": "2024-07-26T07:44:04.557410",
     "status": "completed"
    },
    "tags": []
   },
   "outputs": [],
   "source": [
    "# # Definieer de CustomViTModel class\n",
    "# class CustomViTModel(tf.keras.Model):\n",
    "#     def __init__(self, backbone, num_classes, **kwargs):\n",
    "#         super(CustomViTModel, self).__init__(**kwargs)\n",
    "#         self.backbone = backbone\n",
    "#         self.dense = layers.Dense(num_classes, activation='softmax')\n",
    "\n",
    "#     def call(self, inputs):\n",
    "#         outputs = self.backbone(inputs).last_hidden_state[:, 0, :]\n",
    "#         outputs = self.dense(outputs)\n",
    "#         return outputs"
   ]
  },
  {
   "cell_type": "code",
   "execution_count": 15,
   "id": "cee35744",
   "metadata": {
    "execution": {
     "iopub.execute_input": "2024-07-26T07:44:04.600122Z",
     "iopub.status.busy": "2024-07-26T07:44:04.599674Z",
     "iopub.status.idle": "2024-07-26T07:44:04.605230Z",
     "shell.execute_reply": "2024-07-26T07:44:04.603578Z"
    },
    "papermill": {
     "duration": 0.020056,
     "end_time": "2024-07-26T07:44:04.608518",
     "exception": false,
     "start_time": "2024-07-26T07:44:04.588462",
     "status": "completed"
    },
    "tags": []
   },
   "outputs": [],
   "source": [
    "# Maak het CustomViTModel\n",
    "# num_classes = len(np.unique(train_targets))\n",
    "# custom_vit_model = CustomViTModel(vit_model, num_classes)"
   ]
  },
  {
   "cell_type": "code",
   "execution_count": 16,
   "id": "52facf73",
   "metadata": {
    "execution": {
     "iopub.execute_input": "2024-07-26T07:44:04.630847Z",
     "iopub.status.busy": "2024-07-26T07:44:04.630375Z",
     "iopub.status.idle": "2024-07-26T07:44:04.636655Z",
     "shell.execute_reply": "2024-07-26T07:44:04.634968Z"
    },
    "papermill": {
     "duration": 0.019951,
     "end_time": "2024-07-26T07:44:04.639482",
     "exception": false,
     "start_time": "2024-07-26T07:44:04.619531",
     "status": "completed"
    },
    "tags": []
   },
   "outputs": [],
   "source": [
    "# # Compileer het model met een gebruikelijke loss-functie\n",
    "# with tpu_strategy.scope():\n",
    "#     custom_vit_model.compile(optimizer=tf.keras.optimizers.Adam(learning_rate=1e-4),\n",
    "#                              loss='sparse_categorical_crossentropy',\n",
    "#                              metrics=['accuracy'])"
   ]
  },
  {
   "cell_type": "code",
   "execution_count": 17,
   "id": "5b81af75",
   "metadata": {
    "execution": {
     "iopub.execute_input": "2024-07-26T07:44:04.660475Z",
     "iopub.status.busy": "2024-07-26T07:44:04.660050Z",
     "iopub.status.idle": "2024-07-26T07:44:04.665979Z",
     "shell.execute_reply": "2024-07-26T07:44:04.664711Z"
    },
    "papermill": {
     "duration": 0.020057,
     "end_time": "2024-07-26T07:44:04.669067",
     "exception": false,
     "start_time": "2024-07-26T07:44:04.649010",
     "status": "completed"
    },
    "tags": []
   },
   "outputs": [],
   "source": [
    "# steps_per_epoch = len(combined_dataset) // combined_dataset.batch_size"
   ]
  },
  {
   "cell_type": "code",
   "execution_count": 18,
   "id": "ab9d295b",
   "metadata": {
    "execution": {
     "iopub.execute_input": "2024-07-26T07:44:04.690971Z",
     "iopub.status.busy": "2024-07-26T07:44:04.690502Z",
     "iopub.status.idle": "2024-07-26T07:44:04.696882Z",
     "shell.execute_reply": "2024-07-26T07:44:04.695283Z"
    },
    "papermill": {
     "duration": 0.021519,
     "end_time": "2024-07-26T07:44:04.700659",
     "exception": false,
     "start_time": "2024-07-26T07:44:04.679140",
     "status": "completed"
    },
    "tags": []
   },
   "outputs": [],
   "source": [
    "# Train het model met de gecombineerde dataset\n",
    "# with tpu_strategy.scope():\n",
    "#     history = custom_vit_model.fit(tf_combined_dataset, epochs=10, steps_per_epoch=steps_per_epoch)"
   ]
  },
  {
   "cell_type": "code",
   "execution_count": 19,
   "id": "5613d45c",
   "metadata": {
    "execution": {
     "iopub.execute_input": "2024-07-26T07:44:04.721924Z",
     "iopub.status.busy": "2024-07-26T07:44:04.721494Z",
     "iopub.status.idle": "2024-07-26T07:44:04.728774Z",
     "shell.execute_reply": "2024-07-26T07:44:04.726619Z"
    },
    "papermill": {
     "duration": 0.021543,
     "end_time": "2024-07-26T07:44:04.732100",
     "exception": false,
     "start_time": "2024-07-26T07:44:04.710557",
     "status": "completed"
    },
    "tags": []
   },
   "outputs": [],
   "source": [
    "#Sla de modelgewichten op\n",
    "# with tpu_strategy.scope():\n",
    "#     custom_vit_model.save_weights('./kaggle/tmp/custom_vit_model_combi.weights.h5')\n",
    "\n",
    "# Sla de feature extractor en het model lokaal op\n",
    "# feature_extractor.save_pretrained('./vit-base-patch16-224')\n",
    "# vit_model.save_pretrained('./vit-base-patch16-224')"
   ]
  },
  {
   "cell_type": "code",
   "execution_count": 20,
   "id": "5ea5659c",
   "metadata": {
    "execution": {
     "iopub.execute_input": "2024-07-26T07:44:04.753528Z",
     "iopub.status.busy": "2024-07-26T07:44:04.753062Z",
     "iopub.status.idle": "2024-07-26T07:44:04.759156Z",
     "shell.execute_reply": "2024-07-26T07:44:04.757528Z"
    },
    "papermill": {
     "duration": 0.020921,
     "end_time": "2024-07-26T07:44:04.762348",
     "exception": false,
     "start_time": "2024-07-26T07:44:04.741427",
     "status": "completed"
    },
    "tags": []
   },
   "outputs": [],
   "source": [
    "\n",
    "# # Verkrijg de voorspellingen van het model\n",
    "# predictions = custom_vit_model.predict(val_images)\n",
    "# predicted_probabilities = tf.reduce_max(predictions, axis=1)\n",
    "\n",
    "# # Binarize de test labels voor ROC berekening\n",
    "# val_labels_binary = (val_labels == 1).numpy().astype(int)\n"
   ]
  },
  {
   "cell_type": "code",
   "execution_count": 21,
   "id": "3840e5e8",
   "metadata": {
    "execution": {
     "iopub.execute_input": "2024-07-26T07:44:04.786893Z",
     "iopub.status.busy": "2024-07-26T07:44:04.786436Z",
     "iopub.status.idle": "2024-07-26T07:44:04.793149Z",
     "shell.execute_reply": "2024-07-26T07:44:04.791586Z"
    },
    "papermill": {
     "duration": 0.022767,
     "end_time": "2024-07-26T07:44:04.796332",
     "exception": false,
     "start_time": "2024-07-26T07:44:04.773565",
     "status": "completed"
    },
    "tags": []
   },
   "outputs": [],
   "source": [
    "# # Bereken de ROC-curve en de pAUC\n",
    "# fpr, tpr, thresholds = roc_curve(val_labels_binary, predicted_probabilities)\n",
    "# partial_auc = auc(fpr, tpr)\n",
    "\n",
    "# print(f'Partial AUC: {partial_auc}')"
   ]
  },
  {
   "cell_type": "code",
   "execution_count": 22,
   "id": "2b50a22b",
   "metadata": {
    "execution": {
     "iopub.execute_input": "2024-07-26T07:44:04.817215Z",
     "iopub.status.busy": "2024-07-26T07:44:04.816798Z",
     "iopub.status.idle": "2024-07-26T07:44:17.183954Z",
     "shell.execute_reply": "2024-07-26T07:44:17.182319Z"
    },
    "papermill": {
     "duration": 12.381301,
     "end_time": "2024-07-26T07:44:17.187249",
     "exception": false,
     "start_time": "2024-07-26T07:44:04.805948",
     "status": "completed"
    },
    "tags": []
   },
   "outputs": [
    {
     "name": "stderr",
     "output_type": "stream",
     "text": [
      "All model checkpoint layers were used when initializing TFViTModel.\n",
      "\n",
      "All the layers of TFViTModel were initialized from the model checkpoint at /kaggle/input/pre_trained_vit16/tensorflow2/default/1.\n",
      "If your task is similar to the task the model of the checkpoint was trained on, you can already use TFViTModel for predictions without further training.\n"
     ]
    },
    {
     "name": "stdout",
     "output_type": "stream",
     "text": [
      "\u001b[1m1/1\u001b[0m \u001b[32m━━━━━━━━━━━━━━━━━━━━\u001b[0m\u001b[37m\u001b[0m \u001b[1m7s\u001b[0m 7s/step\n"
     ]
    },
    {
     "name": "stderr",
     "output_type": "stream",
     "text": [
      "/opt/conda/lib/python3.10/contextlib.py:153: UserWarning: Your input ran out of data; interrupting training. Make sure that your dataset or generator can generate at least `steps_per_epoch * epochs` batches. You may need to use the `.repeat()` function when building your dataset.\n",
      "  self.gen.throw(typ, value, traceback)\n"
     ]
    }
   ],
   "source": [
    "# Definieer de CustomViTModel class\n",
    "class CustomViTModel(tf.keras.Model):\n",
    "    def __init__(self, backbone, num_classes, **kwargs):\n",
    "        super(CustomViTModel, self).__init__(**kwargs)\n",
    "        self.backbone = backbone\n",
    "        self.dense = layers.Dense(num_classes, activation='softmax')\n",
    "\n",
    "    def call(self, inputs):\n",
    "        outputs = self.backbone(inputs).last_hidden_state[:, 0, :]\n",
    "        outputs = self.dense(outputs)\n",
    "        return outputs\n",
    "\n",
    "# Registreren van de custom class\n",
    "tf.keras.utils.get_custom_objects()['CustomViTModel'] = CustomViTModel\n",
    "\n",
    "# Laad de feature extractor en het model lokaal\n",
    "feature_extractor = ViTFeatureExtractor.from_pretrained('/kaggle/input/pre_trained_vit16/tensorflow2/default/1', local_files_only=True)\n",
    "vit_model = TFViTModel.from_pretrained('/kaggle/input/pre_trained_vit16/tensorflow2/default/1', local_files_only=True)\n",
    "\n",
    "num_classes = len(np.unique(train_targets))\n",
    "custom_vit_model = CustomViTModel(vit_model, num_classes)\n",
    "custom_vit_model.load_weights('/kaggle/input/pre_trained_vit16/tensorflow2/default/2/custom_vit_model_combi.weights.h5')\n",
    "\n",
    "# Functie om testset voor te bereiden en te voorspellen\n",
    "def prepare_test_dataset(test_hdf5, test_isic_ids, feature_extractor, batch_size=32):\n",
    "    def _generator():\n",
    "        for isic_id in test_isic_ids:\n",
    "            isic_id = str(isic_id)\n",
    "            image = Image.open(BytesIO(test_hdf5[isic_id][()]))\n",
    "            image = image.convert(\"RGB\")\n",
    "            image = np.array(image)\n",
    "            image = feature_extractor(images=image, return_tensors=\"tf\").pixel_values[0]\n",
    "            yield image\n",
    "    \n",
    "    tf_test_dataset = tf.data.Dataset.from_generator(_generator, \n",
    "                                                     output_signature=tf.TensorSpec(shape=(3, 224, 224), dtype=tf.float32))\n",
    "    tf_test_dataset = tf_test_dataset.batch(batch_size).prefetch(buffer_size=tf.data.AUTOTUNE)\n",
    "    return tf_test_dataset\n",
    "\n",
    "# Voorbereiden van de testset\n",
    "data_path = '/kaggle/input/isic-2024-challenge/'\n",
    "path_test_hdf5 = os.path.join(data_path, 'test-image.hdf5')\n",
    "path_test_meta = data_path + 'test-metadata.csv'\n",
    "\n",
    "test_hdf5 = h5py.File(path_test_hdf5, 'r')\n",
    "test_meta = pd.read_csv(path_test_meta)\n",
    "test_isic_ids = test_meta['isic_id'].values\n",
    "\n",
    "# with tpu_strategy.scope():\n",
    "tf_test_dataset = prepare_test_dataset(test_hdf5, test_isic_ids, feature_extractor)\n",
    "\n",
    "# Genereer voorspellingen voor de testset\n",
    "predictions = custom_vit_model.predict(tf_test_dataset)\n",
    "predicted_probabilities = tf.reduce_max(predictions, axis=1).numpy()\n",
    "\n",
    "# Controleer de lengtes van de arrays\n",
    "assert len(test_isic_ids) == len(predicted_probabilities), f\"Mismatch in lengths: {len(test_isic_ids)} vs {len(predicted_probabilities)}\"\n",
    "\n",
    "# Maak de submission dataframe\n",
    "submission = pd.DataFrame({'isic_id': test_isic_ids, 'target': predicted_probabilities})\n",
    "\n",
    "# Sla de submission dataframe op als CSV\n",
    "submission.to_csv('submission.csv', index=False)\n"
   ]
  },
  {
   "cell_type": "code",
   "execution_count": null,
   "id": "70252102",
   "metadata": {
    "papermill": {
     "duration": 0.009679,
     "end_time": "2024-07-26T07:44:17.206754",
     "exception": false,
     "start_time": "2024-07-26T07:44:17.197075",
     "status": "completed"
    },
    "tags": []
   },
   "outputs": [],
   "source": []
  }
 ],
 "metadata": {
  "kaggle": {
   "accelerator": "none",
   "dataSources": [
    {
     "databundleVersionId": 9094797,
     "sourceId": 63056,
     "sourceType": "competition"
    },
    {
     "modelId": 94212,
     "modelInstanceId": 69085,
     "sourceId": 82227,
     "sourceType": "modelInstanceVersion"
    },
    {
     "modelId": 94212,
     "modelInstanceId": 69085,
     "sourceId": 82335,
     "sourceType": "modelInstanceVersion"
    }
   ],
   "dockerImageVersionId": 30732,
   "isGpuEnabled": false,
   "isInternetEnabled": false,
   "language": "python",
   "sourceType": "notebook"
  },
  "kernelspec": {
   "display_name": "Python 3",
   "language": "python",
   "name": "python3"
  },
  "language_info": {
   "codemirror_mode": {
    "name": "ipython",
    "version": 3
   },
   "file_extension": ".py",
   "mimetype": "text/x-python",
   "name": "python",
   "nbconvert_exporter": "python",
   "pygments_lexer": "ipython3",
   "version": "3.10.13"
  },
  "papermill": {
   "default_parameters": {},
   "duration": 68.535758,
   "end_time": "2024-07-26T07:44:20.440922",
   "environment_variables": {},
   "exception": null,
   "input_path": "__notebook__.ipynb",
   "output_path": "__notebook__.ipynb",
   "parameters": {},
   "start_time": "2024-07-26T07:43:11.905164",
   "version": "2.5.0"
  }
 },
 "nbformat": 4,
 "nbformat_minor": 5
}
