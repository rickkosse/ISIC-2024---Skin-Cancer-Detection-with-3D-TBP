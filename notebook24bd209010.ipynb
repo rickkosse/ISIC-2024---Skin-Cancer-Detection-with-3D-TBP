{
 "cells": [
  {
   "cell_type": "code",
   "execution_count": 1,
   "id": "1dd0d64e",
   "metadata": {
    "execution": {
     "iopub.execute_input": "2024-07-18T13:45:14.663393Z",
     "iopub.status.busy": "2024-07-18T13:45:14.662999Z",
     "iopub.status.idle": "2024-07-18T13:45:32.896148Z",
     "shell.execute_reply": "2024-07-18T13:45:32.895331Z"
    },
    "papermill": {
     "duration": 18.244173,
     "end_time": "2024-07-18T13:45:32.898518",
     "exception": false,
     "start_time": "2024-07-18T13:45:14.654345",
     "status": "completed"
    },
    "tags": []
   },
   "outputs": [
    {
     "name": "stderr",
     "output_type": "stream",
     "text": [
      "2024-07-18 13:45:18.307519: E external/local_xla/xla/stream_executor/cuda/cuda_dnn.cc:9261] Unable to register cuDNN factory: Attempting to register factory for plugin cuDNN when one has already been registered\n",
      "2024-07-18 13:45:18.307624: E external/local_xla/xla/stream_executor/cuda/cuda_fft.cc:607] Unable to register cuFFT factory: Attempting to register factory for plugin cuFFT when one has already been registered\n",
      "2024-07-18 13:45:18.431097: E external/local_xla/xla/stream_executor/cuda/cuda_blas.cc:1515] Unable to register cuBLAS factory: Attempting to register factory for plugin cuBLAS when one has already been registered\n"
     ]
    }
   ],
   "source": [
    "import os\n",
    "import h5py\n",
    "import pandas as pd\n",
    "import numpy as np\n",
    "from sklearn.model_selection import train_test_split\n",
    "import tensorflow as tf\n",
    "from tensorflow.keras import layers\n",
    "from transformers import TFViTModel, ViTFeatureExtractor\n",
    "from PIL import Image\n",
    "from io import BytesIO\n",
    "from sklearn.metrics import roc_curve, auc"
   ]
  },
  {
   "cell_type": "markdown",
   "id": "dea5ae5d",
   "metadata": {
    "papermill": {
     "duration": 0.006873,
     "end_time": "2024-07-18T13:45:32.913033",
     "exception": false,
     "start_time": "2024-07-18T13:45:32.906160",
     "status": "completed"
    },
    "tags": []
   },
   "source": [
    "# Load data"
   ]
  },
  {
   "cell_type": "code",
   "execution_count": 2,
   "id": "6c2fc50d",
   "metadata": {
    "execution": {
     "iopub.execute_input": "2024-07-18T13:45:32.929040Z",
     "iopub.status.busy": "2024-07-18T13:45:32.928152Z",
     "iopub.status.idle": "2024-07-18T13:45:32.933115Z",
     "shell.execute_reply": "2024-07-18T13:45:32.932344Z"
    },
    "papermill": {
     "duration": 0.01497,
     "end_time": "2024-07-18T13:45:32.935042",
     "exception": false,
     "start_time": "2024-07-18T13:45:32.920072",
     "status": "completed"
    },
    "tags": []
   },
   "outputs": [],
   "source": [
    "# Load data\n",
    "# define data path\n",
    "data_path = '/kaggle/input/isic-2024-challenge/'\n",
    "\n",
    "path_train_hdf5 = os.path.join(data_path, 'train-image.hdf5')\n",
    "path_test_hdf5 = os.path.join(data_path, 'test-image.hdf5')\n",
    "\n",
    "path_train_meta = data_path + 'train-metadata.csv'\n",
    "path_test_meta = data_path + 'test-metadata.csv'"
   ]
  },
  {
   "cell_type": "code",
   "execution_count": 3,
   "id": "cb76af87",
   "metadata": {
    "execution": {
     "iopub.execute_input": "2024-07-18T13:45:32.950194Z",
     "iopub.status.busy": "2024-07-18T13:45:32.949737Z",
     "iopub.status.idle": "2024-07-18T13:45:32.965833Z",
     "shell.execute_reply": "2024-07-18T13:45:32.965015Z"
    },
    "papermill": {
     "duration": 0.025733,
     "end_time": "2024-07-18T13:45:32.967767",
     "exception": false,
     "start_time": "2024-07-18T13:45:32.942034",
     "status": "completed"
    },
    "tags": []
   },
   "outputs": [],
   "source": [
    "# load data\n",
    "train_hdf5 = h5py.File(path_train_hdf5, 'r')\n",
    "test_hdf5 = h5py.File(path_test_hdf5, 'r')"
   ]
  },
  {
   "cell_type": "code",
   "execution_count": 4,
   "id": "598bff67",
   "metadata": {
    "execution": {
     "iopub.execute_input": "2024-07-18T13:45:32.983630Z",
     "iopub.status.busy": "2024-07-18T13:45:32.982969Z",
     "iopub.status.idle": "2024-07-18T13:45:40.097887Z",
     "shell.execute_reply": "2024-07-18T13:45:40.096854Z"
    },
    "papermill": {
     "duration": 7.125251,
     "end_time": "2024-07-18T13:45:40.100349",
     "exception": false,
     "start_time": "2024-07-18T13:45:32.975098",
     "status": "completed"
    },
    "tags": []
   },
   "outputs": [
    {
     "name": "stderr",
     "output_type": "stream",
     "text": [
      "/tmp/ipykernel_23/1940620682.py:2: DtypeWarning: Columns (51,52) have mixed types. Specify dtype option on import or set low_memory=False.\n",
      "  train_meta = pd.read_csv(path_train_meta)\n"
     ]
    }
   ],
   "source": [
    "# Load metadata\n",
    "train_meta = pd.read_csv(path_train_meta)\n",
    "test_meta = pd.read_csv(path_test_meta)"
   ]
  },
  {
   "cell_type": "code",
   "execution_count": 5,
   "id": "9d87467d",
   "metadata": {
    "execution": {
     "iopub.execute_input": "2024-07-18T13:45:40.117773Z",
     "iopub.status.busy": "2024-07-18T13:45:40.117012Z",
     "iopub.status.idle": "2024-07-18T13:45:40.213638Z",
     "shell.execute_reply": "2024-07-18T13:45:40.212896Z"
    },
    "papermill": {
     "duration": 0.107441,
     "end_time": "2024-07-18T13:45:40.215737",
     "exception": false,
     "start_time": "2024-07-18T13:45:40.108296",
     "status": "completed"
    },
    "tags": []
   },
   "outputs": [],
   "source": [
    "# read in the isic ids and target values\n",
    "train_isic_ids = train_meta['isic_id'].values\n",
    "train_isic_ids = train_meta[train_meta['lesion_id'].notnull()]['isic_id'].values\n",
    "\n",
    "test_isic_ids = test_meta['isic_id'].values\n",
    "\n",
    "train_targets = train_meta[train_meta['lesion_id'].notnull()]['target'].values"
   ]
  },
  {
   "cell_type": "code",
   "execution_count": 6,
   "id": "35f02f3f",
   "metadata": {
    "execution": {
     "iopub.execute_input": "2024-07-18T13:45:40.231406Z",
     "iopub.status.busy": "2024-07-18T13:45:40.231110Z",
     "iopub.status.idle": "2024-07-18T13:45:40.237449Z",
     "shell.execute_reply": "2024-07-18T13:45:40.236631Z"
    },
    "papermill": {
     "duration": 0.016191,
     "end_time": "2024-07-18T13:45:40.239233",
     "exception": false,
     "start_time": "2024-07-18T13:45:40.223042",
     "status": "completed"
    },
    "tags": []
   },
   "outputs": [
    {
     "data": {
      "text/plain": [
       "22058"
      ]
     },
     "execution_count": 6,
     "metadata": {},
     "output_type": "execute_result"
    }
   ],
   "source": [
    "len(train_targets)"
   ]
  },
  {
   "cell_type": "code",
   "execution_count": 7,
   "id": "b052dbe9",
   "metadata": {
    "execution": {
     "iopub.execute_input": "2024-07-18T13:45:40.254986Z",
     "iopub.status.busy": "2024-07-18T13:45:40.254508Z",
     "iopub.status.idle": "2024-07-18T13:45:40.261310Z",
     "shell.execute_reply": "2024-07-18T13:45:40.260548Z"
    },
    "papermill": {
     "duration": 0.016639,
     "end_time": "2024-07-18T13:45:40.263154",
     "exception": false,
     "start_time": "2024-07-18T13:45:40.246515",
     "status": "completed"
    },
    "tags": []
   },
   "outputs": [],
   "source": [
    "import numpy as np\n",
    "from sklearn.model_selection import train_test_split\n",
    "\n",
    "# Splits de data in train en validation sets\n",
    "total_size = len(train_targets)\n",
    "indices = np.arange(total_size)\n",
    "\n",
    "# Definieer de verhoudingen voor train en val\n",
    "train_size = int(total_size * 0.8)  # Pas dit aan naar jouw gewenste verhouding\n",
    "val_size = total_size - train_size\n",
    "\n",
    "# Gebruik train_test_split om indices te splitsen\n",
    "train_indices, val_indices = train_test_split(indices, test_size=val_size, train_size=train_size)\n"
   ]
  },
  {
   "cell_type": "code",
   "execution_count": 8,
   "id": "b344317d",
   "metadata": {
    "execution": {
     "iopub.execute_input": "2024-07-18T13:45:40.279634Z",
     "iopub.status.busy": "2024-07-18T13:45:40.279170Z",
     "iopub.status.idle": "2024-07-18T13:45:40.284113Z",
     "shell.execute_reply": "2024-07-18T13:45:40.283004Z"
    },
    "papermill": {
     "duration": 0.014592,
     "end_time": "2024-07-18T13:45:40.285991",
     "exception": false,
     "start_time": "2024-07-18T13:45:40.271399",
     "status": "completed"
    },
    "tags": []
   },
   "outputs": [
    {
     "name": "stdout",
     "output_type": "stream",
     "text": [
      "[21484  4037  3613 ... 10680  6719  5185] [ 6825 18516 17227 ...  9210  9772  7295]\n"
     ]
    }
   ],
   "source": [
    "print(train_indices, val_indices)"
   ]
  },
  {
   "cell_type": "code",
   "execution_count": 9,
   "id": "e0cc3336",
   "metadata": {
    "execution": {
     "iopub.execute_input": "2024-07-18T13:45:40.301962Z",
     "iopub.status.busy": "2024-07-18T13:45:40.301243Z",
     "iopub.status.idle": "2024-07-18T13:45:40.306076Z",
     "shell.execute_reply": "2024-07-18T13:45:40.305435Z"
    },
    "papermill": {
     "duration": 0.014598,
     "end_time": "2024-07-18T13:45:40.307899",
     "exception": false,
     "start_time": "2024-07-18T13:45:40.293301",
     "status": "completed"
    },
    "tags": []
   },
   "outputs": [],
   "source": [
    "def preprocess_image(image):\n",
    "    image = tf.image.resize(image, [224, 224])\n",
    "    if image.shape[-1] == 1:  # Handle grayscale images\n",
    "        image = tf.image.grayscale_to_rgb(image)\n",
    "    print(image.shape[-1])\n",
    "    image = image[..., ::-1]\n",
    "    return image"
   ]
  },
  {
   "cell_type": "code",
   "execution_count": 10,
   "id": "3b4a7c44",
   "metadata": {
    "execution": {
     "iopub.execute_input": "2024-07-18T13:45:40.323711Z",
     "iopub.status.busy": "2024-07-18T13:45:40.323449Z",
     "iopub.status.idle": "2024-07-18T13:45:40.334818Z",
     "shell.execute_reply": "2024-07-18T13:45:40.334031Z"
    },
    "papermill": {
     "duration": 0.021433,
     "end_time": "2024-07-18T13:45:40.336650",
     "exception": false,
     "start_time": "2024-07-18T13:45:40.315217",
     "status": "completed"
    },
    "tags": []
   },
   "outputs": [],
   "source": [
    "class ISICDataset(tf.keras.utils.Sequence):\n",
    "    def __init__(self, hdf5_file, isic_ids, targets=None, feature_extractor=None, batch_size=32):\n",
    "        self.hdf5_file = hdf5_file\n",
    "        self.isic_ids = isic_ids\n",
    "        self.targets = targets\n",
    "        self.feature_extractor = feature_extractor\n",
    "        self.batch_size = batch_size\n",
    "        \n",
    "    def __len__(self):\n",
    "        return len(self.isic_ids)\n",
    "    \n",
    "    def __getitem__(self, idx):\n",
    "        isic_id = str(self.isic_ids[idx])\n",
    "        image = Image.open(BytesIO(self.hdf5_file[isic_id][()]))\n",
    "        image = image.convert(\"RGB\")\n",
    "        image = np.array(image)\n",
    "        if self.feature_extractor:\n",
    "            image = self.feature_extractor(images=image, return_tensors=\"tf\").pixel_values[0]\n",
    "        if self.targets is not None:\n",
    "            target = self.targets[idx]\n",
    "            return image, target\n",
    "        else:\n",
    "            return image\n",
    "    \n",
    "    def _load_image(self, isic_id):\n",
    "        isic_id = str(isic_id)\n",
    "        image = Image.open(BytesIO(self.hdf5_file[isic_id][()]))\n",
    "        image = image.convert(\"RGB\")\n",
    "        image = np.array(image)\n",
    "        if self.feature_extractor:\n",
    "            image = self.feature_extractor(images=image, return_tensors=\"tf\").pixel_values[0]\n",
    "        return image\n",
    "\n",
    "    def _generator(self):\n",
    "        for idx in range(len(self.isic_ids)):\n",
    "            yield self._load_image(self.isic_ids[idx]), self.targets[idx]\n",
    "\n",
    "    def to_tf_dataset(self):\n",
    "        tf_dataset = tf.data.Dataset.from_generator(self._generator, \n",
    "                                                    output_signature=(tf.TensorSpec(shape=(3, 224, 224), dtype=tf.float32),\n",
    "                                                                      tf.TensorSpec(shape=(), dtype=tf.int64)))\n",
    "        tf_dataset = tf_dataset.batch(self.batch_size).prefetch(buffer_size=tf.data.AUTOTUNE)\n",
    "        return tf_dataset"
   ]
  },
  {
   "cell_type": "code",
   "execution_count": 11,
   "id": "fae81b9d",
   "metadata": {
    "execution": {
     "iopub.execute_input": "2024-07-18T13:45:40.352573Z",
     "iopub.status.busy": "2024-07-18T13:45:40.351892Z",
     "iopub.status.idle": "2024-07-18T13:45:40.782005Z",
     "shell.execute_reply": "2024-07-18T13:45:40.781139Z"
    },
    "papermill": {
     "duration": 0.442302,
     "end_time": "2024-07-18T13:45:40.786224",
     "exception": false,
     "start_time": "2024-07-18T13:45:40.343922",
     "status": "completed"
    },
    "tags": []
   },
   "outputs": [
    {
     "data": {
      "application/vnd.jupyter.widget-view+json": {
       "model_id": "26a7109eb29a4aacb2688ac316a2f06f",
       "version_major": 2,
       "version_minor": 0
      },
      "text/plain": [
       "preprocessor_config.json:   0%|          | 0.00/160 [00:00<?, ?B/s]"
      ]
     },
     "metadata": {},
     "output_type": "display_data"
    },
    {
     "name": "stderr",
     "output_type": "stream",
     "text": [
      "/opt/conda/lib/python3.10/site-packages/transformers/models/vit/feature_extraction_vit.py:28: FutureWarning: The class ViTFeatureExtractor is deprecated and will be removed in version 5 of Transformers. Please use ViTImageProcessor instead.\n",
      "  warnings.warn(\n"
     ]
    }
   ],
   "source": [
    "\n",
    "model_name = 'google/vit-base-patch16-224'\n",
    "feature_extractor = ViTFeatureExtractor.from_pretrained(model_name)\n",
    "\n",
    "train_dataset = ISICDataset(train_hdf5, train_isic_ids[train_indices], targets=train_targets[train_indices], feature_extractor=feature_extractor)\n",
    "val_dataset = ISICDataset(train_hdf5, train_isic_ids[val_indices], targets=train_targets[val_indices], feature_extractor=feature_extractor)\n"
   ]
  },
  {
   "cell_type": "code",
   "execution_count": 12,
   "id": "1a548025",
   "metadata": {
    "execution": {
     "iopub.execute_input": "2024-07-18T13:45:40.802950Z",
     "iopub.status.busy": "2024-07-18T13:45:40.802464Z",
     "iopub.status.idle": "2024-07-18T13:45:41.380102Z",
     "shell.execute_reply": "2024-07-18T13:45:41.379123Z"
    },
    "papermill": {
     "duration": 0.58827,
     "end_time": "2024-07-18T13:45:41.382308",
     "exception": false,
     "start_time": "2024-07-18T13:45:40.794038",
     "status": "completed"
    },
    "tags": []
   },
   "outputs": [],
   "source": [
    "# Maak TensorFlow datasets\n",
    "tf_train_dataset = train_dataset.to_tf_dataset()\n",
    "tf_val_dataset = val_dataset.to_tf_dataset()"
   ]
  },
  {
   "cell_type": "code",
   "execution_count": 13,
   "id": "fd1be372",
   "metadata": {
    "execution": {
     "iopub.execute_input": "2024-07-18T13:45:41.399973Z",
     "iopub.status.busy": "2024-07-18T13:45:41.399113Z",
     "iopub.status.idle": "2024-07-18T13:45:49.360138Z",
     "shell.execute_reply": "2024-07-18T13:45:49.359455Z"
    },
    "papermill": {
     "duration": 7.971556,
     "end_time": "2024-07-18T13:45:49.362023",
     "exception": false,
     "start_time": "2024-07-18T13:45:41.390467",
     "status": "completed"
    },
    "tags": []
   },
   "outputs": [
    {
     "data": {
      "application/vnd.jupyter.widget-view+json": {
       "model_id": "525152c2e5564a49be14a3d74b645eec",
       "version_major": 2,
       "version_minor": 0
      },
      "text/plain": [
       "config.json:   0%|          | 0.00/69.7k [00:00<?, ?B/s]"
      ]
     },
     "metadata": {},
     "output_type": "display_data"
    },
    {
     "data": {
      "application/vnd.jupyter.widget-view+json": {
       "model_id": "0349e0dc320d44228fe2525f6a794236",
       "version_major": 2,
       "version_minor": 0
      },
      "text/plain": [
       "model.safetensors:   0%|          | 0.00/346M [00:00<?, ?B/s]"
      ]
     },
     "metadata": {},
     "output_type": "display_data"
    },
    {
     "name": "stderr",
     "output_type": "stream",
     "text": [
      "Some weights of the PyTorch model were not used when initializing the TF 2.0 model TFViTModel: ['classifier.bias', 'classifier.weight']\n",
      "- This IS expected if you are initializing TFViTModel from a PyTorch model trained on another task or with another architecture (e.g. initializing a TFBertForSequenceClassification model from a BertForPreTraining model).\n",
      "- This IS NOT expected if you are initializing TFViTModel from a PyTorch model that you expect to be exactly identical (e.g. initializing a TFBertForSequenceClassification model from a BertForSequenceClassification model).\n",
      "Some weights or buffers of the TF 2.0 model TFViTModel were not initialized from the PyTorch model and are newly initialized: ['vit.pooler.dense.weight', 'vit.pooler.dense.bias']\n",
      "You should probably TRAIN this model on a down-stream task to be able to use it for predictions and inference.\n"
     ]
    }
   ],
   "source": [
    "vit_model = TFViTModel.from_pretrained(model_name)"
   ]
  },
  {
   "cell_type": "code",
   "execution_count": 14,
   "id": "86041476",
   "metadata": {
    "execution": {
     "iopub.execute_input": "2024-07-18T13:45:49.380025Z",
     "iopub.status.busy": "2024-07-18T13:45:49.379720Z",
     "iopub.status.idle": "2024-07-18T13:45:49.386991Z",
     "shell.execute_reply": "2024-07-18T13:45:49.386057Z"
    },
    "papermill": {
     "duration": 0.018494,
     "end_time": "2024-07-18T13:45:49.389010",
     "exception": false,
     "start_time": "2024-07-18T13:45:49.370516",
     "status": "completed"
    },
    "tags": []
   },
   "outputs": [
    {
     "name": "stdout",
     "output_type": "stream",
     "text": [
      "Found GPU at: /device:GPU:0\n",
      "GPU available (YESS!!!!)\n"
     ]
    }
   ],
   "source": [
    "import tensorflow as tf\n",
    "\n",
    "device_name = tf.test.gpu_device_name()\n",
    "\n",
    "if \"GPU\" not in device_name:\n",
    "    print(\"GPU device not found\")\n",
    "    \n",
    "print('Found GPU at: {}'.format(device_name))\n",
    "\n",
    "print(\"GPU\", \"available (YESS!!!!)\" if tf.config.list_physical_devices(\"GPU\") else \"not available :(\")"
   ]
  },
  {
   "cell_type": "code",
   "execution_count": 15,
   "id": "0f672327",
   "metadata": {
    "execution": {
     "iopub.execute_input": "2024-07-18T13:45:49.406504Z",
     "iopub.status.busy": "2024-07-18T13:45:49.406188Z",
     "iopub.status.idle": "2024-07-18T13:45:49.412380Z",
     "shell.execute_reply": "2024-07-18T13:45:49.411533Z"
    },
    "papermill": {
     "duration": 0.017153,
     "end_time": "2024-07-18T13:45:49.414358",
     "exception": false,
     "start_time": "2024-07-18T13:45:49.397205",
     "status": "completed"
    },
    "tags": []
   },
   "outputs": [],
   "source": [
    "class CustomViTModel(tf.keras.Model):\n",
    "    def __init__(self, backbone, num_classes):\n",
    "        super(CustomViTModel, self).__init__()\n",
    "        self.backbone = backbone\n",
    "        self.dense = layers.Dense(num_classes, activation='softmax')\n",
    "\n",
    "    def call(self, inputs):\n",
    "        with tf.device('/GPU:0'):\n",
    "            outputs = self.backbone(inputs).last_hidden_state[:, 0, :]\n",
    "            outputs = self.dense(outputs)\n",
    "            return outputs"
   ]
  },
  {
   "cell_type": "code",
   "execution_count": 16,
   "id": "7ba429cc",
   "metadata": {
    "execution": {
     "iopub.execute_input": "2024-07-18T13:45:49.431567Z",
     "iopub.status.busy": "2024-07-18T13:45:49.431252Z",
     "iopub.status.idle": "2024-07-18T13:45:49.439558Z",
     "shell.execute_reply": "2024-07-18T13:45:49.438873Z"
    },
    "papermill": {
     "duration": 0.019163,
     "end_time": "2024-07-18T13:45:49.441555",
     "exception": false,
     "start_time": "2024-07-18T13:45:49.422392",
     "status": "completed"
    },
    "tags": []
   },
   "outputs": [],
   "source": [
    "num_classes = len(np.unique(train_targets))\n",
    "custom_vit_model = CustomViTModel(vit_model, num_classes)"
   ]
  },
  {
   "cell_type": "code",
   "execution_count": 17,
   "id": "ba19a56c",
   "metadata": {
    "execution": {
     "iopub.execute_input": "2024-07-18T13:45:49.459995Z",
     "iopub.status.busy": "2024-07-18T13:45:49.459737Z",
     "iopub.status.idle": "2024-07-18T13:45:49.471470Z",
     "shell.execute_reply": "2024-07-18T13:45:49.470800Z"
    },
    "papermill": {
     "duration": 0.022713,
     "end_time": "2024-07-18T13:45:49.473373",
     "exception": false,
     "start_time": "2024-07-18T13:45:49.450660",
     "status": "completed"
    },
    "tags": []
   },
   "outputs": [],
   "source": [
    "# Compileer het model met een gebruikelijke loss-functie\n",
    "custom_vit_model.compile(optimizer=tf.keras.optimizers.Adam(learning_rate=1e-4),\n",
    "                         loss='sparse_categorical_crossentropy',\n",
    "                         metrics=['accuracy'])"
   ]
  },
  {
   "cell_type": "code",
   "execution_count": 18,
   "id": "c84fb766",
   "metadata": {
    "execution": {
     "iopub.execute_input": "2024-07-18T13:45:49.490941Z",
     "iopub.status.busy": "2024-07-18T13:45:49.490680Z",
     "iopub.status.idle": "2024-07-18T16:23:13.408850Z",
     "shell.execute_reply": "2024-07-18T16:23:13.407716Z"
    },
    "papermill": {
     "duration": 9444.373622,
     "end_time": "2024-07-18T16:23:13.855176",
     "exception": false,
     "start_time": "2024-07-18T13:45:49.481554",
     "status": "completed"
    },
    "tags": []
   },
   "outputs": [
    {
     "name": "stdout",
     "output_type": "stream",
     "text": [
      "Epoch 1/10\n"
     ]
    },
    {
     "name": "stderr",
     "output_type": "stream",
     "text": [
      "WARNING: All log messages before absl::InitializeLog() is called are written to STDERR\n",
      "I0000 00:00:1721310372.132019      69 device_compiler.h:186] Compiled cluster using XLA!  This line is logged at most once for the lifetime of the process.\n",
      "W0000 00:00:1721310372.170224      69 graph_launch.cc:671] Fallback to op-by-op mode because memset node breaks graph update\n"
     ]
    },
    {
     "name": "stdout",
     "output_type": "stream",
     "text": [
      "    552/Unknown \u001b[1m838s\u001b[0m 1s/step - accuracy: 0.9787 - loss: 0.1095"
     ]
    },
    {
     "name": "stderr",
     "output_type": "stream",
     "text": [
      "W0000 00:00:1721311187.901450      66 graph_launch.cc:671] Fallback to op-by-op mode because memset node breaks graph update\n",
      "/opt/conda/lib/python3.10/contextlib.py:153: UserWarning: Your input ran out of data; interrupting training. Make sure that your dataset or generator can generate at least `steps_per_epoch * epochs` batches. You may need to use the `.repeat()` function when building your dataset.\n",
      "  self.gen.throw(typ, value, traceback)\n",
      "W0000 00:00:1721311195.908685      66 graph_launch.cc:671] Fallback to op-by-op mode because memset node breaks graph update\n"
     ]
    },
    {
     "name": "stdout",
     "output_type": "stream",
     "text": [
      "\u001b[1m552/552\u001b[0m \u001b[32m━━━━━━━━━━━━━━━━━━━━\u001b[0m\u001b[37m\u001b[0m \u001b[1m1044s\u001b[0m 2s/step - accuracy: 0.9787 - loss: 0.1095 - val_accuracy: 0.9835 - val_loss: 0.0722\n",
      "Epoch 2/10\n"
     ]
    },
    {
     "name": "stderr",
     "output_type": "stream",
     "text": [
      "W0000 00:00:1721311393.300120      67 graph_launch.cc:671] Fallback to op-by-op mode because memset node breaks graph update\n"
     ]
    },
    {
     "name": "stdout",
     "output_type": "stream",
     "text": [
      "\u001b[1m552/552\u001b[0m \u001b[32m━━━━━━━━━━━━━━━━━━━━\u001b[0m\u001b[37m\u001b[0m \u001b[1m927s\u001b[0m 2s/step - accuracy: 0.9823 - loss: 0.0744 - val_accuracy: 0.9839 - val_loss: 0.0690\n",
      "Epoch 3/10\n",
      "\u001b[1m552/552\u001b[0m \u001b[32m━━━━━━━━━━━━━━━━━━━━\u001b[0m\u001b[37m\u001b[0m \u001b[1m927s\u001b[0m 2s/step - accuracy: 0.9827 - loss: 0.0710 - val_accuracy: 0.9841 - val_loss: 0.0674\n",
      "Epoch 4/10\n",
      "\u001b[1m552/552\u001b[0m \u001b[32m━━━━━━━━━━━━━━━━━━━━\u001b[0m\u001b[37m\u001b[0m \u001b[1m930s\u001b[0m 2s/step - accuracy: 0.9826 - loss: 0.0691 - val_accuracy: 0.9841 - val_loss: 0.0663\n",
      "Epoch 5/10\n",
      "\u001b[1m552/552\u001b[0m \u001b[32m━━━━━━━━━━━━━━━━━━━━\u001b[0m\u001b[37m\u001b[0m \u001b[1m940s\u001b[0m 2s/step - accuracy: 0.9827 - loss: 0.0677 - val_accuracy: 0.9839 - val_loss: 0.0656\n",
      "Epoch 6/10\n",
      "\u001b[1m552/552\u001b[0m \u001b[32m━━━━━━━━━━━━━━━━━━━━\u001b[0m\u001b[37m\u001b[0m \u001b[1m949s\u001b[0m 2s/step - accuracy: 0.9829 - loss: 0.0666 - val_accuracy: 0.9832 - val_loss: 0.0651\n",
      "Epoch 7/10\n",
      "\u001b[1m552/552\u001b[0m \u001b[32m━━━━━━━━━━━━━━━━━━━━\u001b[0m\u001b[37m\u001b[0m \u001b[1m934s\u001b[0m 2s/step - accuracy: 0.9828 - loss: 0.0656 - val_accuracy: 0.9835 - val_loss: 0.0647\n",
      "Epoch 8/10\n",
      "\u001b[1m552/552\u001b[0m \u001b[32m━━━━━━━━━━━━━━━━━━━━\u001b[0m\u001b[37m\u001b[0m \u001b[1m938s\u001b[0m 2s/step - accuracy: 0.9829 - loss: 0.0648 - val_accuracy: 0.9835 - val_loss: 0.0644\n",
      "Epoch 9/10\n",
      "\u001b[1m552/552\u001b[0m \u001b[32m━━━━━━━━━━━━━━━━━━━━\u001b[0m\u001b[37m\u001b[0m \u001b[1m934s\u001b[0m 2s/step - accuracy: 0.9829 - loss: 0.0641 - val_accuracy: 0.9832 - val_loss: 0.0642\n",
      "Epoch 10/10\n",
      "\u001b[1m552/552\u001b[0m \u001b[32m━━━━━━━━━━━━━━━━━━━━\u001b[0m\u001b[37m\u001b[0m \u001b[1m922s\u001b[0m 2s/step - accuracy: 0.9828 - loss: 0.0635 - val_accuracy: 0.9835 - val_loss: 0.0639\n"
     ]
    }
   ],
   "source": [
    "history = custom_vit_model.fit(tf_train_dataset, epochs=10, validation_data=tf_val_dataset)"
   ]
  },
  {
   "cell_type": "code",
   "execution_count": 19,
   "id": "6d3e8376",
   "metadata": {
    "execution": {
     "iopub.execute_input": "2024-07-18T16:23:14.747078Z",
     "iopub.status.busy": "2024-07-18T16:23:14.746420Z",
     "iopub.status.idle": "2024-07-18T16:26:00.427127Z",
     "shell.execute_reply": "2024-07-18T16:26:00.426330Z"
    },
    "papermill": {
     "duration": 166.128677,
     "end_time": "2024-07-18T16:26:00.429631",
     "exception": false,
     "start_time": "2024-07-18T16:23:14.300954",
     "status": "completed"
    },
    "tags": []
   },
   "outputs": [],
   "source": [
    "# Genereer voorspellingen op de testset\n",
    "test_images = []\n",
    "test_labels = []\n",
    "for batch in tf_val_dataset:\n",
    "    images, labels = batch\n",
    "    test_images.append(images)\n",
    "    test_labels.append(labels)\n",
    "\n",
    "test_images = tf.concat(test_images, axis=0)\n",
    "test_labels = tf.concat(test_labels, axis=0)\n"
   ]
  },
  {
   "cell_type": "code",
   "execution_count": 20,
   "id": "356a2d08",
   "metadata": {
    "execution": {
     "iopub.execute_input": "2024-07-18T16:26:01.340960Z",
     "iopub.status.busy": "2024-07-18T16:26:01.340639Z",
     "iopub.status.idle": "2024-07-18T16:26:36.124176Z",
     "shell.execute_reply": "2024-07-18T16:26:36.123195Z"
    },
    "papermill": {
     "duration": 35.552303,
     "end_time": "2024-07-18T16:26:36.434261",
     "exception": false,
     "start_time": "2024-07-18T16:26:00.881958",
     "status": "completed"
    },
    "tags": []
   },
   "outputs": [
    {
     "name": "stdout",
     "output_type": "stream",
     "text": [
      "\u001b[1m  2/138\u001b[0m \u001b[37m━━━━━━━━━━━━━━━━━━━━\u001b[0m \u001b[1m25s\u001b[0m 184ms/step"
     ]
    },
    {
     "name": "stderr",
     "output_type": "stream",
     "text": [
      "W0000 00:00:1721319967.544507      69 graph_launch.cc:671] Fallback to op-by-op mode because memset node breaks graph update\n"
     ]
    },
    {
     "name": "stdout",
     "output_type": "stream",
     "text": [
      "\u001b[1m138/138\u001b[0m \u001b[32m━━━━━━━━━━━━━━━━━━━━\u001b[0m\u001b[37m\u001b[0m \u001b[1m32s\u001b[0m 207ms/step\n"
     ]
    },
    {
     "name": "stderr",
     "output_type": "stream",
     "text": [
      "W0000 00:00:1721319995.927787      67 graph_launch.cc:671] Fallback to op-by-op mode because memset node breaks graph update\n"
     ]
    }
   ],
   "source": [
    "\n",
    "# Verkrijg de voorspellingen van het model\n",
    "predictions = custom_vit_model.predict(test_images)\n",
    "predicted_probabilities = tf.reduce_max(predictions, axis=1)\n",
    "\n",
    "# Binarize de test labels voor ROC berekening\n",
    "test_labels_binary = (test_labels == 1).numpy().astype(int)\n"
   ]
  },
  {
   "cell_type": "code",
   "execution_count": 21,
   "id": "ce7f4638",
   "metadata": {
    "execution": {
     "iopub.execute_input": "2024-07-18T16:26:37.467619Z",
     "iopub.status.busy": "2024-07-18T16:26:37.466796Z",
     "iopub.status.idle": "2024-07-18T16:26:37.477316Z",
     "shell.execute_reply": "2024-07-18T16:26:37.476162Z"
    },
    "papermill": {
     "duration": 0.489728,
     "end_time": "2024-07-18T16:26:37.479461",
     "exception": false,
     "start_time": "2024-07-18T16:26:36.989733",
     "status": "completed"
    },
    "tags": []
   },
   "outputs": [
    {
     "name": "stdout",
     "output_type": "stream",
     "text": [
      "Partial AUC: 0.12587805107539965\n"
     ]
    }
   ],
   "source": [
    "\n",
    "# Bereken de ROC-curve en de pAUC\n",
    "fpr, tpr, thresholds = roc_curve(test_labels_binary, predicted_probabilities)\n",
    "partial_auc = auc(fpr, tpr)\n",
    "\n",
    "print(f'Partial AUC: {partial_auc}')"
   ]
  },
  {
   "cell_type": "code",
   "execution_count": 22,
   "id": "714d9ac7",
   "metadata": {
    "execution": {
     "iopub.execute_input": "2024-07-18T16:26:38.407086Z",
     "iopub.status.busy": "2024-07-18T16:26:38.406351Z",
     "iopub.status.idle": "2024-07-18T16:26:38.410874Z",
     "shell.execute_reply": "2024-07-18T16:26:38.409975Z"
    },
    "papermill": {
     "duration": 0.468988,
     "end_time": "2024-07-18T16:26:38.412754",
     "exception": false,
     "start_time": "2024-07-18T16:26:37.943766",
     "status": "completed"
    },
    "tags": []
   },
   "outputs": [],
   "source": [
    "\n",
    "# class CustomViTModel(tf.keras.Model):\n",
    "#     def __init__(self, backbone, num_classes):\n",
    "#         super(CustomViTModel, self).__init__()\n",
    "#         self.backbone = backbone\n",
    "#         self.dense = layers.Dense(num_classes, activation='softmax')\n",
    "\n",
    "#     def call(self, inputs):\n",
    "#         outputs = self.backbone(inputs).last_hidden_state[:, 0, :]\n",
    "#         outputs = self.dense(outputs)\n",
    "#         return outputs"
   ]
  },
  {
   "cell_type": "code",
   "execution_count": 23,
   "id": "fce806ad",
   "metadata": {
    "execution": {
     "iopub.execute_input": "2024-07-18T16:26:39.335559Z",
     "iopub.status.busy": "2024-07-18T16:26:39.335211Z",
     "iopub.status.idle": "2024-07-18T16:26:39.340620Z",
     "shell.execute_reply": "2024-07-18T16:26:39.339763Z"
    },
    "papermill": {
     "duration": 0.468318,
     "end_time": "2024-07-18T16:26:39.342556",
     "exception": false,
     "start_time": "2024-07-18T16:26:38.874238",
     "status": "completed"
    },
    "tags": []
   },
   "outputs": [],
   "source": [
    "# # Definieer de EmbeddingClassifierModel class\n",
    "# class EmbeddingClassifierModel:\n",
    "#     \"\"\"\n",
    "#     Wrapper model that creates a classification model out of an embedding\n",
    "#     model and a reference dataset.\n",
    "#     \"\"\"\n",
    "\n",
    "#     def __init__(self,\n",
    "#                  model: CustomViTModel,\n",
    "#                  reference_embeddings: np.ndarray,\n",
    "#                  reference_labels: np.ndarray,\n",
    "#                  distance_metric: str = 'euclidean'):\n",
    "#         \"\"\"\n",
    "#         Initialize the model.\n",
    "#         \"\"\"\n",
    "#         self.model = model\n",
    "#         self.reference_embeddings = reference_embeddings\n",
    "#         self.reference_labels = reference_labels\n",
    "#         self.distance_metric = distance_metric\n",
    "#         self.labels = np.unique(reference_labels)\n",
    "\n",
    "#     def predict(self, image: Image) -> Mapping[str, float]:\n",
    "#         image_embedding = self.model.predict(image[np.newaxis, ...])\n",
    "#         return self._get_classification_scores(image_embedding)\n",
    "\n",
    "#     def _get_classification_scores(self, image_embedding: np.ndarray) -> Mapping[str, float]:\n",
    "#         \"\"\"\n",
    "#         Calculate the classification scores for one image embedding.\n",
    "#         \"\"\"\n",
    "#         distances = cdist(image_embedding, self.reference_embeddings, metric=self.distance_metric)\n",
    "#         classification = {}\n",
    "#         for label in self.labels:\n",
    "#             label_distances = distances[:, self.reference_labels == label]\n",
    "#             classification[label] = np.mean(label_distances)\n",
    "#         return classification\n"
   ]
  },
  {
   "cell_type": "code",
   "execution_count": 24,
   "id": "b100a495",
   "metadata": {
    "execution": {
     "iopub.execute_input": "2024-07-18T16:26:40.347845Z",
     "iopub.status.busy": "2024-07-18T16:26:40.346986Z",
     "iopub.status.idle": "2024-07-18T16:26:40.351438Z",
     "shell.execute_reply": "2024-07-18T16:26:40.350561Z"
    },
    "papermill": {
     "duration": 0.549335,
     "end_time": "2024-07-18T16:26:40.353326",
     "exception": false,
     "start_time": "2024-07-18T16:26:39.803991",
     "status": "completed"
    },
    "tags": []
   },
   "outputs": [],
   "source": [
    "\n",
    "# # Gebruik de EmbeddingClassifierModel\n",
    "# reference_embeddings = train_embeddings.numpy()  # Use the generated embeddings\n",
    "# reference_labels = train_targets[train_indices]  # Use the training labels\n",
    "\n",
    "# classifier = EmbeddingClassifierModel(custom_vit_model, reference_embeddings, reference_labels)\n",
    "\n",
    "# # Voorbeeld classificatie\n",
    "# test_image_id = test_isic_ids[0]\n",
    "# test_image = Image.open(BytesIO(test_hdf5[test_image_id][()])).convert(\"RGB\")\n",
    "# test_image = feature_extractor(images=np.array(test_image), return_tensors=\"tf\").pixel_values[0]\n",
    "\n",
    "# classification_scores = classifier.predict(test_image)\n",
    "# print(\"Classification Scores:\", classification_scores)"
   ]
  },
  {
   "cell_type": "code",
   "execution_count": null,
   "id": "e2bdcb34",
   "metadata": {
    "papermill": {
     "duration": 0.462309,
     "end_time": "2024-07-18T16:26:41.274884",
     "exception": false,
     "start_time": "2024-07-18T16:26:40.812575",
     "status": "completed"
    },
    "tags": []
   },
   "outputs": [],
   "source": []
  }
 ],
 "metadata": {
  "kaggle": {
   "accelerator": "gpu",
   "dataSources": [
    {
     "databundleVersionId": 9094797,
     "sourceId": 63056,
     "sourceType": "competition"
    }
   ],
   "dockerImageVersionId": 30732,
   "isGpuEnabled": true,
   "isInternetEnabled": true,
   "language": "python",
   "sourceType": "notebook"
  },
  "kernelspec": {
   "display_name": "Python 3",
   "language": "python",
   "name": "python3"
  },
  "language_info": {
   "codemirror_mode": {
    "name": "ipython",
    "version": 3
   },
   "file_extension": ".py",
   "mimetype": "text/x-python",
   "name": "python",
   "nbconvert_exporter": "python",
   "pygments_lexer": "ipython3",
   "version": "3.10.13"
  },
  "papermill": {
   "default_parameters": {},
   "duration": 9693.100611,
   "end_time": "2024-07-18T16:26:44.929152",
   "environment_variables": {},
   "exception": null,
   "input_path": "__notebook__.ipynb",
   "output_path": "__notebook__.ipynb",
   "parameters": {},
   "start_time": "2024-07-18T13:45:11.828541",
   "version": "2.5.0"
  },
  "widgets": {
   "application/vnd.jupyter.widget-state+json": {
    "state": {
     "0349e0dc320d44228fe2525f6a794236": {
      "model_module": "@jupyter-widgets/controls",
      "model_module_version": "1.5.0",
      "model_name": "HBoxModel",
      "state": {
       "_dom_classes": [],
       "_model_module": "@jupyter-widgets/controls",
       "_model_module_version": "1.5.0",
       "_model_name": "HBoxModel",
       "_view_count": null,
       "_view_module": "@jupyter-widgets/controls",
       "_view_module_version": "1.5.0",
       "_view_name": "HBoxView",
       "box_style": "",
       "children": [
        "IPY_MODEL_1b34614f1cce4768a437c1e0cbd6eee3",
        "IPY_MODEL_6ec678378de5443e977b1f6eaf253d64",
        "IPY_MODEL_2d01c4fd164442aa98193f5b4dc76bf6"
       ],
       "layout": "IPY_MODEL_4d7b7ea515a34b1ead60d78a442a0592"
      }
     },
     "1688b5d4ed5a44fa88bcba376ac11d9c": {
      "model_module": "@jupyter-widgets/controls",
      "model_module_version": "1.5.0",
      "model_name": "DescriptionStyleModel",
      "state": {
       "_model_module": "@jupyter-widgets/controls",
       "_model_module_version": "1.5.0",
       "_model_name": "DescriptionStyleModel",
       "_view_count": null,
       "_view_module": "@jupyter-widgets/base",
       "_view_module_version": "1.2.0",
       "_view_name": "StyleView",
       "description_width": ""
      }
     },
     "1a4b15234ada42c19c08fd2f18f7e6ec": {
      "model_module": "@jupyter-widgets/controls",
      "model_module_version": "1.5.0",
      "model_name": "DescriptionStyleModel",
      "state": {
       "_model_module": "@jupyter-widgets/controls",
       "_model_module_version": "1.5.0",
       "_model_name": "DescriptionStyleModel",
       "_view_count": null,
       "_view_module": "@jupyter-widgets/base",
       "_view_module_version": "1.2.0",
       "_view_name": "StyleView",
       "description_width": ""
      }
     },
     "1a9dd57e787d4ab7b97ed55a66db220a": {
      "model_module": "@jupyter-widgets/base",
      "model_module_version": "1.2.0",
      "model_name": "LayoutModel",
      "state": {
       "_model_module": "@jupyter-widgets/base",
       "_model_module_version": "1.2.0",
       "_model_name": "LayoutModel",
       "_view_count": null,
       "_view_module": "@jupyter-widgets/base",
       "_view_module_version": "1.2.0",
       "_view_name": "LayoutView",
       "align_content": null,
       "align_items": null,
       "align_self": null,
       "border": null,
       "bottom": null,
       "display": null,
       "flex": null,
       "flex_flow": null,
       "grid_area": null,
       "grid_auto_columns": null,
       "grid_auto_flow": null,
       "grid_auto_rows": null,
       "grid_column": null,
       "grid_gap": null,
       "grid_row": null,
       "grid_template_areas": null,
       "grid_template_columns": null,
       "grid_template_rows": null,
       "height": null,
       "justify_content": null,
       "justify_items": null,
       "left": null,
       "margin": null,
       "max_height": null,
       "max_width": null,
       "min_height": null,
       "min_width": null,
       "object_fit": null,
       "object_position": null,
       "order": null,
       "overflow": null,
       "overflow_x": null,
       "overflow_y": null,
       "padding": null,
       "right": null,
       "top": null,
       "visibility": null,
       "width": null
      }
     },
     "1b34614f1cce4768a437c1e0cbd6eee3": {
      "model_module": "@jupyter-widgets/controls",
      "model_module_version": "1.5.0",
      "model_name": "HTMLModel",
      "state": {
       "_dom_classes": [],
       "_model_module": "@jupyter-widgets/controls",
       "_model_module_version": "1.5.0",
       "_model_name": "HTMLModel",
       "_view_count": null,
       "_view_module": "@jupyter-widgets/controls",
       "_view_module_version": "1.5.0",
       "_view_name": "HTMLView",
       "description": "",
       "description_tooltip": null,
       "layout": "IPY_MODEL_8b85e2cdc3494d8d88b999a796ef3ebe",
       "placeholder": "​",
       "style": "IPY_MODEL_71af119a62384742b378518abace3021",
       "value": "model.safetensors: 100%"
      }
     },
     "26a7109eb29a4aacb2688ac316a2f06f": {
      "model_module": "@jupyter-widgets/controls",
      "model_module_version": "1.5.0",
      "model_name": "HBoxModel",
      "state": {
       "_dom_classes": [],
       "_model_module": "@jupyter-widgets/controls",
       "_model_module_version": "1.5.0",
       "_model_name": "HBoxModel",
       "_view_count": null,
       "_view_module": "@jupyter-widgets/controls",
       "_view_module_version": "1.5.0",
       "_view_name": "HBoxView",
       "box_style": "",
       "children": [
        "IPY_MODEL_7b636764cc6d426ba65a9ee934932806",
        "IPY_MODEL_2a89ee80de6f4aa4a2068eda40cfe296",
        "IPY_MODEL_88eb15a4a4ad4bd3b472e982a2c99ede"
       ],
       "layout": "IPY_MODEL_1a9dd57e787d4ab7b97ed55a66db220a"
      }
     },
     "2a89ee80de6f4aa4a2068eda40cfe296": {
      "model_module": "@jupyter-widgets/controls",
      "model_module_version": "1.5.0",
      "model_name": "FloatProgressModel",
      "state": {
       "_dom_classes": [],
       "_model_module": "@jupyter-widgets/controls",
       "_model_module_version": "1.5.0",
       "_model_name": "FloatProgressModel",
       "_view_count": null,
       "_view_module": "@jupyter-widgets/controls",
       "_view_module_version": "1.5.0",
       "_view_name": "ProgressView",
       "bar_style": "success",
       "description": "",
       "description_tooltip": null,
       "layout": "IPY_MODEL_b055f5b3ced148d6b57190b2c354075f",
       "max": 160.0,
       "min": 0.0,
       "orientation": "horizontal",
       "style": "IPY_MODEL_cf4d17109e3e4a47bce6251cca22a554",
       "value": 160.0
      }
     },
     "2d01c4fd164442aa98193f5b4dc76bf6": {
      "model_module": "@jupyter-widgets/controls",
      "model_module_version": "1.5.0",
      "model_name": "HTMLModel",
      "state": {
       "_dom_classes": [],
       "_model_module": "@jupyter-widgets/controls",
       "_model_module_version": "1.5.0",
       "_model_name": "HTMLModel",
       "_view_count": null,
       "_view_module": "@jupyter-widgets/controls",
       "_view_module_version": "1.5.0",
       "_view_name": "HTMLView",
       "description": "",
       "description_tooltip": null,
       "layout": "IPY_MODEL_71858837c77c4e09931ed3ebde95426a",
       "placeholder": "​",
       "style": "IPY_MODEL_aac6a3c08fec44a2a6d9e302e7ecfc19",
       "value": " 346M/346M [00:05&lt;00:00, 59.1MB/s]"
      }
     },
     "2d95f1979ce94fd2b5faa82e9bc418a2": {
      "model_module": "@jupyter-widgets/base",
      "model_module_version": "1.2.0",
      "model_name": "LayoutModel",
      "state": {
       "_model_module": "@jupyter-widgets/base",
       "_model_module_version": "1.2.0",
       "_model_name": "LayoutModel",
       "_view_count": null,
       "_view_module": "@jupyter-widgets/base",
       "_view_module_version": "1.2.0",
       "_view_name": "LayoutView",
       "align_content": null,
       "align_items": null,
       "align_self": null,
       "border": null,
       "bottom": null,
       "display": null,
       "flex": null,
       "flex_flow": null,
       "grid_area": null,
       "grid_auto_columns": null,
       "grid_auto_flow": null,
       "grid_auto_rows": null,
       "grid_column": null,
       "grid_gap": null,
       "grid_row": null,
       "grid_template_areas": null,
       "grid_template_columns": null,
       "grid_template_rows": null,
       "height": null,
       "justify_content": null,
       "justify_items": null,
       "left": null,
       "margin": null,
       "max_height": null,
       "max_width": null,
       "min_height": null,
       "min_width": null,
       "object_fit": null,
       "object_position": null,
       "order": null,
       "overflow": null,
       "overflow_x": null,
       "overflow_y": null,
       "padding": null,
       "right": null,
       "top": null,
       "visibility": null,
       "width": null
      }
     },
     "33a05f9fb7fd4a788b185ddab278257a": {
      "model_module": "@jupyter-widgets/controls",
      "model_module_version": "1.5.0",
      "model_name": "HTMLModel",
      "state": {
       "_dom_classes": [],
       "_model_module": "@jupyter-widgets/controls",
       "_model_module_version": "1.5.0",
       "_model_name": "HTMLModel",
       "_view_count": null,
       "_view_module": "@jupyter-widgets/controls",
       "_view_module_version": "1.5.0",
       "_view_name": "HTMLView",
       "description": "",
       "description_tooltip": null,
       "layout": "IPY_MODEL_2d95f1979ce94fd2b5faa82e9bc418a2",
       "placeholder": "​",
       "style": "IPY_MODEL_1688b5d4ed5a44fa88bcba376ac11d9c",
       "value": "config.json: 100%"
      }
     },
     "446a5e6843bb4e8b85835229a3bc7d00": {
      "model_module": "@jupyter-widgets/base",
      "model_module_version": "1.2.0",
      "model_name": "LayoutModel",
      "state": {
       "_model_module": "@jupyter-widgets/base",
       "_model_module_version": "1.2.0",
       "_model_name": "LayoutModel",
       "_view_count": null,
       "_view_module": "@jupyter-widgets/base",
       "_view_module_version": "1.2.0",
       "_view_name": "LayoutView",
       "align_content": null,
       "align_items": null,
       "align_self": null,
       "border": null,
       "bottom": null,
       "display": null,
       "flex": null,
       "flex_flow": null,
       "grid_area": null,
       "grid_auto_columns": null,
       "grid_auto_flow": null,
       "grid_auto_rows": null,
       "grid_column": null,
       "grid_gap": null,
       "grid_row": null,
       "grid_template_areas": null,
       "grid_template_columns": null,
       "grid_template_rows": null,
       "height": null,
       "justify_content": null,
       "justify_items": null,
       "left": null,
       "margin": null,
       "max_height": null,
       "max_width": null,
       "min_height": null,
       "min_width": null,
       "object_fit": null,
       "object_position": null,
       "order": null,
       "overflow": null,
       "overflow_x": null,
       "overflow_y": null,
       "padding": null,
       "right": null,
       "top": null,
       "visibility": null,
       "width": null
      }
     },
     "47fd11e6f9e84c3eaa35a6a9a03632b6": {
      "model_module": "@jupyter-widgets/base",
      "model_module_version": "1.2.0",
      "model_name": "LayoutModel",
      "state": {
       "_model_module": "@jupyter-widgets/base",
       "_model_module_version": "1.2.0",
       "_model_name": "LayoutModel",
       "_view_count": null,
       "_view_module": "@jupyter-widgets/base",
       "_view_module_version": "1.2.0",
       "_view_name": "LayoutView",
       "align_content": null,
       "align_items": null,
       "align_self": null,
       "border": null,
       "bottom": null,
       "display": null,
       "flex": null,
       "flex_flow": null,
       "grid_area": null,
       "grid_auto_columns": null,
       "grid_auto_flow": null,
       "grid_auto_rows": null,
       "grid_column": null,
       "grid_gap": null,
       "grid_row": null,
       "grid_template_areas": null,
       "grid_template_columns": null,
       "grid_template_rows": null,
       "height": null,
       "justify_content": null,
       "justify_items": null,
       "left": null,
       "margin": null,
       "max_height": null,
       "max_width": null,
       "min_height": null,
       "min_width": null,
       "object_fit": null,
       "object_position": null,
       "order": null,
       "overflow": null,
       "overflow_x": null,
       "overflow_y": null,
       "padding": null,
       "right": null,
       "top": null,
       "visibility": null,
       "width": null
      }
     },
     "4d7b7ea515a34b1ead60d78a442a0592": {
      "model_module": "@jupyter-widgets/base",
      "model_module_version": "1.2.0",
      "model_name": "LayoutModel",
      "state": {
       "_model_module": "@jupyter-widgets/base",
       "_model_module_version": "1.2.0",
       "_model_name": "LayoutModel",
       "_view_count": null,
       "_view_module": "@jupyter-widgets/base",
       "_view_module_version": "1.2.0",
       "_view_name": "LayoutView",
       "align_content": null,
       "align_items": null,
       "align_self": null,
       "border": null,
       "bottom": null,
       "display": null,
       "flex": null,
       "flex_flow": null,
       "grid_area": null,
       "grid_auto_columns": null,
       "grid_auto_flow": null,
       "grid_auto_rows": null,
       "grid_column": null,
       "grid_gap": null,
       "grid_row": null,
       "grid_template_areas": null,
       "grid_template_columns": null,
       "grid_template_rows": null,
       "height": null,
       "justify_content": null,
       "justify_items": null,
       "left": null,
       "margin": null,
       "max_height": null,
       "max_width": null,
       "min_height": null,
       "min_width": null,
       "object_fit": null,
       "object_position": null,
       "order": null,
       "overflow": null,
       "overflow_x": null,
       "overflow_y": null,
       "padding": null,
       "right": null,
       "top": null,
       "visibility": null,
       "width": null
      }
     },
     "525152c2e5564a49be14a3d74b645eec": {
      "model_module": "@jupyter-widgets/controls",
      "model_module_version": "1.5.0",
      "model_name": "HBoxModel",
      "state": {
       "_dom_classes": [],
       "_model_module": "@jupyter-widgets/controls",
       "_model_module_version": "1.5.0",
       "_model_name": "HBoxModel",
       "_view_count": null,
       "_view_module": "@jupyter-widgets/controls",
       "_view_module_version": "1.5.0",
       "_view_name": "HBoxView",
       "box_style": "",
       "children": [
        "IPY_MODEL_33a05f9fb7fd4a788b185ddab278257a",
        "IPY_MODEL_93f7e4463dc545c98a600f76eae56e2a",
        "IPY_MODEL_f9015e989fa2414884870ab6f36280c6"
       ],
       "layout": "IPY_MODEL_e25c7090eb014775a6b1540619a4ca49"
      }
     },
     "5c779c7f783c423b93619a05900ec55b": {
      "model_module": "@jupyter-widgets/base",
      "model_module_version": "1.2.0",
      "model_name": "LayoutModel",
      "state": {
       "_model_module": "@jupyter-widgets/base",
       "_model_module_version": "1.2.0",
       "_model_name": "LayoutModel",
       "_view_count": null,
       "_view_module": "@jupyter-widgets/base",
       "_view_module_version": "1.2.0",
       "_view_name": "LayoutView",
       "align_content": null,
       "align_items": null,
       "align_self": null,
       "border": null,
       "bottom": null,
       "display": null,
       "flex": null,
       "flex_flow": null,
       "grid_area": null,
       "grid_auto_columns": null,
       "grid_auto_flow": null,
       "grid_auto_rows": null,
       "grid_column": null,
       "grid_gap": null,
       "grid_row": null,
       "grid_template_areas": null,
       "grid_template_columns": null,
       "grid_template_rows": null,
       "height": null,
       "justify_content": null,
       "justify_items": null,
       "left": null,
       "margin": null,
       "max_height": null,
       "max_width": null,
       "min_height": null,
       "min_width": null,
       "object_fit": null,
       "object_position": null,
       "order": null,
       "overflow": null,
       "overflow_x": null,
       "overflow_y": null,
       "padding": null,
       "right": null,
       "top": null,
       "visibility": null,
       "width": null
      }
     },
     "6872d8fea1064dbc877baf0ae817473a": {
      "model_module": "@jupyter-widgets/controls",
      "model_module_version": "1.5.0",
      "model_name": "ProgressStyleModel",
      "state": {
       "_model_module": "@jupyter-widgets/controls",
       "_model_module_version": "1.5.0",
       "_model_name": "ProgressStyleModel",
       "_view_count": null,
       "_view_module": "@jupyter-widgets/base",
       "_view_module_version": "1.2.0",
       "_view_name": "StyleView",
       "bar_color": null,
       "description_width": ""
      }
     },
     "6d7d7c91c5df48e79fb39d0b30c2afee": {
      "model_module": "@jupyter-widgets/controls",
      "model_module_version": "1.5.0",
      "model_name": "DescriptionStyleModel",
      "state": {
       "_model_module": "@jupyter-widgets/controls",
       "_model_module_version": "1.5.0",
       "_model_name": "DescriptionStyleModel",
       "_view_count": null,
       "_view_module": "@jupyter-widgets/base",
       "_view_module_version": "1.2.0",
       "_view_name": "StyleView",
       "description_width": ""
      }
     },
     "6ec678378de5443e977b1f6eaf253d64": {
      "model_module": "@jupyter-widgets/controls",
      "model_module_version": "1.5.0",
      "model_name": "FloatProgressModel",
      "state": {
       "_dom_classes": [],
       "_model_module": "@jupyter-widgets/controls",
       "_model_module_version": "1.5.0",
       "_model_name": "FloatProgressModel",
       "_view_count": null,
       "_view_module": "@jupyter-widgets/controls",
       "_view_module_version": "1.5.0",
       "_view_name": "ProgressView",
       "bar_style": "success",
       "description": "",
       "description_tooltip": null,
       "layout": "IPY_MODEL_b7b41118ce9a40ba9a8cda245d4e8b43",
       "max": 346293852.0,
       "min": 0.0,
       "orientation": "horizontal",
       "style": "IPY_MODEL_b4a681486546497183873c42bfc11880",
       "value": 346293852.0
      }
     },
     "71858837c77c4e09931ed3ebde95426a": {
      "model_module": "@jupyter-widgets/base",
      "model_module_version": "1.2.0",
      "model_name": "LayoutModel",
      "state": {
       "_model_module": "@jupyter-widgets/base",
       "_model_module_version": "1.2.0",
       "_model_name": "LayoutModel",
       "_view_count": null,
       "_view_module": "@jupyter-widgets/base",
       "_view_module_version": "1.2.0",
       "_view_name": "LayoutView",
       "align_content": null,
       "align_items": null,
       "align_self": null,
       "border": null,
       "bottom": null,
       "display": null,
       "flex": null,
       "flex_flow": null,
       "grid_area": null,
       "grid_auto_columns": null,
       "grid_auto_flow": null,
       "grid_auto_rows": null,
       "grid_column": null,
       "grid_gap": null,
       "grid_row": null,
       "grid_template_areas": null,
       "grid_template_columns": null,
       "grid_template_rows": null,
       "height": null,
       "justify_content": null,
       "justify_items": null,
       "left": null,
       "margin": null,
       "max_height": null,
       "max_width": null,
       "min_height": null,
       "min_width": null,
       "object_fit": null,
       "object_position": null,
       "order": null,
       "overflow": null,
       "overflow_x": null,
       "overflow_y": null,
       "padding": null,
       "right": null,
       "top": null,
       "visibility": null,
       "width": null
      }
     },
     "71af119a62384742b378518abace3021": {
      "model_module": "@jupyter-widgets/controls",
      "model_module_version": "1.5.0",
      "model_name": "DescriptionStyleModel",
      "state": {
       "_model_module": "@jupyter-widgets/controls",
       "_model_module_version": "1.5.0",
       "_model_name": "DescriptionStyleModel",
       "_view_count": null,
       "_view_module": "@jupyter-widgets/base",
       "_view_module_version": "1.2.0",
       "_view_name": "StyleView",
       "description_width": ""
      }
     },
     "7b636764cc6d426ba65a9ee934932806": {
      "model_module": "@jupyter-widgets/controls",
      "model_module_version": "1.5.0",
      "model_name": "HTMLModel",
      "state": {
       "_dom_classes": [],
       "_model_module": "@jupyter-widgets/controls",
       "_model_module_version": "1.5.0",
       "_model_name": "HTMLModel",
       "_view_count": null,
       "_view_module": "@jupyter-widgets/controls",
       "_view_module_version": "1.5.0",
       "_view_name": "HTMLView",
       "description": "",
       "description_tooltip": null,
       "layout": "IPY_MODEL_5c779c7f783c423b93619a05900ec55b",
       "placeholder": "​",
       "style": "IPY_MODEL_6d7d7c91c5df48e79fb39d0b30c2afee",
       "value": "preprocessor_config.json: 100%"
      }
     },
     "88eb15a4a4ad4bd3b472e982a2c99ede": {
      "model_module": "@jupyter-widgets/controls",
      "model_module_version": "1.5.0",
      "model_name": "HTMLModel",
      "state": {
       "_dom_classes": [],
       "_model_module": "@jupyter-widgets/controls",
       "_model_module_version": "1.5.0",
       "_model_name": "HTMLModel",
       "_view_count": null,
       "_view_module": "@jupyter-widgets/controls",
       "_view_module_version": "1.5.0",
       "_view_name": "HTMLView",
       "description": "",
       "description_tooltip": null,
       "layout": "IPY_MODEL_446a5e6843bb4e8b85835229a3bc7d00",
       "placeholder": "​",
       "style": "IPY_MODEL_f356d83052fc46ee8aca8a7cf0f9d0a7",
       "value": " 160/160 [00:00&lt;00:00, 15.4kB/s]"
      }
     },
     "8b85e2cdc3494d8d88b999a796ef3ebe": {
      "model_module": "@jupyter-widgets/base",
      "model_module_version": "1.2.0",
      "model_name": "LayoutModel",
      "state": {
       "_model_module": "@jupyter-widgets/base",
       "_model_module_version": "1.2.0",
       "_model_name": "LayoutModel",
       "_view_count": null,
       "_view_module": "@jupyter-widgets/base",
       "_view_module_version": "1.2.0",
       "_view_name": "LayoutView",
       "align_content": null,
       "align_items": null,
       "align_self": null,
       "border": null,
       "bottom": null,
       "display": null,
       "flex": null,
       "flex_flow": null,
       "grid_area": null,
       "grid_auto_columns": null,
       "grid_auto_flow": null,
       "grid_auto_rows": null,
       "grid_column": null,
       "grid_gap": null,
       "grid_row": null,
       "grid_template_areas": null,
       "grid_template_columns": null,
       "grid_template_rows": null,
       "height": null,
       "justify_content": null,
       "justify_items": null,
       "left": null,
       "margin": null,
       "max_height": null,
       "max_width": null,
       "min_height": null,
       "min_width": null,
       "object_fit": null,
       "object_position": null,
       "order": null,
       "overflow": null,
       "overflow_x": null,
       "overflow_y": null,
       "padding": null,
       "right": null,
       "top": null,
       "visibility": null,
       "width": null
      }
     },
     "93f7e4463dc545c98a600f76eae56e2a": {
      "model_module": "@jupyter-widgets/controls",
      "model_module_version": "1.5.0",
      "model_name": "FloatProgressModel",
      "state": {
       "_dom_classes": [],
       "_model_module": "@jupyter-widgets/controls",
       "_model_module_version": "1.5.0",
       "_model_name": "FloatProgressModel",
       "_view_count": null,
       "_view_module": "@jupyter-widgets/controls",
       "_view_module_version": "1.5.0",
       "_view_name": "ProgressView",
       "bar_style": "success",
       "description": "",
       "description_tooltip": null,
       "layout": "IPY_MODEL_47fd11e6f9e84c3eaa35a6a9a03632b6",
       "max": 69665.0,
       "min": 0.0,
       "orientation": "horizontal",
       "style": "IPY_MODEL_6872d8fea1064dbc877baf0ae817473a",
       "value": 69665.0
      }
     },
     "aac6a3c08fec44a2a6d9e302e7ecfc19": {
      "model_module": "@jupyter-widgets/controls",
      "model_module_version": "1.5.0",
      "model_name": "DescriptionStyleModel",
      "state": {
       "_model_module": "@jupyter-widgets/controls",
       "_model_module_version": "1.5.0",
       "_model_name": "DescriptionStyleModel",
       "_view_count": null,
       "_view_module": "@jupyter-widgets/base",
       "_view_module_version": "1.2.0",
       "_view_name": "StyleView",
       "description_width": ""
      }
     },
     "b055f5b3ced148d6b57190b2c354075f": {
      "model_module": "@jupyter-widgets/base",
      "model_module_version": "1.2.0",
      "model_name": "LayoutModel",
      "state": {
       "_model_module": "@jupyter-widgets/base",
       "_model_module_version": "1.2.0",
       "_model_name": "LayoutModel",
       "_view_count": null,
       "_view_module": "@jupyter-widgets/base",
       "_view_module_version": "1.2.0",
       "_view_name": "LayoutView",
       "align_content": null,
       "align_items": null,
       "align_self": null,
       "border": null,
       "bottom": null,
       "display": null,
       "flex": null,
       "flex_flow": null,
       "grid_area": null,
       "grid_auto_columns": null,
       "grid_auto_flow": null,
       "grid_auto_rows": null,
       "grid_column": null,
       "grid_gap": null,
       "grid_row": null,
       "grid_template_areas": null,
       "grid_template_columns": null,
       "grid_template_rows": null,
       "height": null,
       "justify_content": null,
       "justify_items": null,
       "left": null,
       "margin": null,
       "max_height": null,
       "max_width": null,
       "min_height": null,
       "min_width": null,
       "object_fit": null,
       "object_position": null,
       "order": null,
       "overflow": null,
       "overflow_x": null,
       "overflow_y": null,
       "padding": null,
       "right": null,
       "top": null,
       "visibility": null,
       "width": null
      }
     },
     "b4a681486546497183873c42bfc11880": {
      "model_module": "@jupyter-widgets/controls",
      "model_module_version": "1.5.0",
      "model_name": "ProgressStyleModel",
      "state": {
       "_model_module": "@jupyter-widgets/controls",
       "_model_module_version": "1.5.0",
       "_model_name": "ProgressStyleModel",
       "_view_count": null,
       "_view_module": "@jupyter-widgets/base",
       "_view_module_version": "1.2.0",
       "_view_name": "StyleView",
       "bar_color": null,
       "description_width": ""
      }
     },
     "b7b41118ce9a40ba9a8cda245d4e8b43": {
      "model_module": "@jupyter-widgets/base",
      "model_module_version": "1.2.0",
      "model_name": "LayoutModel",
      "state": {
       "_model_module": "@jupyter-widgets/base",
       "_model_module_version": "1.2.0",
       "_model_name": "LayoutModel",
       "_view_count": null,
       "_view_module": "@jupyter-widgets/base",
       "_view_module_version": "1.2.0",
       "_view_name": "LayoutView",
       "align_content": null,
       "align_items": null,
       "align_self": null,
       "border": null,
       "bottom": null,
       "display": null,
       "flex": null,
       "flex_flow": null,
       "grid_area": null,
       "grid_auto_columns": null,
       "grid_auto_flow": null,
       "grid_auto_rows": null,
       "grid_column": null,
       "grid_gap": null,
       "grid_row": null,
       "grid_template_areas": null,
       "grid_template_columns": null,
       "grid_template_rows": null,
       "height": null,
       "justify_content": null,
       "justify_items": null,
       "left": null,
       "margin": null,
       "max_height": null,
       "max_width": null,
       "min_height": null,
       "min_width": null,
       "object_fit": null,
       "object_position": null,
       "order": null,
       "overflow": null,
       "overflow_x": null,
       "overflow_y": null,
       "padding": null,
       "right": null,
       "top": null,
       "visibility": null,
       "width": null
      }
     },
     "cf4d17109e3e4a47bce6251cca22a554": {
      "model_module": "@jupyter-widgets/controls",
      "model_module_version": "1.5.0",
      "model_name": "ProgressStyleModel",
      "state": {
       "_model_module": "@jupyter-widgets/controls",
       "_model_module_version": "1.5.0",
       "_model_name": "ProgressStyleModel",
       "_view_count": null,
       "_view_module": "@jupyter-widgets/base",
       "_view_module_version": "1.2.0",
       "_view_name": "StyleView",
       "bar_color": null,
       "description_width": ""
      }
     },
     "e25c7090eb014775a6b1540619a4ca49": {
      "model_module": "@jupyter-widgets/base",
      "model_module_version": "1.2.0",
      "model_name": "LayoutModel",
      "state": {
       "_model_module": "@jupyter-widgets/base",
       "_model_module_version": "1.2.0",
       "_model_name": "LayoutModel",
       "_view_count": null,
       "_view_module": "@jupyter-widgets/base",
       "_view_module_version": "1.2.0",
       "_view_name": "LayoutView",
       "align_content": null,
       "align_items": null,
       "align_self": null,
       "border": null,
       "bottom": null,
       "display": null,
       "flex": null,
       "flex_flow": null,
       "grid_area": null,
       "grid_auto_columns": null,
       "grid_auto_flow": null,
       "grid_auto_rows": null,
       "grid_column": null,
       "grid_gap": null,
       "grid_row": null,
       "grid_template_areas": null,
       "grid_template_columns": null,
       "grid_template_rows": null,
       "height": null,
       "justify_content": null,
       "justify_items": null,
       "left": null,
       "margin": null,
       "max_height": null,
       "max_width": null,
       "min_height": null,
       "min_width": null,
       "object_fit": null,
       "object_position": null,
       "order": null,
       "overflow": null,
       "overflow_x": null,
       "overflow_y": null,
       "padding": null,
       "right": null,
       "top": null,
       "visibility": null,
       "width": null
      }
     },
     "efd83dc249074bd2aae9bf6f22f5da95": {
      "model_module": "@jupyter-widgets/base",
      "model_module_version": "1.2.0",
      "model_name": "LayoutModel",
      "state": {
       "_model_module": "@jupyter-widgets/base",
       "_model_module_version": "1.2.0",
       "_model_name": "LayoutModel",
       "_view_count": null,
       "_view_module": "@jupyter-widgets/base",
       "_view_module_version": "1.2.0",
       "_view_name": "LayoutView",
       "align_content": null,
       "align_items": null,
       "align_self": null,
       "border": null,
       "bottom": null,
       "display": null,
       "flex": null,
       "flex_flow": null,
       "grid_area": null,
       "grid_auto_columns": null,
       "grid_auto_flow": null,
       "grid_auto_rows": null,
       "grid_column": null,
       "grid_gap": null,
       "grid_row": null,
       "grid_template_areas": null,
       "grid_template_columns": null,
       "grid_template_rows": null,
       "height": null,
       "justify_content": null,
       "justify_items": null,
       "left": null,
       "margin": null,
       "max_height": null,
       "max_width": null,
       "min_height": null,
       "min_width": null,
       "object_fit": null,
       "object_position": null,
       "order": null,
       "overflow": null,
       "overflow_x": null,
       "overflow_y": null,
       "padding": null,
       "right": null,
       "top": null,
       "visibility": null,
       "width": null
      }
     },
     "f356d83052fc46ee8aca8a7cf0f9d0a7": {
      "model_module": "@jupyter-widgets/controls",
      "model_module_version": "1.5.0",
      "model_name": "DescriptionStyleModel",
      "state": {
       "_model_module": "@jupyter-widgets/controls",
       "_model_module_version": "1.5.0",
       "_model_name": "DescriptionStyleModel",
       "_view_count": null,
       "_view_module": "@jupyter-widgets/base",
       "_view_module_version": "1.2.0",
       "_view_name": "StyleView",
       "description_width": ""
      }
     },
     "f9015e989fa2414884870ab6f36280c6": {
      "model_module": "@jupyter-widgets/controls",
      "model_module_version": "1.5.0",
      "model_name": "HTMLModel",
      "state": {
       "_dom_classes": [],
       "_model_module": "@jupyter-widgets/controls",
       "_model_module_version": "1.5.0",
       "_model_name": "HTMLModel",
       "_view_count": null,
       "_view_module": "@jupyter-widgets/controls",
       "_view_module_version": "1.5.0",
       "_view_name": "HTMLView",
       "description": "",
       "description_tooltip": null,
       "layout": "IPY_MODEL_efd83dc249074bd2aae9bf6f22f5da95",
       "placeholder": "​",
       "style": "IPY_MODEL_1a4b15234ada42c19c08fd2f18f7e6ec",
       "value": " 69.7k/69.7k [00:00&lt;00:00, 397kB/s]"
      }
     }
    },
    "version_major": 2,
    "version_minor": 0
   }
  }
 },
 "nbformat": 4,
 "nbformat_minor": 5
}
