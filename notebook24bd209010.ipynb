{
 "cells": [
  {
   "cell_type": "code",
   "execution_count": 1,
   "id": "221c461a",
   "metadata": {
    "execution": {
     "iopub.execute_input": "2024-07-24T11:49:15.750831Z",
     "iopub.status.busy": "2024-07-24T11:49:15.750167Z",
     "iopub.status.idle": "2024-07-24T11:49:34.398542Z",
     "shell.execute_reply": "2024-07-24T11:49:34.397733Z"
    },
    "jupyter": {
     "source_hidden": true
    },
    "papermill": {
     "duration": 18.659553,
     "end_time": "2024-07-24T11:49:34.400806",
     "exception": false,
     "start_time": "2024-07-24T11:49:15.741253",
     "status": "completed"
    },
    "tags": []
   },
   "outputs": [
    {
     "name": "stderr",
     "output_type": "stream",
     "text": [
      "2024-07-24 11:49:19.417876: E external/local_xla/xla/stream_executor/cuda/cuda_dnn.cc:9261] Unable to register cuDNN factory: Attempting to register factory for plugin cuDNN when one has already been registered\n",
      "2024-07-24 11:49:19.417986: E external/local_xla/xla/stream_executor/cuda/cuda_fft.cc:607] Unable to register cuFFT factory: Attempting to register factory for plugin cuFFT when one has already been registered\n",
      "2024-07-24 11:49:19.539771: E external/local_xla/xla/stream_executor/cuda/cuda_blas.cc:1515] Unable to register cuBLAS factory: Attempting to register factory for plugin cuBLAS when one has already been registered\n"
     ]
    }
   ],
   "source": [
    "import os\n",
    "import h5py\n",
    "import pandas as pd\n",
    "import numpy as np\n",
    "from sklearn.model_selection import train_test_split\n",
    "import tensorflow as tf\n",
    "from tensorflow.keras import layers\n",
    "from transformers import ViTFeatureExtractor, TFViTModel\n",
    "from PIL import Image\n",
    "from io import BytesIO"
   ]
  },
  {
   "cell_type": "markdown",
   "id": "4779dc8b",
   "metadata": {
    "papermill": {
     "duration": 0.00629,
     "end_time": "2024-07-24T11:49:34.413938",
     "exception": false,
     "start_time": "2024-07-24T11:49:34.407648",
     "status": "completed"
    },
    "tags": []
   },
   "source": [
    "# Load data"
   ]
  },
  {
   "cell_type": "code",
   "execution_count": 2,
   "id": "0e2e6ea8",
   "metadata": {
    "execution": {
     "iopub.execute_input": "2024-07-24T11:49:34.428541Z",
     "iopub.status.busy": "2024-07-24T11:49:34.427875Z",
     "iopub.status.idle": "2024-07-24T11:49:34.440277Z",
     "shell.execute_reply": "2024-07-24T11:49:34.439369Z"
    },
    "jupyter": {
     "source_hidden": true
    },
    "papermill": {
     "duration": 0.022001,
     "end_time": "2024-07-24T11:49:34.442302",
     "exception": false,
     "start_time": "2024-07-24T11:49:34.420301",
     "status": "completed"
    },
    "tags": []
   },
   "outputs": [],
   "source": [
    "\"\"\"2024 ISIC Challenge primary prize scoring metric\n",
    "\n",
    "Given a list of binary labels, an associated list of prediction \n",
    "scores ranging from [0,1], this function produces, as a single value, \n",
    "the partial area under the receiver operating characteristic (pAUC) \n",
    "above a given true positive rate (TPR).\n",
    "https://en.wikipedia.org/wiki/Partial_Area_Under_the_ROC_Curve.\n",
    "\n",
    "(c) 2024 Nicholas R Kurtansky, MSKCC\n",
    "\"\"\"\n",
    "\n",
    "\n",
    "class ParticipantVisibleError(Exception):\n",
    "    pass\n",
    "\n",
    "\n",
    "def score(solution: pd.DataFrame, submission: pd.DataFrame, row_id_column_name: str, min_tpr: float=0.80) -> float:\n",
    "    '''\n",
    "    2024 ISIC Challenge metric: pAUC\n",
    "    \n",
    "    Given a solution file and submission file, this function returns the\n",
    "    the partial area under the receiver operating characteristic (pAUC) \n",
    "    above a given true positive rate (TPR) = 0.80.\n",
    "    https://en.wikipedia.org/wiki/Partial_Area_Under_the_ROC_Curve.\n",
    "    \n",
    "    (c) 2024 Nicholas R Kurtansky, MSKCC\n",
    "\n",
    "    Args:\n",
    "        solution: ground truth pd.DataFrame of 1s and 0s\n",
    "        submission: solution dataframe of predictions of scores ranging [0, 1]\n",
    "\n",
    "    Returns:\n",
    "        Float value range [0, max_fpr]\n",
    "    '''\n",
    "\n",
    "    del solution[row_id_column_name]\n",
    "    del submission[row_id_column_name]\n",
    "\n",
    "    # check submission is numeric\n",
    "    if not pd.api.types.is_numeric_dtype(submission.values):\n",
    "        raise ParticipantVisibleError('Submission target column must be numeric')\n",
    "\n",
    "    # rescale the target. set 0s to 1s and 1s to 0s (since sklearn only has max_fpr)\n",
    "    v_gt = abs(np.asarray(solution.values)-1)\n",
    "    \n",
    "    # flip the submissions to their compliments\n",
    "    v_pred = -1.0*np.asarray(submission.values)\n",
    "\n",
    "    max_fpr = abs(1-min_tpr)\n",
    "\n",
    "    # using sklearn.metric functions: (1) roc_curve and (2) auc\n",
    "    fpr, tpr, _ = roc_curve(v_gt, v_pred, sample_weight=None)\n",
    "    if max_fpr is None or max_fpr == 1:\n",
    "        return auc(fpr, tpr)\n",
    "    if max_fpr <= 0 or max_fpr > 1:\n",
    "        raise ValueError(\"Expected min_tpr in range [0, 1), got: %r\" % min_tpr)\n",
    "        \n",
    "    # Add a single point at max_fpr by linear interpolation\n",
    "    stop = np.searchsorted(fpr, max_fpr, \"right\")\n",
    "    x_interp = [fpr[stop - 1], fpr[stop]]\n",
    "    y_interp = [tpr[stop - 1], tpr[stop]]\n",
    "    tpr = np.append(tpr[:stop], np.interp(max_fpr, x_interp, y_interp))\n",
    "    fpr = np.append(fpr[:stop], max_fpr)\n",
    "    partial_auc = auc(fpr, tpr)\n",
    "\n",
    "    #     # Equivalent code that uses sklearn's roc_auc_score\n",
    "    #     v_gt = abs(np.asarray(solution.values)-1)\n",
    "    #     v_pred = np.array([1.0 - x for x in submission.values])\n",
    "    #     max_fpr = abs(1-min_tpr)\n",
    "    #     partial_auc_scaled = roc_auc_score(v_gt, v_pred, max_fpr=max_fpr)\n",
    "    #     # change scale from [0.5, 1.0] to [0.5 * max_fpr**2, max_fpr]\n",
    "    #     # https://math.stackexchange.com/questions/914823/shift-numbers-into-a-different-range\n",
    "    #     partial_auc = 0.5 * max_fpr**2 + (max_fpr - 0.5 * max_fpr**2) / (1.0 - 0.5) * (partial_auc_scaled - 0.5)\n",
    "    \n",
    "    return(partial_auc)"
   ]
  },
  {
   "cell_type": "code",
   "execution_count": 3,
   "id": "c44e0c0c",
   "metadata": {
    "execution": {
     "iopub.execute_input": "2024-07-24T11:49:34.456585Z",
     "iopub.status.busy": "2024-07-24T11:49:34.456264Z",
     "iopub.status.idle": "2024-07-24T11:49:34.468430Z",
     "shell.execute_reply": "2024-07-24T11:49:34.467668Z"
    },
    "papermill": {
     "duration": 0.021745,
     "end_time": "2024-07-24T11:49:34.470599",
     "exception": false,
     "start_time": "2024-07-24T11:49:34.448854",
     "status": "completed"
    },
    "tags": []
   },
   "outputs": [],
   "source": [
    "\n",
    "# Define the ISICDataset class\n",
    "class ISICDataset(tf.keras.utils.Sequence):\n",
    "    def __init__(self, hdf5_file, isic_ids, targets=None, feature_extractor=None, batch_size=32):\n",
    "        self.hdf5_file = hdf5_file\n",
    "        self.isic_ids = isic_ids\n",
    "        self.targets = targets\n",
    "        self.feature_extractor = feature_extractor\n",
    "        self.batch_size = batch_size\n",
    "        \n",
    "    def __len__(self):\n",
    "        return len(self.isic_ids)\n",
    "    \n",
    "    def __getitem__(self, idx):\n",
    "        isic_id = str(self.isic_ids[idx])\n",
    "        image = Image.open(BytesIO(self.hdf5_file[isic_id][()]))\n",
    "        image = image.convert(\"RGB\")\n",
    "        image = np.array(image)\n",
    "        if self.feature_extractor:\n",
    "            image = self.feature_extractor(images=image, return_tensors=\"tf\").pixel_values[0]\n",
    "        if self.targets is not None:\n",
    "            target = self.targets[idx]\n",
    "            return image, target\n",
    "        else:\n",
    "            return image\n",
    "    \n",
    "    def _load_image(self, isic_id):\n",
    "        isic_id = str(isic_id)\n",
    "        image = Image.open(BytesIO(self.hdf5_file[isic_id][()]))\n",
    "        image = image.convert(\"RGB\")\n",
    "        image = np.array(image)\n",
    "        if self.feature_extractor:\n",
    "            image = self.feature_extractor(images=image, return_tensors=\"tf\").pixel_values[0]\n",
    "        return image\n",
    "\n",
    "    def _generator(self):\n",
    "        for idx in range(len(self.isic_ids)):\n",
    "            yield self._load_image(self.isic_ids[idx]), self.targets[idx]\n",
    "\n",
    "    def to_tf_dataset(self):\n",
    "        tf_dataset = tf.data.Dataset.from_generator(self._generator, \n",
    "                                                    output_signature=(tf.TensorSpec(shape=(3, 224, 224), dtype=tf.float32),\n",
    "                                                                      tf.TensorSpec(shape=(), dtype=tf.int64)))\n",
    "        tf_dataset = tf_dataset.batch(self.batch_size).prefetch(buffer_size=tf.data.AUTOTUNE).repeat()\n",
    "        return tf_dataset"
   ]
  },
  {
   "cell_type": "code",
   "execution_count": 4,
   "id": "d61e6549",
   "metadata": {
    "execution": {
     "iopub.execute_input": "2024-07-24T11:49:34.485169Z",
     "iopub.status.busy": "2024-07-24T11:49:34.484804Z",
     "iopub.status.idle": "2024-07-24T11:49:34.489582Z",
     "shell.execute_reply": "2024-07-24T11:49:34.488728Z"
    },
    "papermill": {
     "duration": 0.014451,
     "end_time": "2024-07-24T11:49:34.491510",
     "exception": false,
     "start_time": "2024-07-24T11:49:34.477059",
     "status": "completed"
    },
    "tags": []
   },
   "outputs": [],
   "source": [
    "# Load data\n",
    "data_path = '/kaggle/input/isic-2024-challenge/'\n",
    "\n",
    "path_train_hdf5 = os.path.join(data_path, 'train-image.hdf5')\n",
    "path_test_hdf5 = os.path.join(data_path, 'test-image.hdf5')\n",
    "\n",
    "path_train_meta = data_path + 'train-metadata.csv'\n",
    "path_test_meta = data_path + 'test-metadata.csv'\n"
   ]
  },
  {
   "cell_type": "code",
   "execution_count": 5,
   "id": "65a4a269",
   "metadata": {
    "execution": {
     "iopub.execute_input": "2024-07-24T11:49:34.505570Z",
     "iopub.status.busy": "2024-07-24T11:49:34.504945Z",
     "iopub.status.idle": "2024-07-24T11:49:34.519224Z",
     "shell.execute_reply": "2024-07-24T11:49:34.518415Z"
    },
    "papermill": {
     "duration": 0.023409,
     "end_time": "2024-07-24T11:49:34.521208",
     "exception": false,
     "start_time": "2024-07-24T11:49:34.497799",
     "status": "completed"
    },
    "tags": []
   },
   "outputs": [],
   "source": [
    "train_hdf5 = h5py.File(path_train_hdf5, 'r')\n",
    "test_hdf5 = h5py.File(path_test_hdf5, 'r')"
   ]
  },
  {
   "cell_type": "code",
   "execution_count": 6,
   "id": "65a79e59",
   "metadata": {
    "execution": {
     "iopub.execute_input": "2024-07-24T11:49:34.535369Z",
     "iopub.status.busy": "2024-07-24T11:49:34.535019Z",
     "iopub.status.idle": "2024-07-24T11:49:41.483127Z",
     "shell.execute_reply": "2024-07-24T11:49:41.482172Z"
    },
    "papermill": {
     "duration": 6.957806,
     "end_time": "2024-07-24T11:49:41.485550",
     "exception": false,
     "start_time": "2024-07-24T11:49:34.527744",
     "status": "completed"
    },
    "tags": []
   },
   "outputs": [
    {
     "name": "stderr",
     "output_type": "stream",
     "text": [
      "/tmp/ipykernel_24/938936479.py:1: DtypeWarning: Columns (51,52) have mixed types. Specify dtype option on import or set low_memory=False.\n",
      "  train_meta = pd.read_csv(path_train_meta)\n"
     ]
    }
   ],
   "source": [
    "train_meta = pd.read_csv(path_train_meta)\n",
    "test_meta = pd.read_csv(path_test_meta)"
   ]
  },
  {
   "cell_type": "code",
   "execution_count": 7,
   "id": "15da8b6a",
   "metadata": {
    "execution": {
     "iopub.execute_input": "2024-07-24T11:49:41.501296Z",
     "iopub.status.busy": "2024-07-24T11:49:41.500487Z",
     "iopub.status.idle": "2024-07-24T11:49:41.603175Z",
     "shell.execute_reply": "2024-07-24T11:49:41.602222Z"
    },
    "papermill": {
     "duration": 0.11333,
     "end_time": "2024-07-24T11:49:41.605694",
     "exception": false,
     "start_time": "2024-07-24T11:49:41.492364",
     "status": "completed"
    },
    "tags": []
   },
   "outputs": [],
   "source": [
    "# read in the isic ids and target values\n",
    "train_isic_ids = train_meta['isic_id'].values\n",
    "train_isic_ids = train_meta[train_meta['lesion_id'].notnull()]['isic_id'].values\n",
    "\n",
    "test_isic_ids = test_meta['isic_id'].values\n",
    "\n",
    "train_targets = train_meta[train_meta['lesion_id'].notnull()]['target'].values"
   ]
  },
  {
   "cell_type": "code",
   "execution_count": 8,
   "id": "0aaec58f",
   "metadata": {
    "execution": {
     "iopub.execute_input": "2024-07-24T11:49:41.620742Z",
     "iopub.status.busy": "2024-07-24T11:49:41.619924Z",
     "iopub.status.idle": "2024-07-24T11:49:41.627726Z",
     "shell.execute_reply": "2024-07-24T11:49:41.627009Z"
    },
    "papermill": {
     "duration": 0.01721,
     "end_time": "2024-07-24T11:49:41.629641",
     "exception": false,
     "start_time": "2024-07-24T11:49:41.612431",
     "status": "completed"
    },
    "tags": []
   },
   "outputs": [],
   "source": [
    "total_size = len(train_targets)\n",
    "indices = np.arange(total_size)\n",
    "\n",
    "train_size = int(total_size * 0.8)\n",
    "val_size = total_size - train_size\n",
    "\n",
    "train_indices, val_indices = train_test_split(indices, test_size=val_size, train_size=train_size)\n"
   ]
  },
  {
   "cell_type": "code",
   "execution_count": 9,
   "id": "06234b68",
   "metadata": {
    "execution": {
     "iopub.execute_input": "2024-07-24T11:49:41.644619Z",
     "iopub.status.busy": "2024-07-24T11:49:41.644326Z",
     "iopub.status.idle": "2024-07-24T11:49:48.932263Z",
     "shell.execute_reply": "2024-07-24T11:49:48.931396Z"
    },
    "papermill": {
     "duration": 7.297153,
     "end_time": "2024-07-24T11:49:48.934266",
     "exception": false,
     "start_time": "2024-07-24T11:49:41.637113",
     "status": "completed"
    },
    "tags": []
   },
   "outputs": [
    {
     "data": {
      "application/vnd.jupyter.widget-view+json": {
       "model_id": "cad7f59551204a919a8f155bfc2cd384",
       "version_major": 2,
       "version_minor": 0
      },
      "text/plain": [
       "preprocessor_config.json:   0%|          | 0.00/160 [00:00<?, ?B/s]"
      ]
     },
     "metadata": {},
     "output_type": "display_data"
    },
    {
     "name": "stderr",
     "output_type": "stream",
     "text": [
      "/opt/conda/lib/python3.10/site-packages/transformers/models/vit/feature_extraction_vit.py:28: FutureWarning: The class ViTFeatureExtractor is deprecated and will be removed in version 5 of Transformers. Please use ViTImageProcessor instead.\n",
      "  warnings.warn(\n"
     ]
    },
    {
     "data": {
      "application/vnd.jupyter.widget-view+json": {
       "model_id": "f094161c52424f7b9879d6a23aa91927",
       "version_major": 2,
       "version_minor": 0
      },
      "text/plain": [
       "config.json:   0%|          | 0.00/69.7k [00:00<?, ?B/s]"
      ]
     },
     "metadata": {},
     "output_type": "display_data"
    },
    {
     "data": {
      "application/vnd.jupyter.widget-view+json": {
       "model_id": "db3b58260877421eb5132eab8db56005",
       "version_major": 2,
       "version_minor": 0
      },
      "text/plain": [
       "model.safetensors:   0%|          | 0.00/346M [00:00<?, ?B/s]"
      ]
     },
     "metadata": {},
     "output_type": "display_data"
    },
    {
     "name": "stderr",
     "output_type": "stream",
     "text": [
      "Some weights of the PyTorch model were not used when initializing the TF 2.0 model TFViTModel: ['classifier.weight', 'classifier.bias']\n",
      "- This IS expected if you are initializing TFViTModel from a PyTorch model trained on another task or with another architecture (e.g. initializing a TFBertForSequenceClassification model from a BertForPreTraining model).\n",
      "- This IS NOT expected if you are initializing TFViTModel from a PyTorch model that you expect to be exactly identical (e.g. initializing a TFBertForSequenceClassification model from a BertForSequenceClassification model).\n",
      "Some weights or buffers of the TF 2.0 model TFViTModel were not initialized from the PyTorch model and are newly initialized: ['vit.pooler.dense.weight', 'vit.pooler.dense.bias']\n",
      "You should probably TRAIN this model on a down-stream task to be able to use it for predictions and inference.\n",
      "All model checkpoint layers were used when initializing TFViTModel.\n",
      "\n",
      "All the layers of TFViTModel were initialized from the model checkpoint at ./vit-base-patch16-224.\n",
      "If your task is similar to the task the model of the checkpoint was trained on, you can already use TFViTModel for predictions without further training.\n"
     ]
    }
   ],
   "source": [
    "# # Laad de feature extractor\n",
    "model_name = 'google/vit-base-patch16-224'\n",
    "feature_extractor = ViTFeatureExtractor.from_pretrained(model_name)\n",
    "# Laad het ViT-model\n",
    "vit_model = TFViTModel.from_pretrained(model_name)\n",
    "\n",
    "\n",
    "# # Sla de feature extractor en het model lokaal op\n",
    "feature_extractor.save_pretrained('./vit-base-patch16-224')\n",
    "vit_model.save_pretrained('./vit-base-patch16-224')\n",
    "\n",
    "\n",
    "# Laad de feature extractor en het model lokaal\n",
    "feature_extractor = ViTFeatureExtractor.from_pretrained('./vit-base-patch16-224')\n",
    "vit_model = TFViTModel.from_pretrained('./vit-base-patch16-224')\n",
    "\n"
   ]
  },
  {
   "cell_type": "code",
   "execution_count": 10,
   "id": "dc224976",
   "metadata": {
    "execution": {
     "iopub.execute_input": "2024-07-24T11:49:48.950287Z",
     "iopub.status.busy": "2024-07-24T11:49:48.949964Z",
     "iopub.status.idle": "2024-07-24T11:49:48.956188Z",
     "shell.execute_reply": "2024-07-24T11:49:48.955438Z"
    },
    "papermill": {
     "duration": 0.016362,
     "end_time": "2024-07-24T11:49:48.958112",
     "exception": false,
     "start_time": "2024-07-24T11:49:48.941750",
     "status": "completed"
    },
    "tags": []
   },
   "outputs": [],
   "source": [
    "\n",
    "# Maak de train en val datasets\n",
    "train_dataset = ISICDataset(train_hdf5, train_isic_ids[train_indices], targets=train_targets[train_indices], feature_extractor=feature_extractor)\n",
    "val_dataset = ISICDataset(train_hdf5, train_isic_ids[val_indices], targets=train_targets[val_indices], feature_extractor=feature_extractor)\n"
   ]
  },
  {
   "cell_type": "code",
   "execution_count": 11,
   "id": "b5ff0e85",
   "metadata": {
    "execution": {
     "iopub.execute_input": "2024-07-24T11:49:48.973909Z",
     "iopub.status.busy": "2024-07-24T11:49:48.973587Z",
     "iopub.status.idle": "2024-07-24T11:49:48.977442Z",
     "shell.execute_reply": "2024-07-24T11:49:48.976599Z"
    },
    "papermill": {
     "duration": 0.01394,
     "end_time": "2024-07-24T11:49:48.979417",
     "exception": false,
     "start_time": "2024-07-24T11:49:48.965477",
     "status": "completed"
    },
    "tags": []
   },
   "outputs": [],
   "source": [
    "# # Maak TensorFlow datasets\n",
    "# tf_train_dataset = train_dataset.to_tf_dataset()\n",
    "# tf_val_dataset = val_dataset.to_tf_dataset()"
   ]
  },
  {
   "cell_type": "code",
   "execution_count": 12,
   "id": "fb7372a5",
   "metadata": {
    "execution": {
     "iopub.execute_input": "2024-07-24T11:49:48.995295Z",
     "iopub.status.busy": "2024-07-24T11:49:48.994773Z",
     "iopub.status.idle": "2024-07-24T11:49:49.041157Z",
     "shell.execute_reply": "2024-07-24T11:49:49.040335Z"
    },
    "papermill": {
     "duration": 0.056759,
     "end_time": "2024-07-24T11:49:49.043436",
     "exception": false,
     "start_time": "2024-07-24T11:49:48.986677",
     "status": "completed"
    },
    "tags": []
   },
   "outputs": [],
   "source": [
    "# Combineer de datasets\n",
    "combined_isic_ids = np.concatenate([train_isic_ids[train_indices], train_isic_ids[val_indices]])\n",
    "combined_targets = np.concatenate([train_targets[train_indices], train_targets[val_indices]])\n",
    "\n",
    "combined_dataset = ISICDataset(train_hdf5, combined_isic_ids, targets=combined_targets, feature_extractor=feature_extractor)\n",
    "tf_combined_dataset = combined_dataset.to_tf_dataset()\n",
    "\n",
    "\n"
   ]
  },
  {
   "cell_type": "code",
   "execution_count": 13,
   "id": "18df1d7f",
   "metadata": {
    "execution": {
     "iopub.execute_input": "2024-07-24T11:49:49.060096Z",
     "iopub.status.busy": "2024-07-24T11:49:49.059433Z",
     "iopub.status.idle": "2024-07-24T11:49:49.065469Z",
     "shell.execute_reply": "2024-07-24T11:49:49.064636Z"
    },
    "papermill": {
     "duration": 0.0164,
     "end_time": "2024-07-24T11:49:49.067367",
     "exception": false,
     "start_time": "2024-07-24T11:49:49.050967",
     "status": "completed"
    },
    "tags": []
   },
   "outputs": [],
   "source": [
    "# Definieer de CustomViTModel class\n",
    "class CustomViTModel(tf.keras.Model):\n",
    "    def __init__(self, backbone, num_classes, **kwargs):\n",
    "        super(CustomViTModel, self).__init__(**kwargs)\n",
    "        self.backbone = backbone\n",
    "        self.dense = layers.Dense(num_classes, activation='softmax')\n",
    "\n",
    "    def call(self, inputs):\n",
    "        outputs = self.backbone(inputs).last_hidden_state[:, 0, :]\n",
    "        outputs = self.dense(outputs)\n",
    "        return outputs"
   ]
  },
  {
   "cell_type": "code",
   "execution_count": 14,
   "id": "529faeab",
   "metadata": {
    "execution": {
     "iopub.execute_input": "2024-07-24T11:49:49.084094Z",
     "iopub.status.busy": "2024-07-24T11:49:49.083339Z",
     "iopub.status.idle": "2024-07-24T11:49:49.091175Z",
     "shell.execute_reply": "2024-07-24T11:49:49.090480Z"
    },
    "papermill": {
     "duration": 0.018105,
     "end_time": "2024-07-24T11:49:49.093000",
     "exception": false,
     "start_time": "2024-07-24T11:49:49.074895",
     "status": "completed"
    },
    "tags": []
   },
   "outputs": [],
   "source": [
    "# Maak het CustomViTModel\n",
    "num_classes = len(np.unique(train_targets))\n",
    "custom_vit_model = CustomViTModel(vit_model, num_classes)"
   ]
  },
  {
   "cell_type": "code",
   "execution_count": 15,
   "id": "0ff46560",
   "metadata": {
    "execution": {
     "iopub.execute_input": "2024-07-24T11:49:49.109344Z",
     "iopub.status.busy": "2024-07-24T11:49:49.108774Z",
     "iopub.status.idle": "2024-07-24T11:49:49.121808Z",
     "shell.execute_reply": "2024-07-24T11:49:49.121084Z"
    },
    "papermill": {
     "duration": 0.023288,
     "end_time": "2024-07-24T11:49:49.123812",
     "exception": false,
     "start_time": "2024-07-24T11:49:49.100524",
     "status": "completed"
    },
    "tags": []
   },
   "outputs": [],
   "source": [
    "# Compileer het model met een gebruikelijke loss-functie\n",
    "custom_vit_model.compile(optimizer=tf.keras.optimizers.Adam(learning_rate=1e-4),\n",
    "                         loss='sparse_categorical_crossentropy',\n",
    "                         metrics=['accuracy'])"
   ]
  },
  {
   "cell_type": "code",
   "execution_count": 16,
   "id": "2d0fb113",
   "metadata": {
    "execution": {
     "iopub.execute_input": "2024-07-24T11:49:49.140110Z",
     "iopub.status.busy": "2024-07-24T11:49:49.139563Z",
     "iopub.status.idle": "2024-07-24T11:49:49.143653Z",
     "shell.execute_reply": "2024-07-24T11:49:49.142850Z"
    },
    "papermill": {
     "duration": 0.014133,
     "end_time": "2024-07-24T11:49:49.145453",
     "exception": false,
     "start_time": "2024-07-24T11:49:49.131320",
     "status": "completed"
    },
    "tags": []
   },
   "outputs": [],
   "source": [
    "steps_per_epoch = len(combined_dataset) // combined_dataset.batch_size"
   ]
  },
  {
   "cell_type": "code",
   "execution_count": 17,
   "id": "c8d5b7dd",
   "metadata": {
    "execution": {
     "iopub.execute_input": "2024-07-24T11:49:49.161796Z",
     "iopub.status.busy": "2024-07-24T11:49:49.161071Z",
     "iopub.status.idle": "2024-07-24T14:29:24.564877Z",
     "shell.execute_reply": "2024-07-24T14:29:24.563997Z"
    },
    "papermill": {
     "duration": 9575.41424,
     "end_time": "2024-07-24T14:29:24.567236",
     "exception": false,
     "start_time": "2024-07-24T11:49:49.152996",
     "status": "completed"
    },
    "tags": []
   },
   "outputs": [
    {
     "name": "stdout",
     "output_type": "stream",
     "text": [
      "Epoch 1/10\n",
      "\u001b[1m  1/689\u001b[0m \u001b[37m━━━━━━━━━━━━━━━━━━━━\u001b[0m \u001b[1m4:53:46\u001b[0m 26s/step - accuracy: 0.0625 - loss: 2.1498"
     ]
    },
    {
     "name": "stderr",
     "output_type": "stream",
     "text": [
      "WARNING: All log messages before absl::InitializeLog() is called are written to STDERR\n",
      "I0000 00:00:1721821814.594000      69 device_compiler.h:186] Compiled cluster using XLA!  This line is logged at most once for the lifetime of the process.\n"
     ]
    },
    {
     "name": "stdout",
     "output_type": "stream",
     "text": [
      "\u001b[1m689/689\u001b[0m \u001b[32m━━━━━━━━━━━━━━━━━━━━\u001b[0m\u001b[37m\u001b[0m \u001b[1m1068s\u001b[0m 2s/step - accuracy: 0.8397 - loss: 0.3678\n",
      "Epoch 2/10\n",
      "\u001b[1m689/689\u001b[0m \u001b[32m━━━━━━━━━━━━━━━━━━━━\u001b[0m\u001b[37m\u001b[0m \u001b[1m947s\u001b[0m 1s/step - accuracy: 0.9814 - loss: 0.0831\n",
      "Epoch 3/10\n",
      "\u001b[1m689/689\u001b[0m \u001b[32m━━━━━━━━━━━━━━━━━━━━\u001b[0m\u001b[37m\u001b[0m \u001b[1m945s\u001b[0m 1s/step - accuracy: 0.9819 - loss: 0.0769\n",
      "Epoch 4/10\n",
      "\u001b[1m689/689\u001b[0m \u001b[32m━━━━━━━━━━━━━━━━━━━━\u001b[0m\u001b[37m\u001b[0m \u001b[1m948s\u001b[0m 1s/step - accuracy: 0.9819 - loss: 0.0735\n",
      "Epoch 5/10\n",
      "\u001b[1m689/689\u001b[0m \u001b[32m━━━━━━━━━━━━━━━━━━━━\u001b[0m\u001b[37m\u001b[0m \u001b[1m944s\u001b[0m 1s/step - accuracy: 0.9817 - loss: 0.0716\n",
      "Epoch 6/10\n",
      "\u001b[1m689/689\u001b[0m \u001b[32m━━━━━━━━━━━━━━━━━━━━\u001b[0m\u001b[37m\u001b[0m \u001b[1m942s\u001b[0m 1s/step - accuracy: 0.9818 - loss: 0.0702\n",
      "Epoch 7/10\n",
      "\u001b[1m689/689\u001b[0m \u001b[32m━━━━━━━━━━━━━━━━━━━━\u001b[0m\u001b[37m\u001b[0m \u001b[1m944s\u001b[0m 1s/step - accuracy: 0.9813 - loss: 0.0696\n",
      "Epoch 8/10\n",
      "\u001b[1m689/689\u001b[0m \u001b[32m━━━━━━━━━━━━━━━━━━━━\u001b[0m\u001b[37m\u001b[0m \u001b[1m945s\u001b[0m 1s/step - accuracy: 0.9813 - loss: 0.0681\n",
      "Epoch 9/10\n",
      "\u001b[1m689/689\u001b[0m \u001b[32m━━━━━━━━━━━━━━━━━━━━\u001b[0m\u001b[37m\u001b[0m \u001b[1m945s\u001b[0m 1s/step - accuracy: 0.9817 - loss: 0.0664\n",
      "Epoch 10/10\n",
      "\u001b[1m689/689\u001b[0m \u001b[32m━━━━━━━━━━━━━━━━━━━━\u001b[0m\u001b[37m\u001b[0m \u001b[1m946s\u001b[0m 1s/step - accuracy: 0.9812 - loss: 0.0680\n"
     ]
    }
   ],
   "source": [
    "# Train het model met de gecombineerde dataset\n",
    "history = custom_vit_model.fit(tf_combined_dataset, epochs=10, steps_per_epoch=steps_per_epoch)\n"
   ]
  },
  {
   "cell_type": "code",
   "execution_count": 18,
   "id": "34ff49ec",
   "metadata": {
    "execution": {
     "iopub.execute_input": "2024-07-24T14:29:25.702576Z",
     "iopub.status.busy": "2024-07-24T14:29:25.701801Z",
     "iopub.status.idle": "2024-07-24T14:29:26.847094Z",
     "shell.execute_reply": "2024-07-24T14:29:26.846069Z"
    },
    "papermill": {
     "duration": 1.716963,
     "end_time": "2024-07-24T14:29:26.850670",
     "exception": false,
     "start_time": "2024-07-24T14:29:25.133707",
     "status": "completed"
    },
    "tags": []
   },
   "outputs": [],
   "source": [
    "# custom_vit_model.save('custom_vit_model_combined.h5')\n",
    "# Sla de modelgewichten op\n",
    "custom_vit_model.save_weights('custom_vit_model_combined.weights.h5')\n",
    "\n",
    "# Sla de feature extractor en het model lokaal op\n",
    "feature_extractor.save_pretrained('./vit-base-patch16-224')\n",
    "vit_model.save_pretrained('./vit-base-patch16-224')"
   ]
  },
  {
   "cell_type": "code",
   "execution_count": 19,
   "id": "9d17f536",
   "metadata": {
    "execution": {
     "iopub.execute_input": "2024-07-24T14:29:28.067390Z",
     "iopub.status.busy": "2024-07-24T14:29:28.066542Z",
     "iopub.status.idle": "2024-07-24T14:29:28.070944Z",
     "shell.execute_reply": "2024-07-24T14:29:28.070072Z"
    },
    "papermill": {
     "duration": 0.649705,
     "end_time": "2024-07-24T14:29:28.072857",
     "exception": false,
     "start_time": "2024-07-24T14:29:27.423152",
     "status": "completed"
    },
    "tags": []
   },
   "outputs": [],
   "source": [
    "\n",
    "# # Verkrijg de voorspellingen van het model\n",
    "# predictions = custom_vit_model.predict(val_images)\n",
    "# predicted_probabilities = tf.reduce_max(predictions, axis=1)\n",
    "\n",
    "# # Binarize de test labels voor ROC berekening\n",
    "# val_labels_binary = (val_labels == 1).numpy().astype(int)\n"
   ]
  },
  {
   "cell_type": "code",
   "execution_count": 20,
   "id": "d14fb87a",
   "metadata": {
    "execution": {
     "iopub.execute_input": "2024-07-24T14:29:29.195284Z",
     "iopub.status.busy": "2024-07-24T14:29:29.194523Z",
     "iopub.status.idle": "2024-07-24T14:29:29.198747Z",
     "shell.execute_reply": "2024-07-24T14:29:29.197850Z"
    },
    "papermill": {
     "duration": 0.565234,
     "end_time": "2024-07-24T14:29:29.200663",
     "exception": false,
     "start_time": "2024-07-24T14:29:28.635429",
     "status": "completed"
    },
    "tags": []
   },
   "outputs": [],
   "source": [
    "# # Bereken de ROC-curve en de pAUC\n",
    "# fpr, tpr, thresholds = roc_curve(val_labels_binary, predicted_probabilities)\n",
    "# partial_auc = auc(fpr, tpr)\n",
    "\n",
    "# print(f'Partial AUC: {partial_auc}')"
   ]
  },
  {
   "cell_type": "code",
   "execution_count": 21,
   "id": "a1f2377c",
   "metadata": {
    "execution": {
     "iopub.execute_input": "2024-07-24T14:29:30.328872Z",
     "iopub.status.busy": "2024-07-24T14:29:30.328479Z",
     "iopub.status.idle": "2024-07-24T14:29:37.652427Z",
     "shell.execute_reply": "2024-07-24T14:29:37.651519Z"
    },
    "papermill": {
     "duration": 7.891651,
     "end_time": "2024-07-24T14:29:37.654606",
     "exception": false,
     "start_time": "2024-07-24T14:29:29.762955",
     "status": "completed"
    },
    "tags": []
   },
   "outputs": [
    {
     "name": "stderr",
     "output_type": "stream",
     "text": [
      "All model checkpoint layers were used when initializing TFViTModel.\n",
      "\n",
      "All the layers of TFViTModel were initialized from the model checkpoint at ./vit-base-patch16-224.\n",
      "If your task is similar to the task the model of the checkpoint was trained on, you can already use TFViTModel for predictions without further training.\n"
     ]
    },
    {
     "name": "stdout",
     "output_type": "stream",
     "text": [
      "\u001b[1m1/1\u001b[0m \u001b[32m━━━━━━━━━━━━━━━━━━━━\u001b[0m\u001b[37m\u001b[0m \u001b[1m6s\u001b[0m 6s/step\n"
     ]
    },
    {
     "name": "stderr",
     "output_type": "stream",
     "text": [
      "W0000 00:00:1721831377.613489      69 graph_launch.cc:671] Fallback to op-by-op mode because memset node breaks graph update\n",
      "/opt/conda/lib/python3.10/contextlib.py:153: UserWarning: Your input ran out of data; interrupting training. Make sure that your dataset or generator can generate at least `steps_per_epoch * epochs` batches. You may need to use the `.repeat()` function when building your dataset.\n",
      "  self.gen.throw(typ, value, traceback)\n"
     ]
    }
   ],
   "source": [
    "# Definieer de CustomViTModel class\n",
    "class CustomViTModel(tf.keras.Model):\n",
    "    def __init__(self, backbone, num_classes, **kwargs):\n",
    "        super(CustomViTModel, self).__init__(**kwargs)\n",
    "        self.backbone = backbone\n",
    "        self.dense = layers.Dense(num_classes, activation='softmax')\n",
    "\n",
    "    def call(self, inputs):\n",
    "        outputs = self.backbone(inputs).last_hidden_state[:, 0, :]\n",
    "        outputs = self.dense(outputs)\n",
    "        return outputs\n",
    "\n",
    "# Registreren van de custom class\n",
    "tf.keras.utils.get_custom_objects()['CustomViTModel'] = CustomViTModel\n",
    "\n",
    "# Laad de feature extractor en het model lokaal\n",
    "feature_extractor = ViTFeatureExtractor.from_pretrained('./vit-base-patch16-224')\n",
    "vit_model = TFViTModel.from_pretrained('./vit-base-patch16-224')\n",
    "\n",
    "num_classes = len(np.unique(train_targets))\n",
    "custom_vit_model = CustomViTModel(vit_model, num_classes)\n",
    "custom_vit_model.load_weights('custom_vit_model_combined.weights.h5')\n",
    "\n",
    "# Functie om testset voor te bereiden en te voorspellen\n",
    "def prepare_test_dataset(test_hdf5, test_isic_ids, feature_extractor, batch_size=32):\n",
    "    def _generator():\n",
    "        for isic_id in test_isic_ids:\n",
    "            isic_id = str(isic_id)\n",
    "            image = Image.open(BytesIO(test_hdf5[isic_id][()]))\n",
    "            image = image.convert(\"RGB\")\n",
    "            image = np.array(image)\n",
    "            image = feature_extractor(images=image, return_tensors=\"tf\").pixel_values[0]\n",
    "            yield image\n",
    "    \n",
    "    tf_test_dataset = tf.data.Dataset.from_generator(_generator, \n",
    "                                                     output_signature=tf.TensorSpec(shape=(3, 224, 224), dtype=tf.float32))\n",
    "    tf_test_dataset = tf_test_dataset.batch(batch_size).prefetch(buffer_size=tf.data.AUTOTUNE)\n",
    "    return tf_test_dataset\n",
    "\n",
    "# Voorbereiden van de testset\n",
    "data_path = '/kaggle/input/isic-2024-challenge/'\n",
    "path_test_hdf5 = os.path.join(data_path, 'test-image.hdf5')\n",
    "path_test_meta = data_path + 'test-metadata.csv'\n",
    "\n",
    "test_hdf5 = h5py.File(path_test_hdf5, 'r')\n",
    "test_meta = pd.read_csv(path_test_meta)\n",
    "test_isic_ids = test_meta['isic_id'].values\n",
    "\n",
    "tf_test_dataset = prepare_test_dataset(test_hdf5, test_isic_ids, feature_extractor)\n",
    "\n",
    "# Genereer voorspellingen voor de testset\n",
    "predictions = custom_vit_model.predict(tf_test_dataset)\n",
    "predicted_probabilities = tf.reduce_max(predictions, axis=1).numpy()\n",
    "\n",
    "# Maak de submission dataframe\n",
    "submission = pd.DataFrame({'isic_id': test_isic_ids, 'target': predicted_probabilities})\n",
    "\n",
    "# Sla de submission dataframe op als CSV\n",
    "submission.to_csv('submission.csv', index=False)\n"
   ]
  }
 ],
 "metadata": {
  "kaggle": {
   "accelerator": "gpu",
   "dataSources": [
    {
     "databundleVersionId": 9094797,
     "sourceId": 63056,
     "sourceType": "competition"
    }
   ],
   "dockerImageVersionId": 30732,
   "isGpuEnabled": true,
   "isInternetEnabled": true,
   "language": "python",
   "sourceType": "notebook"
  },
  "kernelspec": {
   "display_name": "Python 3",
   "language": "python",
   "name": "python3"
  },
  "language_info": {
   "codemirror_mode": {
    "name": "ipython",
    "version": 3
   },
   "file_extension": ".py",
   "mimetype": "text/x-python",
   "name": "python",
   "nbconvert_exporter": "python",
   "pygments_lexer": "ipython3",
   "version": "3.10.13"
  },
  "papermill": {
   "default_parameters": {},
   "duration": 9628.502564,
   "end_time": "2024-07-24T14:29:41.389437",
   "environment_variables": {},
   "exception": null,
   "input_path": "__notebook__.ipynb",
   "output_path": "__notebook__.ipynb",
   "parameters": {},
   "start_time": "2024-07-24T11:49:12.886873",
   "version": "2.5.0"
  },
  "widgets": {
   "application/vnd.jupyter.widget-state+json": {
    "state": {
     "0d961e2d6fbd4665974667ae3bbfe4cf": {
      "model_module": "@jupyter-widgets/controls",
      "model_module_version": "1.5.0",
      "model_name": "ProgressStyleModel",
      "state": {
       "_model_module": "@jupyter-widgets/controls",
       "_model_module_version": "1.5.0",
       "_model_name": "ProgressStyleModel",
       "_view_count": null,
       "_view_module": "@jupyter-widgets/base",
       "_view_module_version": "1.2.0",
       "_view_name": "StyleView",
       "bar_color": null,
       "description_width": ""
      }
     },
     "2bd32382d3a74a9d962422dbedd69c54": {
      "model_module": "@jupyter-widgets/controls",
      "model_module_version": "1.5.0",
      "model_name": "FloatProgressModel",
      "state": {
       "_dom_classes": [],
       "_model_module": "@jupyter-widgets/controls",
       "_model_module_version": "1.5.0",
       "_model_name": "FloatProgressModel",
       "_view_count": null,
       "_view_module": "@jupyter-widgets/controls",
       "_view_module_version": "1.5.0",
       "_view_name": "ProgressView",
       "bar_style": "success",
       "description": "",
       "description_tooltip": null,
       "layout": "IPY_MODEL_ee27730bd60f4e0dab42d66ebc4d2a96",
       "max": 69665.0,
       "min": 0.0,
       "orientation": "horizontal",
       "style": "IPY_MODEL_0d961e2d6fbd4665974667ae3bbfe4cf",
       "value": 69665.0
      }
     },
     "453b673c360748ec8da2220cb92ed811": {
      "model_module": "@jupyter-widgets/controls",
      "model_module_version": "1.5.0",
      "model_name": "DescriptionStyleModel",
      "state": {
       "_model_module": "@jupyter-widgets/controls",
       "_model_module_version": "1.5.0",
       "_model_name": "DescriptionStyleModel",
       "_view_count": null,
       "_view_module": "@jupyter-widgets/base",
       "_view_module_version": "1.2.0",
       "_view_name": "StyleView",
       "description_width": ""
      }
     },
     "54818a6a4d024be99f099813c372f250": {
      "model_module": "@jupyter-widgets/controls",
      "model_module_version": "1.5.0",
      "model_name": "DescriptionStyleModel",
      "state": {
       "_model_module": "@jupyter-widgets/controls",
       "_model_module_version": "1.5.0",
       "_model_name": "DescriptionStyleModel",
       "_view_count": null,
       "_view_module": "@jupyter-widgets/base",
       "_view_module_version": "1.2.0",
       "_view_name": "StyleView",
       "description_width": ""
      }
     },
     "5531ec7a85c847f9b5cf62bb0ddb80f0": {
      "model_module": "@jupyter-widgets/controls",
      "model_module_version": "1.5.0",
      "model_name": "FloatProgressModel",
      "state": {
       "_dom_classes": [],
       "_model_module": "@jupyter-widgets/controls",
       "_model_module_version": "1.5.0",
       "_model_name": "FloatProgressModel",
       "_view_count": null,
       "_view_module": "@jupyter-widgets/controls",
       "_view_module_version": "1.5.0",
       "_view_name": "ProgressView",
       "bar_style": "success",
       "description": "",
       "description_tooltip": null,
       "layout": "IPY_MODEL_776dc4d2ba4b4d7d9177a1eb8b509933",
       "max": 160.0,
       "min": 0.0,
       "orientation": "horizontal",
       "style": "IPY_MODEL_fd884d261aa4413da54bda7e89bd57da",
       "value": 160.0
      }
     },
     "5c502b15b3a148e9996cb5a46ff9fcb3": {
      "model_module": "@jupyter-widgets/controls",
      "model_module_version": "1.5.0",
      "model_name": "HTMLModel",
      "state": {
       "_dom_classes": [],
       "_model_module": "@jupyter-widgets/controls",
       "_model_module_version": "1.5.0",
       "_model_name": "HTMLModel",
       "_view_count": null,
       "_view_module": "@jupyter-widgets/controls",
       "_view_module_version": "1.5.0",
       "_view_name": "HTMLView",
       "description": "",
       "description_tooltip": null,
       "layout": "IPY_MODEL_bd4cdeed52554a968886704924203adb",
       "placeholder": "​",
       "style": "IPY_MODEL_54818a6a4d024be99f099813c372f250",
       "value": "preprocessor_config.json: 100%"
      }
     },
     "776dc4d2ba4b4d7d9177a1eb8b509933": {
      "model_module": "@jupyter-widgets/base",
      "model_module_version": "1.2.0",
      "model_name": "LayoutModel",
      "state": {
       "_model_module": "@jupyter-widgets/base",
       "_model_module_version": "1.2.0",
       "_model_name": "LayoutModel",
       "_view_count": null,
       "_view_module": "@jupyter-widgets/base",
       "_view_module_version": "1.2.0",
       "_view_name": "LayoutView",
       "align_content": null,
       "align_items": null,
       "align_self": null,
       "border": null,
       "bottom": null,
       "display": null,
       "flex": null,
       "flex_flow": null,
       "grid_area": null,
       "grid_auto_columns": null,
       "grid_auto_flow": null,
       "grid_auto_rows": null,
       "grid_column": null,
       "grid_gap": null,
       "grid_row": null,
       "grid_template_areas": null,
       "grid_template_columns": null,
       "grid_template_rows": null,
       "height": null,
       "justify_content": null,
       "justify_items": null,
       "left": null,
       "margin": null,
       "max_height": null,
       "max_width": null,
       "min_height": null,
       "min_width": null,
       "object_fit": null,
       "object_position": null,
       "order": null,
       "overflow": null,
       "overflow_x": null,
       "overflow_y": null,
       "padding": null,
       "right": null,
       "top": null,
       "visibility": null,
       "width": null
      }
     },
     "824bdebda10f4ae392204c7e8bdfbe85": {
      "model_module": "@jupyter-widgets/base",
      "model_module_version": "1.2.0",
      "model_name": "LayoutModel",
      "state": {
       "_model_module": "@jupyter-widgets/base",
       "_model_module_version": "1.2.0",
       "_model_name": "LayoutModel",
       "_view_count": null,
       "_view_module": "@jupyter-widgets/base",
       "_view_module_version": "1.2.0",
       "_view_name": "LayoutView",
       "align_content": null,
       "align_items": null,
       "align_self": null,
       "border": null,
       "bottom": null,
       "display": null,
       "flex": null,
       "flex_flow": null,
       "grid_area": null,
       "grid_auto_columns": null,
       "grid_auto_flow": null,
       "grid_auto_rows": null,
       "grid_column": null,
       "grid_gap": null,
       "grid_row": null,
       "grid_template_areas": null,
       "grid_template_columns": null,
       "grid_template_rows": null,
       "height": null,
       "justify_content": null,
       "justify_items": null,
       "left": null,
       "margin": null,
       "max_height": null,
       "max_width": null,
       "min_height": null,
       "min_width": null,
       "object_fit": null,
       "object_position": null,
       "order": null,
       "overflow": null,
       "overflow_x": null,
       "overflow_y": null,
       "padding": null,
       "right": null,
       "top": null,
       "visibility": null,
       "width": null
      }
     },
     "844a390632424ce999f825ce4a23dd7b": {
      "model_module": "@jupyter-widgets/controls",
      "model_module_version": "1.5.0",
      "model_name": "HTMLModel",
      "state": {
       "_dom_classes": [],
       "_model_module": "@jupyter-widgets/controls",
       "_model_module_version": "1.5.0",
       "_model_name": "HTMLModel",
       "_view_count": null,
       "_view_module": "@jupyter-widgets/controls",
       "_view_module_version": "1.5.0",
       "_view_name": "HTMLView",
       "description": "",
       "description_tooltip": null,
       "layout": "IPY_MODEL_8fdb611f59bb485aaec738691125cd79",
       "placeholder": "​",
       "style": "IPY_MODEL_8ec77584a46244dd9c097e55ede2a8c2",
       "value": " 69.7k/69.7k [00:00&lt;00:00, 320kB/s]"
      }
     },
     "8afea1ce573741f980119565c0d57482": {
      "model_module": "@jupyter-widgets/controls",
      "model_module_version": "1.5.0",
      "model_name": "FloatProgressModel",
      "state": {
       "_dom_classes": [],
       "_model_module": "@jupyter-widgets/controls",
       "_model_module_version": "1.5.0",
       "_model_name": "FloatProgressModel",
       "_view_count": null,
       "_view_module": "@jupyter-widgets/controls",
       "_view_module_version": "1.5.0",
       "_view_name": "ProgressView",
       "bar_style": "success",
       "description": "",
       "description_tooltip": null,
       "layout": "IPY_MODEL_eb90dd6657dc4322b1c3298d040b355f",
       "max": 346293852.0,
       "min": 0.0,
       "orientation": "horizontal",
       "style": "IPY_MODEL_d6057c500cfb416d8cec5d3c0fd87156",
       "value": 346293852.0
      }
     },
     "8ec77584a46244dd9c097e55ede2a8c2": {
      "model_module": "@jupyter-widgets/controls",
      "model_module_version": "1.5.0",
      "model_name": "DescriptionStyleModel",
      "state": {
       "_model_module": "@jupyter-widgets/controls",
       "_model_module_version": "1.5.0",
       "_model_name": "DescriptionStyleModel",
       "_view_count": null,
       "_view_module": "@jupyter-widgets/base",
       "_view_module_version": "1.2.0",
       "_view_name": "StyleView",
       "description_width": ""
      }
     },
     "8fdb611f59bb485aaec738691125cd79": {
      "model_module": "@jupyter-widgets/base",
      "model_module_version": "1.2.0",
      "model_name": "LayoutModel",
      "state": {
       "_model_module": "@jupyter-widgets/base",
       "_model_module_version": "1.2.0",
       "_model_name": "LayoutModel",
       "_view_count": null,
       "_view_module": "@jupyter-widgets/base",
       "_view_module_version": "1.2.0",
       "_view_name": "LayoutView",
       "align_content": null,
       "align_items": null,
       "align_self": null,
       "border": null,
       "bottom": null,
       "display": null,
       "flex": null,
       "flex_flow": null,
       "grid_area": null,
       "grid_auto_columns": null,
       "grid_auto_flow": null,
       "grid_auto_rows": null,
       "grid_column": null,
       "grid_gap": null,
       "grid_row": null,
       "grid_template_areas": null,
       "grid_template_columns": null,
       "grid_template_rows": null,
       "height": null,
       "justify_content": null,
       "justify_items": null,
       "left": null,
       "margin": null,
       "max_height": null,
       "max_width": null,
       "min_height": null,
       "min_width": null,
       "object_fit": null,
       "object_position": null,
       "order": null,
       "overflow": null,
       "overflow_x": null,
       "overflow_y": null,
       "padding": null,
       "right": null,
       "top": null,
       "visibility": null,
       "width": null
      }
     },
     "a0525c73c61d4cb29fe39dd393ef2368": {
      "model_module": "@jupyter-widgets/base",
      "model_module_version": "1.2.0",
      "model_name": "LayoutModel",
      "state": {
       "_model_module": "@jupyter-widgets/base",
       "_model_module_version": "1.2.0",
       "_model_name": "LayoutModel",
       "_view_count": null,
       "_view_module": "@jupyter-widgets/base",
       "_view_module_version": "1.2.0",
       "_view_name": "LayoutView",
       "align_content": null,
       "align_items": null,
       "align_self": null,
       "border": null,
       "bottom": null,
       "display": null,
       "flex": null,
       "flex_flow": null,
       "grid_area": null,
       "grid_auto_columns": null,
       "grid_auto_flow": null,
       "grid_auto_rows": null,
       "grid_column": null,
       "grid_gap": null,
       "grid_row": null,
       "grid_template_areas": null,
       "grid_template_columns": null,
       "grid_template_rows": null,
       "height": null,
       "justify_content": null,
       "justify_items": null,
       "left": null,
       "margin": null,
       "max_height": null,
       "max_width": null,
       "min_height": null,
       "min_width": null,
       "object_fit": null,
       "object_position": null,
       "order": null,
       "overflow": null,
       "overflow_x": null,
       "overflow_y": null,
       "padding": null,
       "right": null,
       "top": null,
       "visibility": null,
       "width": null
      }
     },
     "af53bfd927be46af9b66da6cc9955274": {
      "model_module": "@jupyter-widgets/base",
      "model_module_version": "1.2.0",
      "model_name": "LayoutModel",
      "state": {
       "_model_module": "@jupyter-widgets/base",
       "_model_module_version": "1.2.0",
       "_model_name": "LayoutModel",
       "_view_count": null,
       "_view_module": "@jupyter-widgets/base",
       "_view_module_version": "1.2.0",
       "_view_name": "LayoutView",
       "align_content": null,
       "align_items": null,
       "align_self": null,
       "border": null,
       "bottom": null,
       "display": null,
       "flex": null,
       "flex_flow": null,
       "grid_area": null,
       "grid_auto_columns": null,
       "grid_auto_flow": null,
       "grid_auto_rows": null,
       "grid_column": null,
       "grid_gap": null,
       "grid_row": null,
       "grid_template_areas": null,
       "grid_template_columns": null,
       "grid_template_rows": null,
       "height": null,
       "justify_content": null,
       "justify_items": null,
       "left": null,
       "margin": null,
       "max_height": null,
       "max_width": null,
       "min_height": null,
       "min_width": null,
       "object_fit": null,
       "object_position": null,
       "order": null,
       "overflow": null,
       "overflow_x": null,
       "overflow_y": null,
       "padding": null,
       "right": null,
       "top": null,
       "visibility": null,
       "width": null
      }
     },
     "b2a5bd0c560d4e94a1d86f9345d7c93b": {
      "model_module": "@jupyter-widgets/controls",
      "model_module_version": "1.5.0",
      "model_name": "DescriptionStyleModel",
      "state": {
       "_model_module": "@jupyter-widgets/controls",
       "_model_module_version": "1.5.0",
       "_model_name": "DescriptionStyleModel",
       "_view_count": null,
       "_view_module": "@jupyter-widgets/base",
       "_view_module_version": "1.2.0",
       "_view_name": "StyleView",
       "description_width": ""
      }
     },
     "bbf8dba3b9474eb5aa6618aa309c684e": {
      "model_module": "@jupyter-widgets/controls",
      "model_module_version": "1.5.0",
      "model_name": "DescriptionStyleModel",
      "state": {
       "_model_module": "@jupyter-widgets/controls",
       "_model_module_version": "1.5.0",
       "_model_name": "DescriptionStyleModel",
       "_view_count": null,
       "_view_module": "@jupyter-widgets/base",
       "_view_module_version": "1.2.0",
       "_view_name": "StyleView",
       "description_width": ""
      }
     },
     "bd4cdeed52554a968886704924203adb": {
      "model_module": "@jupyter-widgets/base",
      "model_module_version": "1.2.0",
      "model_name": "LayoutModel",
      "state": {
       "_model_module": "@jupyter-widgets/base",
       "_model_module_version": "1.2.0",
       "_model_name": "LayoutModel",
       "_view_count": null,
       "_view_module": "@jupyter-widgets/base",
       "_view_module_version": "1.2.0",
       "_view_name": "LayoutView",
       "align_content": null,
       "align_items": null,
       "align_self": null,
       "border": null,
       "bottom": null,
       "display": null,
       "flex": null,
       "flex_flow": null,
       "grid_area": null,
       "grid_auto_columns": null,
       "grid_auto_flow": null,
       "grid_auto_rows": null,
       "grid_column": null,
       "grid_gap": null,
       "grid_row": null,
       "grid_template_areas": null,
       "grid_template_columns": null,
       "grid_template_rows": null,
       "height": null,
       "justify_content": null,
       "justify_items": null,
       "left": null,
       "margin": null,
       "max_height": null,
       "max_width": null,
       "min_height": null,
       "min_width": null,
       "object_fit": null,
       "object_position": null,
       "order": null,
       "overflow": null,
       "overflow_x": null,
       "overflow_y": null,
       "padding": null,
       "right": null,
       "top": null,
       "visibility": null,
       "width": null
      }
     },
     "c4347521175b45dca1f148fd728ad03e": {
      "model_module": "@jupyter-widgets/controls",
      "model_module_version": "1.5.0",
      "model_name": "HTMLModel",
      "state": {
       "_dom_classes": [],
       "_model_module": "@jupyter-widgets/controls",
       "_model_module_version": "1.5.0",
       "_model_name": "HTMLModel",
       "_view_count": null,
       "_view_module": "@jupyter-widgets/controls",
       "_view_module_version": "1.5.0",
       "_view_name": "HTMLView",
       "description": "",
       "description_tooltip": null,
       "layout": "IPY_MODEL_824bdebda10f4ae392204c7e8bdfbe85",
       "placeholder": "​",
       "style": "IPY_MODEL_bbf8dba3b9474eb5aa6618aa309c684e",
       "value": "config.json: 100%"
      }
     },
     "cad7178c76714bc5af6c0dde12417d69": {
      "model_module": "@jupyter-widgets/controls",
      "model_module_version": "1.5.0",
      "model_name": "HTMLModel",
      "state": {
       "_dom_classes": [],
       "_model_module": "@jupyter-widgets/controls",
       "_model_module_version": "1.5.0",
       "_model_name": "HTMLModel",
       "_view_count": null,
       "_view_module": "@jupyter-widgets/controls",
       "_view_module_version": "1.5.0",
       "_view_name": "HTMLView",
       "description": "",
       "description_tooltip": null,
       "layout": "IPY_MODEL_e3637014d2f84908ac9ae578b9fa8dae",
       "placeholder": "​",
       "style": "IPY_MODEL_ec3b14b28e374c679ae30ac39778cc24",
       "value": "model.safetensors: 100%"
      }
     },
     "cad7f59551204a919a8f155bfc2cd384": {
      "model_module": "@jupyter-widgets/controls",
      "model_module_version": "1.5.0",
      "model_name": "HBoxModel",
      "state": {
       "_dom_classes": [],
       "_model_module": "@jupyter-widgets/controls",
       "_model_module_version": "1.5.0",
       "_model_name": "HBoxModel",
       "_view_count": null,
       "_view_module": "@jupyter-widgets/controls",
       "_view_module_version": "1.5.0",
       "_view_name": "HBoxView",
       "box_style": "",
       "children": [
        "IPY_MODEL_5c502b15b3a148e9996cb5a46ff9fcb3",
        "IPY_MODEL_5531ec7a85c847f9b5cf62bb0ddb80f0",
        "IPY_MODEL_f679e750e172464988de7c22c438a860"
       ],
       "layout": "IPY_MODEL_a0525c73c61d4cb29fe39dd393ef2368"
      }
     },
     "cf54aee0c3ea4614b1bd034dd92384e4": {
      "model_module": "@jupyter-widgets/base",
      "model_module_version": "1.2.0",
      "model_name": "LayoutModel",
      "state": {
       "_model_module": "@jupyter-widgets/base",
       "_model_module_version": "1.2.0",
       "_model_name": "LayoutModel",
       "_view_count": null,
       "_view_module": "@jupyter-widgets/base",
       "_view_module_version": "1.2.0",
       "_view_name": "LayoutView",
       "align_content": null,
       "align_items": null,
       "align_self": null,
       "border": null,
       "bottom": null,
       "display": null,
       "flex": null,
       "flex_flow": null,
       "grid_area": null,
       "grid_auto_columns": null,
       "grid_auto_flow": null,
       "grid_auto_rows": null,
       "grid_column": null,
       "grid_gap": null,
       "grid_row": null,
       "grid_template_areas": null,
       "grid_template_columns": null,
       "grid_template_rows": null,
       "height": null,
       "justify_content": null,
       "justify_items": null,
       "left": null,
       "margin": null,
       "max_height": null,
       "max_width": null,
       "min_height": null,
       "min_width": null,
       "object_fit": null,
       "object_position": null,
       "order": null,
       "overflow": null,
       "overflow_x": null,
       "overflow_y": null,
       "padding": null,
       "right": null,
       "top": null,
       "visibility": null,
       "width": null
      }
     },
     "d51822e8058c4834958fe9f1247b20a7": {
      "model_module": "@jupyter-widgets/base",
      "model_module_version": "1.2.0",
      "model_name": "LayoutModel",
      "state": {
       "_model_module": "@jupyter-widgets/base",
       "_model_module_version": "1.2.0",
       "_model_name": "LayoutModel",
       "_view_count": null,
       "_view_module": "@jupyter-widgets/base",
       "_view_module_version": "1.2.0",
       "_view_name": "LayoutView",
       "align_content": null,
       "align_items": null,
       "align_self": null,
       "border": null,
       "bottom": null,
       "display": null,
       "flex": null,
       "flex_flow": null,
       "grid_area": null,
       "grid_auto_columns": null,
       "grid_auto_flow": null,
       "grid_auto_rows": null,
       "grid_column": null,
       "grid_gap": null,
       "grid_row": null,
       "grid_template_areas": null,
       "grid_template_columns": null,
       "grid_template_rows": null,
       "height": null,
       "justify_content": null,
       "justify_items": null,
       "left": null,
       "margin": null,
       "max_height": null,
       "max_width": null,
       "min_height": null,
       "min_width": null,
       "object_fit": null,
       "object_position": null,
       "order": null,
       "overflow": null,
       "overflow_x": null,
       "overflow_y": null,
       "padding": null,
       "right": null,
       "top": null,
       "visibility": null,
       "width": null
      }
     },
     "d6057c500cfb416d8cec5d3c0fd87156": {
      "model_module": "@jupyter-widgets/controls",
      "model_module_version": "1.5.0",
      "model_name": "ProgressStyleModel",
      "state": {
       "_model_module": "@jupyter-widgets/controls",
       "_model_module_version": "1.5.0",
       "_model_name": "ProgressStyleModel",
       "_view_count": null,
       "_view_module": "@jupyter-widgets/base",
       "_view_module_version": "1.2.0",
       "_view_name": "StyleView",
       "bar_color": null,
       "description_width": ""
      }
     },
     "db3b58260877421eb5132eab8db56005": {
      "model_module": "@jupyter-widgets/controls",
      "model_module_version": "1.5.0",
      "model_name": "HBoxModel",
      "state": {
       "_dom_classes": [],
       "_model_module": "@jupyter-widgets/controls",
       "_model_module_version": "1.5.0",
       "_model_name": "HBoxModel",
       "_view_count": null,
       "_view_module": "@jupyter-widgets/controls",
       "_view_module_version": "1.5.0",
       "_view_name": "HBoxView",
       "box_style": "",
       "children": [
        "IPY_MODEL_cad7178c76714bc5af6c0dde12417d69",
        "IPY_MODEL_8afea1ce573741f980119565c0d57482",
        "IPY_MODEL_de371662aacb45d1b865299544dcc1d5"
       ],
       "layout": "IPY_MODEL_f754df5e91a4492d8ad9e4582124dd39"
      }
     },
     "de371662aacb45d1b865299544dcc1d5": {
      "model_module": "@jupyter-widgets/controls",
      "model_module_version": "1.5.0",
      "model_name": "HTMLModel",
      "state": {
       "_dom_classes": [],
       "_model_module": "@jupyter-widgets/controls",
       "_model_module_version": "1.5.0",
       "_model_name": "HTMLModel",
       "_view_count": null,
       "_view_module": "@jupyter-widgets/controls",
       "_view_module_version": "1.5.0",
       "_view_name": "HTMLView",
       "description": "",
       "description_tooltip": null,
       "layout": "IPY_MODEL_d51822e8058c4834958fe9f1247b20a7",
       "placeholder": "​",
       "style": "IPY_MODEL_b2a5bd0c560d4e94a1d86f9345d7c93b",
       "value": " 346M/346M [00:01&lt;00:00, 347MB/s]"
      }
     },
     "e3637014d2f84908ac9ae578b9fa8dae": {
      "model_module": "@jupyter-widgets/base",
      "model_module_version": "1.2.0",
      "model_name": "LayoutModel",
      "state": {
       "_model_module": "@jupyter-widgets/base",
       "_model_module_version": "1.2.0",
       "_model_name": "LayoutModel",
       "_view_count": null,
       "_view_module": "@jupyter-widgets/base",
       "_view_module_version": "1.2.0",
       "_view_name": "LayoutView",
       "align_content": null,
       "align_items": null,
       "align_self": null,
       "border": null,
       "bottom": null,
       "display": null,
       "flex": null,
       "flex_flow": null,
       "grid_area": null,
       "grid_auto_columns": null,
       "grid_auto_flow": null,
       "grid_auto_rows": null,
       "grid_column": null,
       "grid_gap": null,
       "grid_row": null,
       "grid_template_areas": null,
       "grid_template_columns": null,
       "grid_template_rows": null,
       "height": null,
       "justify_content": null,
       "justify_items": null,
       "left": null,
       "margin": null,
       "max_height": null,
       "max_width": null,
       "min_height": null,
       "min_width": null,
       "object_fit": null,
       "object_position": null,
       "order": null,
       "overflow": null,
       "overflow_x": null,
       "overflow_y": null,
       "padding": null,
       "right": null,
       "top": null,
       "visibility": null,
       "width": null
      }
     },
     "eb90dd6657dc4322b1c3298d040b355f": {
      "model_module": "@jupyter-widgets/base",
      "model_module_version": "1.2.0",
      "model_name": "LayoutModel",
      "state": {
       "_model_module": "@jupyter-widgets/base",
       "_model_module_version": "1.2.0",
       "_model_name": "LayoutModel",
       "_view_count": null,
       "_view_module": "@jupyter-widgets/base",
       "_view_module_version": "1.2.0",
       "_view_name": "LayoutView",
       "align_content": null,
       "align_items": null,
       "align_self": null,
       "border": null,
       "bottom": null,
       "display": null,
       "flex": null,
       "flex_flow": null,
       "grid_area": null,
       "grid_auto_columns": null,
       "grid_auto_flow": null,
       "grid_auto_rows": null,
       "grid_column": null,
       "grid_gap": null,
       "grid_row": null,
       "grid_template_areas": null,
       "grid_template_columns": null,
       "grid_template_rows": null,
       "height": null,
       "justify_content": null,
       "justify_items": null,
       "left": null,
       "margin": null,
       "max_height": null,
       "max_width": null,
       "min_height": null,
       "min_width": null,
       "object_fit": null,
       "object_position": null,
       "order": null,
       "overflow": null,
       "overflow_x": null,
       "overflow_y": null,
       "padding": null,
       "right": null,
       "top": null,
       "visibility": null,
       "width": null
      }
     },
     "ec3b14b28e374c679ae30ac39778cc24": {
      "model_module": "@jupyter-widgets/controls",
      "model_module_version": "1.5.0",
      "model_name": "DescriptionStyleModel",
      "state": {
       "_model_module": "@jupyter-widgets/controls",
       "_model_module_version": "1.5.0",
       "_model_name": "DescriptionStyleModel",
       "_view_count": null,
       "_view_module": "@jupyter-widgets/base",
       "_view_module_version": "1.2.0",
       "_view_name": "StyleView",
       "description_width": ""
      }
     },
     "ee27730bd60f4e0dab42d66ebc4d2a96": {
      "model_module": "@jupyter-widgets/base",
      "model_module_version": "1.2.0",
      "model_name": "LayoutModel",
      "state": {
       "_model_module": "@jupyter-widgets/base",
       "_model_module_version": "1.2.0",
       "_model_name": "LayoutModel",
       "_view_count": null,
       "_view_module": "@jupyter-widgets/base",
       "_view_module_version": "1.2.0",
       "_view_name": "LayoutView",
       "align_content": null,
       "align_items": null,
       "align_self": null,
       "border": null,
       "bottom": null,
       "display": null,
       "flex": null,
       "flex_flow": null,
       "grid_area": null,
       "grid_auto_columns": null,
       "grid_auto_flow": null,
       "grid_auto_rows": null,
       "grid_column": null,
       "grid_gap": null,
       "grid_row": null,
       "grid_template_areas": null,
       "grid_template_columns": null,
       "grid_template_rows": null,
       "height": null,
       "justify_content": null,
       "justify_items": null,
       "left": null,
       "margin": null,
       "max_height": null,
       "max_width": null,
       "min_height": null,
       "min_width": null,
       "object_fit": null,
       "object_position": null,
       "order": null,
       "overflow": null,
       "overflow_x": null,
       "overflow_y": null,
       "padding": null,
       "right": null,
       "top": null,
       "visibility": null,
       "width": null
      }
     },
     "f094161c52424f7b9879d6a23aa91927": {
      "model_module": "@jupyter-widgets/controls",
      "model_module_version": "1.5.0",
      "model_name": "HBoxModel",
      "state": {
       "_dom_classes": [],
       "_model_module": "@jupyter-widgets/controls",
       "_model_module_version": "1.5.0",
       "_model_name": "HBoxModel",
       "_view_count": null,
       "_view_module": "@jupyter-widgets/controls",
       "_view_module_version": "1.5.0",
       "_view_name": "HBoxView",
       "box_style": "",
       "children": [
        "IPY_MODEL_c4347521175b45dca1f148fd728ad03e",
        "IPY_MODEL_2bd32382d3a74a9d962422dbedd69c54",
        "IPY_MODEL_844a390632424ce999f825ce4a23dd7b"
       ],
       "layout": "IPY_MODEL_cf54aee0c3ea4614b1bd034dd92384e4"
      }
     },
     "f679e750e172464988de7c22c438a860": {
      "model_module": "@jupyter-widgets/controls",
      "model_module_version": "1.5.0",
      "model_name": "HTMLModel",
      "state": {
       "_dom_classes": [],
       "_model_module": "@jupyter-widgets/controls",
       "_model_module_version": "1.5.0",
       "_model_name": "HTMLModel",
       "_view_count": null,
       "_view_module": "@jupyter-widgets/controls",
       "_view_module_version": "1.5.0",
       "_view_name": "HTMLView",
       "description": "",
       "description_tooltip": null,
       "layout": "IPY_MODEL_af53bfd927be46af9b66da6cc9955274",
       "placeholder": "​",
       "style": "IPY_MODEL_453b673c360748ec8da2220cb92ed811",
       "value": " 160/160 [00:00&lt;00:00, 13.6kB/s]"
      }
     },
     "f754df5e91a4492d8ad9e4582124dd39": {
      "model_module": "@jupyter-widgets/base",
      "model_module_version": "1.2.0",
      "model_name": "LayoutModel",
      "state": {
       "_model_module": "@jupyter-widgets/base",
       "_model_module_version": "1.2.0",
       "_model_name": "LayoutModel",
       "_view_count": null,
       "_view_module": "@jupyter-widgets/base",
       "_view_module_version": "1.2.0",
       "_view_name": "LayoutView",
       "align_content": null,
       "align_items": null,
       "align_self": null,
       "border": null,
       "bottom": null,
       "display": null,
       "flex": null,
       "flex_flow": null,
       "grid_area": null,
       "grid_auto_columns": null,
       "grid_auto_flow": null,
       "grid_auto_rows": null,
       "grid_column": null,
       "grid_gap": null,
       "grid_row": null,
       "grid_template_areas": null,
       "grid_template_columns": null,
       "grid_template_rows": null,
       "height": null,
       "justify_content": null,
       "justify_items": null,
       "left": null,
       "margin": null,
       "max_height": null,
       "max_width": null,
       "min_height": null,
       "min_width": null,
       "object_fit": null,
       "object_position": null,
       "order": null,
       "overflow": null,
       "overflow_x": null,
       "overflow_y": null,
       "padding": null,
       "right": null,
       "top": null,
       "visibility": null,
       "width": null
      }
     },
     "fd884d261aa4413da54bda7e89bd57da": {
      "model_module": "@jupyter-widgets/controls",
      "model_module_version": "1.5.0",
      "model_name": "ProgressStyleModel",
      "state": {
       "_model_module": "@jupyter-widgets/controls",
       "_model_module_version": "1.5.0",
       "_model_name": "ProgressStyleModel",
       "_view_count": null,
       "_view_module": "@jupyter-widgets/base",
       "_view_module_version": "1.2.0",
       "_view_name": "StyleView",
       "bar_color": null,
       "description_width": ""
      }
     }
    },
    "version_major": 2,
    "version_minor": 0
   }
  }
 },
 "nbformat": 4,
 "nbformat_minor": 5
}
